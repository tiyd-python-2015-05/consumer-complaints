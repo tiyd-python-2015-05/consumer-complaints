{
 "cells": [
  {
   "cell_type": "code",
   "execution_count": 1,
   "metadata": {
    "collapsed": true
   },
   "outputs": [],
   "source": [
    "import pandas as pd\n",
    "import numpy as np\n",
    "import matplotlib.pyplot as plt\n",
    "import seaborn as sns"
   ]
  },
  {
   "cell_type": "code",
   "execution_count": 2,
   "metadata": {
    "collapsed": true
   },
   "outputs": [],
   "source": [
    "%matplotlib inline"
   ]
  },
  {
   "cell_type": "code",
   "execution_count": 3,
   "metadata": {
    "collapsed": false
   },
   "outputs": [],
   "source": [
    "complaints = pd.read_csv(\"Consumer_Complaints.csv\", dtype={'ZIP code': object,\n",
    "                                                           'Sub-issue': object})"
   ]
  },
  {
   "cell_type": "code",
   "execution_count": 4,
   "metadata": {
    "collapsed": false
   },
   "outputs": [
    {
     "data": {
      "text/html": [
       "<div style=\"max-height:1000px;max-width:1500px;overflow:auto;\">\n",
       "<table border=\"1\" class=\"dataframe\">\n",
       "  <thead>\n",
       "    <tr style=\"text-align: right;\">\n",
       "      <th></th>\n",
       "      <th>Complaint ID</th>\n",
       "      <th>Product</th>\n",
       "      <th>Sub-product</th>\n",
       "      <th>Issue</th>\n",
       "      <th>Sub-issue</th>\n",
       "      <th>State</th>\n",
       "      <th>ZIP code</th>\n",
       "      <th>Submitted via</th>\n",
       "      <th>Date received</th>\n",
       "      <th>Date sent to company</th>\n",
       "      <th>Company</th>\n",
       "      <th>Company response</th>\n",
       "      <th>Timely response?</th>\n",
       "      <th>Consumer disputed?</th>\n",
       "    </tr>\n",
       "  </thead>\n",
       "  <tbody>\n",
       "    <tr>\n",
       "      <th>0</th>\n",
       "      <td>1388734</td>\n",
       "      <td>Mortgage</td>\n",
       "      <td>Conventional adjustable mortgage (ARM)</td>\n",
       "      <td>Loan servicing, payments, escrow account</td>\n",
       "      <td>NaN</td>\n",
       "      <td>VA</td>\n",
       "      <td>22204</td>\n",
       "      <td>Web</td>\n",
       "      <td>05/22/2015</td>\n",
       "      <td>05/22/2015</td>\n",
       "      <td>Green Tree Servicing, LLC</td>\n",
       "      <td>Closed with explanation</td>\n",
       "      <td>Yes</td>\n",
       "      <td>NaN</td>\n",
       "    </tr>\n",
       "    <tr>\n",
       "      <th>1</th>\n",
       "      <td>1389303</td>\n",
       "      <td>Consumer loan</td>\n",
       "      <td>Vehicle loan</td>\n",
       "      <td>Taking out the loan or lease</td>\n",
       "      <td>NaN</td>\n",
       "      <td>MO</td>\n",
       "      <td>63304</td>\n",
       "      <td>Web</td>\n",
       "      <td>05/22/2015</td>\n",
       "      <td>05/22/2015</td>\n",
       "      <td>Ally Financial Inc.</td>\n",
       "      <td>In progress</td>\n",
       "      <td>Yes</td>\n",
       "      <td>NaN</td>\n",
       "    </tr>\n",
       "    <tr>\n",
       "      <th>2</th>\n",
       "      <td>1389676</td>\n",
       "      <td>Consumer loan</td>\n",
       "      <td>Vehicle lease</td>\n",
       "      <td>Problems when you are unable to pay</td>\n",
       "      <td>NaN</td>\n",
       "      <td>FL</td>\n",
       "      <td>33414</td>\n",
       "      <td>Web</td>\n",
       "      <td>05/22/2015</td>\n",
       "      <td>05/22/2015</td>\n",
       "      <td>Ally Financial Inc.</td>\n",
       "      <td>In progress</td>\n",
       "      <td>Yes</td>\n",
       "      <td>NaN</td>\n",
       "    </tr>\n",
       "    <tr>\n",
       "      <th>3</th>\n",
       "      <td>1388406</td>\n",
       "      <td>Mortgage</td>\n",
       "      <td>Conventional fixed mortgage</td>\n",
       "      <td>Loan servicing, payments, escrow account</td>\n",
       "      <td>NaN</td>\n",
       "      <td>NC</td>\n",
       "      <td>27615</td>\n",
       "      <td>Web</td>\n",
       "      <td>05/22/2015</td>\n",
       "      <td>05/22/2015</td>\n",
       "      <td>Navy FCU</td>\n",
       "      <td>In progress</td>\n",
       "      <td>Yes</td>\n",
       "      <td>NaN</td>\n",
       "    </tr>\n",
       "    <tr>\n",
       "      <th>4</th>\n",
       "      <td>1388470</td>\n",
       "      <td>Consumer loan</td>\n",
       "      <td>Installment loan</td>\n",
       "      <td>Managing the loan or lease</td>\n",
       "      <td>NaN</td>\n",
       "      <td>MA</td>\n",
       "      <td>01474</td>\n",
       "      <td>Phone</td>\n",
       "      <td>05/22/2015</td>\n",
       "      <td>05/22/2015</td>\n",
       "      <td>Santander Bank US</td>\n",
       "      <td>In progress</td>\n",
       "      <td>Yes</td>\n",
       "      <td>NaN</td>\n",
       "    </tr>\n",
       "  </tbody>\n",
       "</table>\n",
       "</div>"
      ],
      "text/plain": [
       "   Complaint ID        Product                             Sub-product  \\\n",
       "0       1388734       Mortgage  Conventional adjustable mortgage (ARM)   \n",
       "1       1389303  Consumer loan                            Vehicle loan   \n",
       "2       1389676  Consumer loan                           Vehicle lease   \n",
       "3       1388406       Mortgage             Conventional fixed mortgage   \n",
       "4       1388470  Consumer loan                        Installment loan   \n",
       "\n",
       "                                      Issue Sub-issue State ZIP code  \\\n",
       "0  Loan servicing, payments, escrow account       NaN    VA    22204   \n",
       "1              Taking out the loan or lease       NaN    MO    63304   \n",
       "2       Problems when you are unable to pay       NaN    FL    33414   \n",
       "3  Loan servicing, payments, escrow account       NaN    NC    27615   \n",
       "4                Managing the loan or lease       NaN    MA    01474   \n",
       "\n",
       "  Submitted via Date received Date sent to company                    Company  \\\n",
       "0           Web    05/22/2015           05/22/2015  Green Tree Servicing, LLC   \n",
       "1           Web    05/22/2015           05/22/2015        Ally Financial Inc.   \n",
       "2           Web    05/22/2015           05/22/2015        Ally Financial Inc.   \n",
       "3           Web    05/22/2015           05/22/2015                   Navy FCU   \n",
       "4         Phone    05/22/2015           05/22/2015          Santander Bank US   \n",
       "\n",
       "          Company response Timely response? Consumer disputed?  \n",
       "0  Closed with explanation              Yes                NaN  \n",
       "1              In progress              Yes                NaN  \n",
       "2              In progress              Yes                NaN  \n",
       "3              In progress              Yes                NaN  \n",
       "4              In progress              Yes                NaN  "
      ]
     },
     "execution_count": 4,
     "metadata": {},
     "output_type": "execute_result"
    }
   ],
   "source": [
    "complaints.head()"
   ]
  },
  {
   "cell_type": "code",
   "execution_count": 5,
   "metadata": {
    "collapsed": true
   },
   "outputs": [],
   "source": [
    "complaints = complaints.rename(columns=lambda x: x.replace(' ', '_'))"
   ]
  },
  {
   "cell_type": "code",
   "execution_count": 6,
   "metadata": {
    "collapsed": false
   },
   "outputs": [
    {
     "data": {
      "text/html": [
       "<div style=\"max-height:1000px;max-width:1500px;overflow:auto;\">\n",
       "<table border=\"1\" class=\"dataframe\">\n",
       "  <thead>\n",
       "    <tr style=\"text-align: right;\">\n",
       "      <th></th>\n",
       "      <th>Complaint_ID</th>\n",
       "      <th>Product</th>\n",
       "      <th>Sub-product</th>\n",
       "      <th>Issue</th>\n",
       "      <th>Sub-issue</th>\n",
       "      <th>State</th>\n",
       "      <th>ZIP_code</th>\n",
       "      <th>Submitted_via</th>\n",
       "      <th>Date_received</th>\n",
       "      <th>Date_sent_to_company</th>\n",
       "      <th>Company</th>\n",
       "      <th>Company_response</th>\n",
       "      <th>Timely_response?</th>\n",
       "      <th>Consumer_disputed?</th>\n",
       "    </tr>\n",
       "  </thead>\n",
       "  <tbody>\n",
       "    <tr>\n",
       "      <th>0</th>\n",
       "      <td>1388734</td>\n",
       "      <td>Mortgage</td>\n",
       "      <td>Conventional adjustable mortgage (ARM)</td>\n",
       "      <td>Loan servicing, payments, escrow account</td>\n",
       "      <td>NaN</td>\n",
       "      <td>VA</td>\n",
       "      <td>22204</td>\n",
       "      <td>Web</td>\n",
       "      <td>05/22/2015</td>\n",
       "      <td>05/22/2015</td>\n",
       "      <td>Green Tree Servicing, LLC</td>\n",
       "      <td>Closed with explanation</td>\n",
       "      <td>Yes</td>\n",
       "      <td>NaN</td>\n",
       "    </tr>\n",
       "    <tr>\n",
       "      <th>1</th>\n",
       "      <td>1389303</td>\n",
       "      <td>Consumer loan</td>\n",
       "      <td>Vehicle loan</td>\n",
       "      <td>Taking out the loan or lease</td>\n",
       "      <td>NaN</td>\n",
       "      <td>MO</td>\n",
       "      <td>63304</td>\n",
       "      <td>Web</td>\n",
       "      <td>05/22/2015</td>\n",
       "      <td>05/22/2015</td>\n",
       "      <td>Ally Financial Inc.</td>\n",
       "      <td>In progress</td>\n",
       "      <td>Yes</td>\n",
       "      <td>NaN</td>\n",
       "    </tr>\n",
       "    <tr>\n",
       "      <th>2</th>\n",
       "      <td>1389676</td>\n",
       "      <td>Consumer loan</td>\n",
       "      <td>Vehicle lease</td>\n",
       "      <td>Problems when you are unable to pay</td>\n",
       "      <td>NaN</td>\n",
       "      <td>FL</td>\n",
       "      <td>33414</td>\n",
       "      <td>Web</td>\n",
       "      <td>05/22/2015</td>\n",
       "      <td>05/22/2015</td>\n",
       "      <td>Ally Financial Inc.</td>\n",
       "      <td>In progress</td>\n",
       "      <td>Yes</td>\n",
       "      <td>NaN</td>\n",
       "    </tr>\n",
       "    <tr>\n",
       "      <th>3</th>\n",
       "      <td>1388406</td>\n",
       "      <td>Mortgage</td>\n",
       "      <td>Conventional fixed mortgage</td>\n",
       "      <td>Loan servicing, payments, escrow account</td>\n",
       "      <td>NaN</td>\n",
       "      <td>NC</td>\n",
       "      <td>27615</td>\n",
       "      <td>Web</td>\n",
       "      <td>05/22/2015</td>\n",
       "      <td>05/22/2015</td>\n",
       "      <td>Navy FCU</td>\n",
       "      <td>In progress</td>\n",
       "      <td>Yes</td>\n",
       "      <td>NaN</td>\n",
       "    </tr>\n",
       "    <tr>\n",
       "      <th>4</th>\n",
       "      <td>1388470</td>\n",
       "      <td>Consumer loan</td>\n",
       "      <td>Installment loan</td>\n",
       "      <td>Managing the loan or lease</td>\n",
       "      <td>NaN</td>\n",
       "      <td>MA</td>\n",
       "      <td>01474</td>\n",
       "      <td>Phone</td>\n",
       "      <td>05/22/2015</td>\n",
       "      <td>05/22/2015</td>\n",
       "      <td>Santander Bank US</td>\n",
       "      <td>In progress</td>\n",
       "      <td>Yes</td>\n",
       "      <td>NaN</td>\n",
       "    </tr>\n",
       "  </tbody>\n",
       "</table>\n",
       "</div>"
      ],
      "text/plain": [
       "   Complaint_ID        Product                             Sub-product  \\\n",
       "0       1388734       Mortgage  Conventional adjustable mortgage (ARM)   \n",
       "1       1389303  Consumer loan                            Vehicle loan   \n",
       "2       1389676  Consumer loan                           Vehicle lease   \n",
       "3       1388406       Mortgage             Conventional fixed mortgage   \n",
       "4       1388470  Consumer loan                        Installment loan   \n",
       "\n",
       "                                      Issue Sub-issue State ZIP_code  \\\n",
       "0  Loan servicing, payments, escrow account       NaN    VA    22204   \n",
       "1              Taking out the loan or lease       NaN    MO    63304   \n",
       "2       Problems when you are unable to pay       NaN    FL    33414   \n",
       "3  Loan servicing, payments, escrow account       NaN    NC    27615   \n",
       "4                Managing the loan or lease       NaN    MA    01474   \n",
       "\n",
       "  Submitted_via Date_received Date_sent_to_company                    Company  \\\n",
       "0           Web    05/22/2015           05/22/2015  Green Tree Servicing, LLC   \n",
       "1           Web    05/22/2015           05/22/2015        Ally Financial Inc.   \n",
       "2           Web    05/22/2015           05/22/2015        Ally Financial Inc.   \n",
       "3           Web    05/22/2015           05/22/2015                   Navy FCU   \n",
       "4         Phone    05/22/2015           05/22/2015          Santander Bank US   \n",
       "\n",
       "          Company_response Timely_response? Consumer_disputed?  \n",
       "0  Closed with explanation              Yes                NaN  \n",
       "1              In progress              Yes                NaN  \n",
       "2              In progress              Yes                NaN  \n",
       "3              In progress              Yes                NaN  \n",
       "4              In progress              Yes                NaN  "
      ]
     },
     "execution_count": 6,
     "metadata": {},
     "output_type": "execute_result"
    }
   ],
   "source": [
    "complaints.head()"
   ]
  },
  {
   "cell_type": "code",
   "execution_count": 7,
   "metadata": {
    "collapsed": false
   },
   "outputs": [
    {
     "name": "stdout",
     "output_type": "stream",
     "text": [
      "<class 'pandas.core.frame.DataFrame'>\n",
      "Int64Index: 395853 entries, 0 to 395852\n",
      "Data columns (total 14 columns):\n",
      "Complaint_ID            395853 non-null int64\n",
      "Product                 395853 non-null object\n",
      "Sub-product             271830 non-null object\n",
      "Issue                   395847 non-null object\n",
      "Sub-issue               122938 non-null object\n",
      "State                   390362 non-null object\n",
      "ZIP_code                391368 non-null object\n",
      "Submitted_via           395853 non-null object\n",
      "Date_received           395853 non-null object\n",
      "Date_sent_to_company    395853 non-null object\n",
      "Company                 395853 non-null object\n",
      "Company_response        395853 non-null object\n",
      "Timely_response?        395853 non-null object\n",
      "Consumer_disputed?      364266 non-null object\n",
      "dtypes: int64(1), object(13)\n",
      "memory usage: 45.3+ MB\n"
     ]
    }
   ],
   "source": [
    "complaints.info()"
   ]
  },
  {
   "cell_type": "code",
   "execution_count": 8,
   "metadata": {
    "collapsed": false
   },
   "outputs": [],
   "source": [
    "complaints.index = pd.to_datetime(complaints.pop('Date_received'), format=\"%m/%d/%Y\")"
   ]
  },
  {
   "cell_type": "code",
   "execution_count": 9,
   "metadata": {
    "collapsed": false
   },
   "outputs": [],
   "source": [
    "complaints_data = complaints[['Product', 'Sub-product', 'State', 'ZIP_code', 'Company', \\\n",
    "                             'Company_response', 'Timely_response?']]"
   ]
  },
  {
   "cell_type": "code",
   "execution_count": 10,
   "metadata": {
    "collapsed": false
   },
   "outputs": [
    {
     "data": {
      "text/html": [
       "<div style=\"max-height:1000px;max-width:1500px;overflow:auto;\">\n",
       "<table border=\"1\" class=\"dataframe\">\n",
       "  <thead>\n",
       "    <tr style=\"text-align: right;\">\n",
       "      <th></th>\n",
       "      <th>Product</th>\n",
       "      <th>Sub-product</th>\n",
       "      <th>State</th>\n",
       "      <th>ZIP_code</th>\n",
       "      <th>Company</th>\n",
       "      <th>Company_response</th>\n",
       "      <th>Timely_response?</th>\n",
       "    </tr>\n",
       "    <tr>\n",
       "      <th>Date_received</th>\n",
       "      <th></th>\n",
       "      <th></th>\n",
       "      <th></th>\n",
       "      <th></th>\n",
       "      <th></th>\n",
       "      <th></th>\n",
       "      <th></th>\n",
       "    </tr>\n",
       "  </thead>\n",
       "  <tbody>\n",
       "    <tr>\n",
       "      <th>2015-05-22</th>\n",
       "      <td>Mortgage</td>\n",
       "      <td>Conventional adjustable mortgage (ARM)</td>\n",
       "      <td>VA</td>\n",
       "      <td>22204</td>\n",
       "      <td>Green Tree Servicing, LLC</td>\n",
       "      <td>Closed with explanation</td>\n",
       "      <td>Yes</td>\n",
       "    </tr>\n",
       "    <tr>\n",
       "      <th>2015-05-22</th>\n",
       "      <td>Consumer loan</td>\n",
       "      <td>Vehicle loan</td>\n",
       "      <td>MO</td>\n",
       "      <td>63304</td>\n",
       "      <td>Ally Financial Inc.</td>\n",
       "      <td>In progress</td>\n",
       "      <td>Yes</td>\n",
       "    </tr>\n",
       "    <tr>\n",
       "      <th>2015-05-22</th>\n",
       "      <td>Consumer loan</td>\n",
       "      <td>Vehicle lease</td>\n",
       "      <td>FL</td>\n",
       "      <td>33414</td>\n",
       "      <td>Ally Financial Inc.</td>\n",
       "      <td>In progress</td>\n",
       "      <td>Yes</td>\n",
       "    </tr>\n",
       "    <tr>\n",
       "      <th>2015-05-22</th>\n",
       "      <td>Mortgage</td>\n",
       "      <td>Conventional fixed mortgage</td>\n",
       "      <td>NC</td>\n",
       "      <td>27615</td>\n",
       "      <td>Navy FCU</td>\n",
       "      <td>In progress</td>\n",
       "      <td>Yes</td>\n",
       "    </tr>\n",
       "    <tr>\n",
       "      <th>2015-05-22</th>\n",
       "      <td>Consumer loan</td>\n",
       "      <td>Installment loan</td>\n",
       "      <td>MA</td>\n",
       "      <td>01474</td>\n",
       "      <td>Santander Bank US</td>\n",
       "      <td>In progress</td>\n",
       "      <td>Yes</td>\n",
       "    </tr>\n",
       "  </tbody>\n",
       "</table>\n",
       "</div>"
      ],
      "text/plain": [
       "                     Product                             Sub-product State  \\\n",
       "Date_received                                                                \n",
       "2015-05-22          Mortgage  Conventional adjustable mortgage (ARM)    VA   \n",
       "2015-05-22     Consumer loan                            Vehicle loan    MO   \n",
       "2015-05-22     Consumer loan                           Vehicle lease    FL   \n",
       "2015-05-22          Mortgage             Conventional fixed mortgage    NC   \n",
       "2015-05-22     Consumer loan                        Installment loan    MA   \n",
       "\n",
       "              ZIP_code                    Company         Company_response  \\\n",
       "Date_received                                                                \n",
       "2015-05-22       22204  Green Tree Servicing, LLC  Closed with explanation   \n",
       "2015-05-22       63304        Ally Financial Inc.              In progress   \n",
       "2015-05-22       33414        Ally Financial Inc.              In progress   \n",
       "2015-05-22       27615                   Navy FCU              In progress   \n",
       "2015-05-22       01474          Santander Bank US              In progress   \n",
       "\n",
       "              Timely_response?  \n",
       "Date_received                   \n",
       "2015-05-22                 Yes  \n",
       "2015-05-22                 Yes  \n",
       "2015-05-22                 Yes  \n",
       "2015-05-22                 Yes  \n",
       "2015-05-22                 Yes  "
      ]
     },
     "execution_count": 10,
     "metadata": {},
     "output_type": "execute_result"
    }
   ],
   "source": [
    "complaints_data.head()"
   ]
  },
  {
   "cell_type": "code",
   "execution_count": 11,
   "metadata": {
    "collapsed": true
   },
   "outputs": [],
   "source": [
    "product = complaints_data.groupby(\"Product\")"
   ]
  },
  {
   "cell_type": "code",
   "execution_count": 12,
   "metadata": {
    "collapsed": false
   },
   "outputs": [
    {
     "data": {
      "text/html": [
       "<div style=\"max-height:1000px;max-width:1500px;overflow:auto;\">\n",
       "<table border=\"1\" class=\"dataframe\">\n",
       "  <thead>\n",
       "    <tr style=\"text-align: right;\">\n",
       "      <th></th>\n",
       "      <th>Product</th>\n",
       "      <th>Sub-product</th>\n",
       "      <th>State</th>\n",
       "      <th>ZIP_code</th>\n",
       "      <th>Company</th>\n",
       "      <th>Company_response</th>\n",
       "      <th>Timely_response?</th>\n",
       "    </tr>\n",
       "    <tr>\n",
       "      <th>Date_received</th>\n",
       "      <th></th>\n",
       "      <th></th>\n",
       "      <th></th>\n",
       "      <th></th>\n",
       "      <th></th>\n",
       "      <th></th>\n",
       "      <th></th>\n",
       "    </tr>\n",
       "  </thead>\n",
       "  <tbody>\n",
       "    <tr>\n",
       "      <th>2015-05-22</th>\n",
       "      <td>Mortgage</td>\n",
       "      <td>Conventional adjustable mortgage (ARM)</td>\n",
       "      <td>VA</td>\n",
       "      <td>22204</td>\n",
       "      <td>Green Tree Servicing, LLC</td>\n",
       "      <td>Closed with explanation</td>\n",
       "      <td>Yes</td>\n",
       "    </tr>\n",
       "    <tr>\n",
       "      <th>2015-05-22</th>\n",
       "      <td>Consumer loan</td>\n",
       "      <td>Vehicle loan</td>\n",
       "      <td>MO</td>\n",
       "      <td>63304</td>\n",
       "      <td>Ally Financial Inc.</td>\n",
       "      <td>In progress</td>\n",
       "      <td>Yes</td>\n",
       "    </tr>\n",
       "    <tr>\n",
       "      <th>2015-05-22</th>\n",
       "      <td>Consumer loan</td>\n",
       "      <td>Vehicle lease</td>\n",
       "      <td>FL</td>\n",
       "      <td>33414</td>\n",
       "      <td>Ally Financial Inc.</td>\n",
       "      <td>In progress</td>\n",
       "      <td>Yes</td>\n",
       "    </tr>\n",
       "    <tr>\n",
       "      <th>2015-05-22</th>\n",
       "      <td>Mortgage</td>\n",
       "      <td>Conventional fixed mortgage</td>\n",
       "      <td>NC</td>\n",
       "      <td>27615</td>\n",
       "      <td>Navy FCU</td>\n",
       "      <td>In progress</td>\n",
       "      <td>Yes</td>\n",
       "    </tr>\n",
       "    <tr>\n",
       "      <th>2015-05-22</th>\n",
       "      <td>Consumer loan</td>\n",
       "      <td>Installment loan</td>\n",
       "      <td>MA</td>\n",
       "      <td>01474</td>\n",
       "      <td>Santander Bank US</td>\n",
       "      <td>In progress</td>\n",
       "      <td>Yes</td>\n",
       "    </tr>\n",
       "    <tr>\n",
       "      <th>2015-05-22</th>\n",
       "      <td>Debt collection</td>\n",
       "      <td>Medical</td>\n",
       "      <td>KY</td>\n",
       "      <td>41522</td>\n",
       "      <td>GLA Collection Company, Inc.</td>\n",
       "      <td>Closed with explanation</td>\n",
       "      <td>Yes</td>\n",
       "    </tr>\n",
       "    <tr>\n",
       "      <th>2015-05-22</th>\n",
       "      <td>Debt collection</td>\n",
       "      <td>Medical</td>\n",
       "      <td>IL</td>\n",
       "      <td>62684</td>\n",
       "      <td>Transworld Systems Inc.</td>\n",
       "      <td>In progress</td>\n",
       "      <td>Yes</td>\n",
       "    </tr>\n",
       "    <tr>\n",
       "      <th>2015-05-22</th>\n",
       "      <td>Debt collection</td>\n",
       "      <td>Other (phone, health club, etc.)</td>\n",
       "      <td>DC</td>\n",
       "      <td>20005</td>\n",
       "      <td>PDQ Services, Inc.</td>\n",
       "      <td>Closed with explanation</td>\n",
       "      <td>Yes</td>\n",
       "    </tr>\n",
       "    <tr>\n",
       "      <th>2015-05-21</th>\n",
       "      <td>Debt collection</td>\n",
       "      <td>Other (phone, health club, etc.)</td>\n",
       "      <td>TX</td>\n",
       "      <td>78233</td>\n",
       "      <td>I.C. System, Inc.</td>\n",
       "      <td>Closed with explanation</td>\n",
       "      <td>Yes</td>\n",
       "    </tr>\n",
       "    <tr>\n",
       "      <th>2015-05-21</th>\n",
       "      <td>Debt collection</td>\n",
       "      <td>Medical</td>\n",
       "      <td>KY</td>\n",
       "      <td>40359</td>\n",
       "      <td>GLA Collection Company, Inc.</td>\n",
       "      <td>Closed with explanation</td>\n",
       "      <td>Yes</td>\n",
       "    </tr>\n",
       "    <tr>\n",
       "      <th>2015-05-21</th>\n",
       "      <td>Credit reporting</td>\n",
       "      <td>NaN</td>\n",
       "      <td>NaN</td>\n",
       "      <td>92623</td>\n",
       "      <td>FNIS (Fidelity National Information Services, ...</td>\n",
       "      <td>Closed with explanation</td>\n",
       "      <td>Yes</td>\n",
       "    </tr>\n",
       "    <tr>\n",
       "      <th>2015-05-21</th>\n",
       "      <td>Payday loan</td>\n",
       "      <td>NaN</td>\n",
       "      <td>OR</td>\n",
       "      <td>97214</td>\n",
       "      <td>Red Rock Tribal Lending</td>\n",
       "      <td>Closed with explanation</td>\n",
       "      <td>Yes</td>\n",
       "    </tr>\n",
       "    <tr>\n",
       "      <th>2015-05-21</th>\n",
       "      <td>Mortgage</td>\n",
       "      <td>Conventional fixed mortgage</td>\n",
       "      <td>FL</td>\n",
       "      <td>33173</td>\n",
       "      <td>Home Financing Center</td>\n",
       "      <td>Closed with explanation</td>\n",
       "      <td>Yes</td>\n",
       "    </tr>\n",
       "    <tr>\n",
       "      <th>2015-05-21</th>\n",
       "      <td>Mortgage</td>\n",
       "      <td>Conventional fixed mortgage</td>\n",
       "      <td>LA</td>\n",
       "      <td>70769</td>\n",
       "      <td>Bayview Loan Servicing, LLC</td>\n",
       "      <td>In progress</td>\n",
       "      <td>Yes</td>\n",
       "    </tr>\n",
       "    <tr>\n",
       "      <th>2015-05-21</th>\n",
       "      <td>Consumer loan</td>\n",
       "      <td>Vehicle loan</td>\n",
       "      <td>PA</td>\n",
       "      <td>17055</td>\n",
       "      <td>Ally Financial Inc.</td>\n",
       "      <td>In progress</td>\n",
       "      <td>Yes</td>\n",
       "    </tr>\n",
       "    <tr>\n",
       "      <th>2015-05-21</th>\n",
       "      <td>Mortgage</td>\n",
       "      <td>Home equity loan or line of credit</td>\n",
       "      <td>ID</td>\n",
       "      <td>83313</td>\n",
       "      <td>Flagstar Bank</td>\n",
       "      <td>In progress</td>\n",
       "      <td>Yes</td>\n",
       "    </tr>\n",
       "    <tr>\n",
       "      <th>2015-05-21</th>\n",
       "      <td>Consumer loan</td>\n",
       "      <td>Vehicle lease</td>\n",
       "      <td>MI</td>\n",
       "      <td>49829</td>\n",
       "      <td>Ally Financial Inc.</td>\n",
       "      <td>In progress</td>\n",
       "      <td>Yes</td>\n",
       "    </tr>\n",
       "    <tr>\n",
       "      <th>2015-05-20</th>\n",
       "      <td>Credit reporting</td>\n",
       "      <td>NaN</td>\n",
       "      <td>OH</td>\n",
       "      <td>43615</td>\n",
       "      <td>TransUnion</td>\n",
       "      <td>Closed with non-monetary relief</td>\n",
       "      <td>Yes</td>\n",
       "    </tr>\n",
       "    <tr>\n",
       "      <th>2015-05-20</th>\n",
       "      <td>Credit reporting</td>\n",
       "      <td>NaN</td>\n",
       "      <td>CA</td>\n",
       "      <td>95128</td>\n",
       "      <td>TransUnion</td>\n",
       "      <td>Closed with explanation</td>\n",
       "      <td>Yes</td>\n",
       "    </tr>\n",
       "    <tr>\n",
       "      <th>2015-05-20</th>\n",
       "      <td>Money transfers</td>\n",
       "      <td>International money transfer</td>\n",
       "      <td>PA</td>\n",
       "      <td>19560</td>\n",
       "      <td>MoneyGram</td>\n",
       "      <td>In progress</td>\n",
       "      <td>Yes</td>\n",
       "    </tr>\n",
       "    <tr>\n",
       "      <th>2015-05-20</th>\n",
       "      <td>Credit reporting</td>\n",
       "      <td>NaN</td>\n",
       "      <td>IL</td>\n",
       "      <td>60640</td>\n",
       "      <td>TransUnion</td>\n",
       "      <td>Closed with explanation</td>\n",
       "      <td>Yes</td>\n",
       "    </tr>\n",
       "    <tr>\n",
       "      <th>2015-05-20</th>\n",
       "      <td>Credit reporting</td>\n",
       "      <td>NaN</td>\n",
       "      <td>PA</td>\n",
       "      <td>19126</td>\n",
       "      <td>TransUnion</td>\n",
       "      <td>In progress</td>\n",
       "      <td>Yes</td>\n",
       "    </tr>\n",
       "    <tr>\n",
       "      <th>2015-05-20</th>\n",
       "      <td>Credit card</td>\n",
       "      <td>NaN</td>\n",
       "      <td>UT</td>\n",
       "      <td>84790</td>\n",
       "      <td>U.S. Bancorp</td>\n",
       "      <td>Closed with explanation</td>\n",
       "      <td>Yes</td>\n",
       "    </tr>\n",
       "    <tr>\n",
       "      <th>2015-05-20</th>\n",
       "      <td>Bank account or service</td>\n",
       "      <td>Checking account</td>\n",
       "      <td>OR</td>\n",
       "      <td>97292</td>\n",
       "      <td>Bank of America</td>\n",
       "      <td>In progress</td>\n",
       "      <td>Yes</td>\n",
       "    </tr>\n",
       "    <tr>\n",
       "      <th>2015-05-20</th>\n",
       "      <td>Money transfers</td>\n",
       "      <td>International money transfer</td>\n",
       "      <td>NJ</td>\n",
       "      <td>07712</td>\n",
       "      <td>MoneyGram</td>\n",
       "      <td>In progress</td>\n",
       "      <td>Yes</td>\n",
       "    </tr>\n",
       "    <tr>\n",
       "      <th>2015-05-20</th>\n",
       "      <td>Money transfers</td>\n",
       "      <td>International money transfer</td>\n",
       "      <td>AL</td>\n",
       "      <td>36608</td>\n",
       "      <td>MoneyGram</td>\n",
       "      <td>Closed with explanation</td>\n",
       "      <td>Yes</td>\n",
       "    </tr>\n",
       "    <tr>\n",
       "      <th>2015-05-20</th>\n",
       "      <td>Credit card</td>\n",
       "      <td>NaN</td>\n",
       "      <td>GA</td>\n",
       "      <td>30067</td>\n",
       "      <td>Synovus Bank</td>\n",
       "      <td>Closed with explanation</td>\n",
       "      <td>Yes</td>\n",
       "    </tr>\n",
       "    <tr>\n",
       "      <th>2015-05-19</th>\n",
       "      <td>Bank account or service</td>\n",
       "      <td>Cashing a check without an account</td>\n",
       "      <td>MO</td>\n",
       "      <td>65802</td>\n",
       "      <td>Commerce Bank</td>\n",
       "      <td>In progress</td>\n",
       "      <td>Yes</td>\n",
       "    </tr>\n",
       "    <tr>\n",
       "      <th>2015-05-19</th>\n",
       "      <td>Bank account or service</td>\n",
       "      <td>Other bank product/service</td>\n",
       "      <td>CA</td>\n",
       "      <td>92704</td>\n",
       "      <td>JPMorgan Chase</td>\n",
       "      <td>Closed with explanation</td>\n",
       "      <td>Yes</td>\n",
       "    </tr>\n",
       "    <tr>\n",
       "      <th>2015-05-19</th>\n",
       "      <td>Student loan</td>\n",
       "      <td>Non-federal student loan</td>\n",
       "      <td>NJ</td>\n",
       "      <td>07326</td>\n",
       "      <td>Higher Education Student Assistance Authority ...</td>\n",
       "      <td>Closed with explanation</td>\n",
       "      <td>Yes</td>\n",
       "    </tr>\n",
       "    <tr>\n",
       "      <th>2015-05-19</th>\n",
       "      <td>Bank account or service</td>\n",
       "      <td>Checking account</td>\n",
       "      <td>TN</td>\n",
       "      <td>37013</td>\n",
       "      <td>Wells Fargo</td>\n",
       "      <td>Closed with explanation</td>\n",
       "      <td>Yes</td>\n",
       "    </tr>\n",
       "    <tr>\n",
       "      <th>2015-05-19</th>\n",
       "      <td>Bank account or service</td>\n",
       "      <td>Checking account</td>\n",
       "      <td>CO</td>\n",
       "      <td>80033</td>\n",
       "      <td>Wells Fargo</td>\n",
       "      <td>Closed with explanation</td>\n",
       "      <td>Yes</td>\n",
       "    </tr>\n",
       "    <tr>\n",
       "      <th>2015-05-19</th>\n",
       "      <td>Money transfers</td>\n",
       "      <td>International money transfer</td>\n",
       "      <td>MA</td>\n",
       "      <td>02026</td>\n",
       "      <td>MoneyGram</td>\n",
       "      <td>Closed with explanation</td>\n",
       "      <td>Yes</td>\n",
       "    </tr>\n",
       "    <tr>\n",
       "      <th>2015-05-18</th>\n",
       "      <td>Credit card</td>\n",
       "      <td>NaN</td>\n",
       "      <td>VA</td>\n",
       "      <td>23508</td>\n",
       "      <td>Bank of America</td>\n",
       "      <td>In progress</td>\n",
       "      <td>Yes</td>\n",
       "    </tr>\n",
       "    <tr>\n",
       "      <th>2015-05-18</th>\n",
       "      <td>Credit card</td>\n",
       "      <td>NaN</td>\n",
       "      <td>CA</td>\n",
       "      <td>92025</td>\n",
       "      <td>Amex</td>\n",
       "      <td>Closed with explanation</td>\n",
       "      <td>Yes</td>\n",
       "    </tr>\n",
       "    <tr>\n",
       "      <th>2015-05-18</th>\n",
       "      <td>Credit card</td>\n",
       "      <td>NaN</td>\n",
       "      <td>FL</td>\n",
       "      <td>33573</td>\n",
       "      <td>Amex</td>\n",
       "      <td>Closed with explanation</td>\n",
       "      <td>Yes</td>\n",
       "    </tr>\n",
       "    <tr>\n",
       "      <th>2015-05-18</th>\n",
       "      <td>Money transfers</td>\n",
       "      <td>International money transfer</td>\n",
       "      <td>NJ</td>\n",
       "      <td>07626</td>\n",
       "      <td>MoneyGram</td>\n",
       "      <td>Closed with explanation</td>\n",
       "      <td>Yes</td>\n",
       "    </tr>\n",
       "    <tr>\n",
       "      <th>2015-05-18</th>\n",
       "      <td>Student loan</td>\n",
       "      <td>Non-federal student loan</td>\n",
       "      <td>PA</td>\n",
       "      <td>15210</td>\n",
       "      <td>Transworld Systems Inc.</td>\n",
       "      <td>In progress</td>\n",
       "      <td>Yes</td>\n",
       "    </tr>\n",
       "    <tr>\n",
       "      <th>2015-05-18</th>\n",
       "      <td>Payday loan</td>\n",
       "      <td>NaN</td>\n",
       "      <td>OH</td>\n",
       "      <td>44107</td>\n",
       "      <td>Enova International, Inc.</td>\n",
       "      <td>Closed with explanation</td>\n",
       "      <td>Yes</td>\n",
       "    </tr>\n",
       "    <tr>\n",
       "      <th>2015-05-18</th>\n",
       "      <td>Student loan</td>\n",
       "      <td>Non-federal student loan</td>\n",
       "      <td>NJ</td>\n",
       "      <td>07920</td>\n",
       "      <td>Higher Education Student Assistance Authority ...</td>\n",
       "      <td>Closed with explanation</td>\n",
       "      <td>Yes</td>\n",
       "    </tr>\n",
       "    <tr>\n",
       "      <th>2015-05-18</th>\n",
       "      <td>Student loan</td>\n",
       "      <td>Non-federal student loan</td>\n",
       "      <td>PA</td>\n",
       "      <td>15210</td>\n",
       "      <td>Transworld Systems Inc.</td>\n",
       "      <td>In progress</td>\n",
       "      <td>Yes</td>\n",
       "    </tr>\n",
       "    <tr>\n",
       "      <th>2015-05-18</th>\n",
       "      <td>Student loan</td>\n",
       "      <td>Non-federal student loan</td>\n",
       "      <td>CA</td>\n",
       "      <td>92688</td>\n",
       "      <td>Transworld Systems Inc.</td>\n",
       "      <td>In progress</td>\n",
       "      <td>Yes</td>\n",
       "    </tr>\n",
       "    <tr>\n",
       "      <th>2015-05-14</th>\n",
       "      <td>Payday loan</td>\n",
       "      <td>NaN</td>\n",
       "      <td>IN</td>\n",
       "      <td>47140</td>\n",
       "      <td>CashCall, Inc.</td>\n",
       "      <td>Closed with explanation</td>\n",
       "      <td>Yes</td>\n",
       "    </tr>\n",
       "    <tr>\n",
       "      <th>2015-05-14</th>\n",
       "      <td>Payday loan</td>\n",
       "      <td>NaN</td>\n",
       "      <td>AL</td>\n",
       "      <td>36693</td>\n",
       "      <td>Risecredit, LLC</td>\n",
       "      <td>Closed with explanation</td>\n",
       "      <td>Yes</td>\n",
       "    </tr>\n",
       "    <tr>\n",
       "      <th>2015-05-14</th>\n",
       "      <td>Payday loan</td>\n",
       "      <td>NaN</td>\n",
       "      <td>MO</td>\n",
       "      <td>63118</td>\n",
       "      <td>AmeriCash Holding LLC</td>\n",
       "      <td>Closed with explanation</td>\n",
       "      <td>Yes</td>\n",
       "    </tr>\n",
       "    <tr>\n",
       "      <th>2015-05-13</th>\n",
       "      <td>Prepaid card</td>\n",
       "      <td>General purpose card</td>\n",
       "      <td>CA</td>\n",
       "      <td>91304</td>\n",
       "      <td>Amex</td>\n",
       "      <td>Closed with explanation</td>\n",
       "      <td>Yes</td>\n",
       "    </tr>\n",
       "    <tr>\n",
       "      <th>2015-05-12</th>\n",
       "      <td>Prepaid card</td>\n",
       "      <td>General purpose card</td>\n",
       "      <td>CA</td>\n",
       "      <td>91387</td>\n",
       "      <td>Amex</td>\n",
       "      <td>Closed with explanation</td>\n",
       "      <td>Yes</td>\n",
       "    </tr>\n",
       "    <tr>\n",
       "      <th>2015-05-12</th>\n",
       "      <td>Other financial service</td>\n",
       "      <td>Check cashing</td>\n",
       "      <td>WA</td>\n",
       "      <td>98107</td>\n",
       "      <td>U.S. Bancorp</td>\n",
       "      <td>Closed with explanation</td>\n",
       "      <td>Yes</td>\n",
       "    </tr>\n",
       "    <tr>\n",
       "      <th>2015-05-12</th>\n",
       "      <td>Prepaid card</td>\n",
       "      <td>Gift or merchant card</td>\n",
       "      <td>GA</td>\n",
       "      <td>30047</td>\n",
       "      <td>Citibank</td>\n",
       "      <td>Closed with explanation</td>\n",
       "      <td>Yes</td>\n",
       "    </tr>\n",
       "    <tr>\n",
       "      <th>2015-05-11</th>\n",
       "      <td>Prepaid card</td>\n",
       "      <td>General purpose card</td>\n",
       "      <td>CA</td>\n",
       "      <td>94070</td>\n",
       "      <td>Citibank</td>\n",
       "      <td>Closed with explanation</td>\n",
       "      <td>Yes</td>\n",
       "    </tr>\n",
       "    <tr>\n",
       "      <th>2015-05-10</th>\n",
       "      <td>Prepaid card</td>\n",
       "      <td>Gift or merchant card</td>\n",
       "      <td>GA</td>\n",
       "      <td>30058</td>\n",
       "      <td>Amex</td>\n",
       "      <td>Closed with monetary relief</td>\n",
       "      <td>Yes</td>\n",
       "    </tr>\n",
       "    <tr>\n",
       "      <th>2015-05-08</th>\n",
       "      <td>Other financial service</td>\n",
       "      <td>Money order</td>\n",
       "      <td>GA</td>\n",
       "      <td>30546</td>\n",
       "      <td>Western Union</td>\n",
       "      <td>In progress</td>\n",
       "      <td>Yes</td>\n",
       "    </tr>\n",
       "    <tr>\n",
       "      <th>2015-05-07</th>\n",
       "      <td>Other financial service</td>\n",
       "      <td>Money order</td>\n",
       "      <td>NC</td>\n",
       "      <td>27520</td>\n",
       "      <td>Western Union</td>\n",
       "      <td>In progress</td>\n",
       "      <td>Yes</td>\n",
       "    </tr>\n",
       "    <tr>\n",
       "      <th>2015-05-06</th>\n",
       "      <td>Other financial service</td>\n",
       "      <td>Credit repair</td>\n",
       "      <td>MD</td>\n",
       "      <td>20710</td>\n",
       "      <td>John C. Heath, Attorney at Law, PLLC</td>\n",
       "      <td>Closed with explanation</td>\n",
       "      <td>Yes</td>\n",
       "    </tr>\n",
       "    <tr>\n",
       "      <th>2015-05-06</th>\n",
       "      <td>Other financial service</td>\n",
       "      <td>Foreign currency exchange</td>\n",
       "      <td>WI</td>\n",
       "      <td>53202</td>\n",
       "      <td>Wells Fargo</td>\n",
       "      <td>Closed with explanation</td>\n",
       "      <td>Yes</td>\n",
       "    </tr>\n",
       "  </tbody>\n",
       "</table>\n",
       "</div>"
      ],
      "text/plain": [
       "                               Product  \\\n",
       "Date_received                            \n",
       "2015-05-22                    Mortgage   \n",
       "2015-05-22               Consumer loan   \n",
       "2015-05-22               Consumer loan   \n",
       "2015-05-22                    Mortgage   \n",
       "2015-05-22               Consumer loan   \n",
       "2015-05-22             Debt collection   \n",
       "2015-05-22             Debt collection   \n",
       "2015-05-22             Debt collection   \n",
       "2015-05-21             Debt collection   \n",
       "2015-05-21             Debt collection   \n",
       "2015-05-21            Credit reporting   \n",
       "2015-05-21                 Payday loan   \n",
       "2015-05-21                    Mortgage   \n",
       "2015-05-21                    Mortgage   \n",
       "2015-05-21               Consumer loan   \n",
       "2015-05-21                    Mortgage   \n",
       "2015-05-21               Consumer loan   \n",
       "2015-05-20            Credit reporting   \n",
       "2015-05-20            Credit reporting   \n",
       "2015-05-20             Money transfers   \n",
       "2015-05-20            Credit reporting   \n",
       "2015-05-20            Credit reporting   \n",
       "2015-05-20                 Credit card   \n",
       "2015-05-20     Bank account or service   \n",
       "2015-05-20             Money transfers   \n",
       "2015-05-20             Money transfers   \n",
       "2015-05-20                 Credit card   \n",
       "2015-05-19     Bank account or service   \n",
       "2015-05-19     Bank account or service   \n",
       "2015-05-19                Student loan   \n",
       "2015-05-19     Bank account or service   \n",
       "2015-05-19     Bank account or service   \n",
       "2015-05-19             Money transfers   \n",
       "2015-05-18                 Credit card   \n",
       "2015-05-18                 Credit card   \n",
       "2015-05-18                 Credit card   \n",
       "2015-05-18             Money transfers   \n",
       "2015-05-18                Student loan   \n",
       "2015-05-18                 Payday loan   \n",
       "2015-05-18                Student loan   \n",
       "2015-05-18                Student loan   \n",
       "2015-05-18                Student loan   \n",
       "2015-05-14                 Payday loan   \n",
       "2015-05-14                 Payday loan   \n",
       "2015-05-14                 Payday loan   \n",
       "2015-05-13                Prepaid card   \n",
       "2015-05-12                Prepaid card   \n",
       "2015-05-12     Other financial service   \n",
       "2015-05-12                Prepaid card   \n",
       "2015-05-11                Prepaid card   \n",
       "2015-05-10                Prepaid card   \n",
       "2015-05-08     Other financial service   \n",
       "2015-05-07     Other financial service   \n",
       "2015-05-06     Other financial service   \n",
       "2015-05-06     Other financial service   \n",
       "\n",
       "                                          Sub-product State ZIP_code  \\\n",
       "Date_received                                                          \n",
       "2015-05-22     Conventional adjustable mortgage (ARM)    VA    22204   \n",
       "2015-05-22                               Vehicle loan    MO    63304   \n",
       "2015-05-22                              Vehicle lease    FL    33414   \n",
       "2015-05-22                Conventional fixed mortgage    NC    27615   \n",
       "2015-05-22                           Installment loan    MA    01474   \n",
       "2015-05-22                                    Medical    KY    41522   \n",
       "2015-05-22                                    Medical    IL    62684   \n",
       "2015-05-22           Other (phone, health club, etc.)    DC    20005   \n",
       "2015-05-21           Other (phone, health club, etc.)    TX    78233   \n",
       "2015-05-21                                    Medical    KY    40359   \n",
       "2015-05-21                                        NaN   NaN    92623   \n",
       "2015-05-21                                        NaN    OR    97214   \n",
       "2015-05-21                Conventional fixed mortgage    FL    33173   \n",
       "2015-05-21                Conventional fixed mortgage    LA    70769   \n",
       "2015-05-21                               Vehicle loan    PA    17055   \n",
       "2015-05-21         Home equity loan or line of credit    ID    83313   \n",
       "2015-05-21                              Vehicle lease    MI    49829   \n",
       "2015-05-20                                        NaN    OH    43615   \n",
       "2015-05-20                                        NaN    CA    95128   \n",
       "2015-05-20               International money transfer    PA    19560   \n",
       "2015-05-20                                        NaN    IL    60640   \n",
       "2015-05-20                                        NaN    PA    19126   \n",
       "2015-05-20                                        NaN    UT    84790   \n",
       "2015-05-20                           Checking account    OR    97292   \n",
       "2015-05-20               International money transfer    NJ    07712   \n",
       "2015-05-20               International money transfer    AL    36608   \n",
       "2015-05-20                                        NaN    GA    30067   \n",
       "2015-05-19         Cashing a check without an account    MO    65802   \n",
       "2015-05-19                 Other bank product/service    CA    92704   \n",
       "2015-05-19                   Non-federal student loan    NJ    07326   \n",
       "2015-05-19                           Checking account    TN    37013   \n",
       "2015-05-19                           Checking account    CO    80033   \n",
       "2015-05-19               International money transfer    MA    02026   \n",
       "2015-05-18                                        NaN    VA    23508   \n",
       "2015-05-18                                        NaN    CA    92025   \n",
       "2015-05-18                                        NaN    FL    33573   \n",
       "2015-05-18               International money transfer    NJ    07626   \n",
       "2015-05-18                   Non-federal student loan    PA    15210   \n",
       "2015-05-18                                        NaN    OH    44107   \n",
       "2015-05-18                   Non-federal student loan    NJ    07920   \n",
       "2015-05-18                   Non-federal student loan    PA    15210   \n",
       "2015-05-18                   Non-federal student loan    CA    92688   \n",
       "2015-05-14                                        NaN    IN    47140   \n",
       "2015-05-14                                        NaN    AL    36693   \n",
       "2015-05-14                                        NaN    MO    63118   \n",
       "2015-05-13                       General purpose card    CA    91304   \n",
       "2015-05-12                       General purpose card    CA    91387   \n",
       "2015-05-12                              Check cashing    WA    98107   \n",
       "2015-05-12                      Gift or merchant card    GA    30047   \n",
       "2015-05-11                       General purpose card    CA    94070   \n",
       "2015-05-10                      Gift or merchant card    GA    30058   \n",
       "2015-05-08                                Money order    GA    30546   \n",
       "2015-05-07                                Money order    NC    27520   \n",
       "2015-05-06                              Credit repair    MD    20710   \n",
       "2015-05-06                  Foreign currency exchange    WI    53202   \n",
       "\n",
       "                                                         Company  \\\n",
       "Date_received                                                      \n",
       "2015-05-22                             Green Tree Servicing, LLC   \n",
       "2015-05-22                                   Ally Financial Inc.   \n",
       "2015-05-22                                   Ally Financial Inc.   \n",
       "2015-05-22                                              Navy FCU   \n",
       "2015-05-22                                     Santander Bank US   \n",
       "2015-05-22                          GLA Collection Company, Inc.   \n",
       "2015-05-22                               Transworld Systems Inc.   \n",
       "2015-05-22                                    PDQ Services, Inc.   \n",
       "2015-05-21                                     I.C. System, Inc.   \n",
       "2015-05-21                          GLA Collection Company, Inc.   \n",
       "2015-05-21     FNIS (Fidelity National Information Services, ...   \n",
       "2015-05-21                               Red Rock Tribal Lending   \n",
       "2015-05-21                                 Home Financing Center   \n",
       "2015-05-21                           Bayview Loan Servicing, LLC   \n",
       "2015-05-21                                   Ally Financial Inc.   \n",
       "2015-05-21                                         Flagstar Bank   \n",
       "2015-05-21                                   Ally Financial Inc.   \n",
       "2015-05-20                                            TransUnion   \n",
       "2015-05-20                                            TransUnion   \n",
       "2015-05-20                                             MoneyGram   \n",
       "2015-05-20                                            TransUnion   \n",
       "2015-05-20                                            TransUnion   \n",
       "2015-05-20                                          U.S. Bancorp   \n",
       "2015-05-20                                       Bank of America   \n",
       "2015-05-20                                             MoneyGram   \n",
       "2015-05-20                                             MoneyGram   \n",
       "2015-05-20                                          Synovus Bank   \n",
       "2015-05-19                                         Commerce Bank   \n",
       "2015-05-19                                        JPMorgan Chase   \n",
       "2015-05-19     Higher Education Student Assistance Authority ...   \n",
       "2015-05-19                                           Wells Fargo   \n",
       "2015-05-19                                           Wells Fargo   \n",
       "2015-05-19                                             MoneyGram   \n",
       "2015-05-18                                       Bank of America   \n",
       "2015-05-18                                                  Amex   \n",
       "2015-05-18                                                  Amex   \n",
       "2015-05-18                                             MoneyGram   \n",
       "2015-05-18                               Transworld Systems Inc.   \n",
       "2015-05-18                             Enova International, Inc.   \n",
       "2015-05-18     Higher Education Student Assistance Authority ...   \n",
       "2015-05-18                               Transworld Systems Inc.   \n",
       "2015-05-18                               Transworld Systems Inc.   \n",
       "2015-05-14                                        CashCall, Inc.   \n",
       "2015-05-14                                       Risecredit, LLC   \n",
       "2015-05-14                                 AmeriCash Holding LLC   \n",
       "2015-05-13                                                  Amex   \n",
       "2015-05-12                                                  Amex   \n",
       "2015-05-12                                          U.S. Bancorp   \n",
       "2015-05-12                                              Citibank   \n",
       "2015-05-11                                              Citibank   \n",
       "2015-05-10                                                  Amex   \n",
       "2015-05-08                                         Western Union   \n",
       "2015-05-07                                         Western Union   \n",
       "2015-05-06                  John C. Heath, Attorney at Law, PLLC   \n",
       "2015-05-06                                           Wells Fargo   \n",
       "\n",
       "                              Company_response Timely_response?  \n",
       "Date_received                                                    \n",
       "2015-05-22             Closed with explanation              Yes  \n",
       "2015-05-22                         In progress              Yes  \n",
       "2015-05-22                         In progress              Yes  \n",
       "2015-05-22                         In progress              Yes  \n",
       "2015-05-22                         In progress              Yes  \n",
       "2015-05-22             Closed with explanation              Yes  \n",
       "2015-05-22                         In progress              Yes  \n",
       "2015-05-22             Closed with explanation              Yes  \n",
       "2015-05-21             Closed with explanation              Yes  \n",
       "2015-05-21             Closed with explanation              Yes  \n",
       "2015-05-21             Closed with explanation              Yes  \n",
       "2015-05-21             Closed with explanation              Yes  \n",
       "2015-05-21             Closed with explanation              Yes  \n",
       "2015-05-21                         In progress              Yes  \n",
       "2015-05-21                         In progress              Yes  \n",
       "2015-05-21                         In progress              Yes  \n",
       "2015-05-21                         In progress              Yes  \n",
       "2015-05-20     Closed with non-monetary relief              Yes  \n",
       "2015-05-20             Closed with explanation              Yes  \n",
       "2015-05-20                         In progress              Yes  \n",
       "2015-05-20             Closed with explanation              Yes  \n",
       "2015-05-20                         In progress              Yes  \n",
       "2015-05-20             Closed with explanation              Yes  \n",
       "2015-05-20                         In progress              Yes  \n",
       "2015-05-20                         In progress              Yes  \n",
       "2015-05-20             Closed with explanation              Yes  \n",
       "2015-05-20             Closed with explanation              Yes  \n",
       "2015-05-19                         In progress              Yes  \n",
       "2015-05-19             Closed with explanation              Yes  \n",
       "2015-05-19             Closed with explanation              Yes  \n",
       "2015-05-19             Closed with explanation              Yes  \n",
       "2015-05-19             Closed with explanation              Yes  \n",
       "2015-05-19             Closed with explanation              Yes  \n",
       "2015-05-18                         In progress              Yes  \n",
       "2015-05-18             Closed with explanation              Yes  \n",
       "2015-05-18             Closed with explanation              Yes  \n",
       "2015-05-18             Closed with explanation              Yes  \n",
       "2015-05-18                         In progress              Yes  \n",
       "2015-05-18             Closed with explanation              Yes  \n",
       "2015-05-18             Closed with explanation              Yes  \n",
       "2015-05-18                         In progress              Yes  \n",
       "2015-05-18                         In progress              Yes  \n",
       "2015-05-14             Closed with explanation              Yes  \n",
       "2015-05-14             Closed with explanation              Yes  \n",
       "2015-05-14             Closed with explanation              Yes  \n",
       "2015-05-13             Closed with explanation              Yes  \n",
       "2015-05-12             Closed with explanation              Yes  \n",
       "2015-05-12             Closed with explanation              Yes  \n",
       "2015-05-12             Closed with explanation              Yes  \n",
       "2015-05-11             Closed with explanation              Yes  \n",
       "2015-05-10         Closed with monetary relief              Yes  \n",
       "2015-05-08                         In progress              Yes  \n",
       "2015-05-07                         In progress              Yes  \n",
       "2015-05-06             Closed with explanation              Yes  \n",
       "2015-05-06             Closed with explanation              Yes  "
      ]
     },
     "execution_count": 12,
     "metadata": {},
     "output_type": "execute_result"
    }
   ],
   "source": [
    "product.head()"
   ]
  },
  {
   "cell_type": "code",
   "execution_count": 13,
   "metadata": {
    "collapsed": false
   },
   "outputs": [],
   "source": [
    "count_by_month = complaints_data.Product.resample(\"M\", how=[\"count\"])"
   ]
  },
  {
   "cell_type": "code",
   "execution_count": 14,
   "metadata": {
    "collapsed": false
   },
   "outputs": [],
   "source": [
    "plot_count_month = count_by_month[:-1]"
   ]
  },
  {
   "cell_type": "code",
   "execution_count": 15,
   "metadata": {
    "collapsed": false
   },
   "outputs": [
    {
     "data": {
      "text/plain": [
       "<matplotlib.axes._subplots.AxesSubplot at 0x10e423710>"
      ]
     },
     "execution_count": 15,
     "metadata": {},
     "output_type": "execute_result"
    },
    {
     "data": {
      "image/png": "[encoded data removed]",
      "text/plain": [
       "<matplotlib.figure.Figure at 0x10e42e390>"
      ]
     },
     "metadata": {},
     "output_type": "display_data"
    }
   ],
   "source": [
    "plot_count_month.plot(kind=\"line\", title=\"Complaints by Month\")"
   ]
  },
  {
   "cell_type": "code",
   "execution_count": 16,
   "metadata": {
    "collapsed": false
   },
   "outputs": [
    {
     "data": {
      "text/plain": [
       "<matplotlib.axes._subplots.AxesSubplot at 0x106b57438>"
      ]
     },
     "execution_count": 16,
     "metadata": {},
     "output_type": "execute_result"
    },
    {
     "data": {
      "image/png": "[encoded data removed]",
      "text/plain": [
       "<matplotlib.figure.Figure at 0x106b2da90>"
      ]
     },
     "metadata": {},
     "output_type": "display_data"
    }
   ],
   "source": [
    "complaints_data.Product.value_counts()[9::-1].plot(kind = \"barh\", title=\"Complaints by Product\")"
   ]
  },
  {
   "cell_type": "code",
   "execution_count": 17,
   "metadata": {
    "collapsed": false
   },
   "outputs": [],
   "source": [
    "company_count = complaints_data.Company.value_counts()"
   ]
  },
  {
   "cell_type": "code",
   "execution_count": 18,
   "metadata": {
    "collapsed": false
   },
   "outputs": [
    {
     "data": {
      "text/plain": [
       "<matplotlib.axes._subplots.AxesSubplot at 0x1096096a0>"
      ]
     },
     "execution_count": 18,
     "metadata": {},
     "output_type": "execute_result"
    },
    {
     "data": {
      "image/png": "[encoded data removed]",
      "text/plain": [
       "<matplotlib.figure.Figure at 0x10960bfd0>"
      ]
     },
     "metadata": {},
     "output_type": "display_data"
    }
   ],
   "source": [
    "company_count[9::-1].plot(kind=\"barh\", title= \"Complaints by Company\")"
   ]
  },
  {
   "cell_type": "code",
   "execution_count": 19,
   "metadata": {
    "collapsed": false
   },
   "outputs": [],
   "source": [
    "company_response = complaints_data.Company_response.value_counts()"
   ]
  },
  {
   "cell_type": "code",
   "execution_count": 20,
   "metadata": {
    "collapsed": false
   },
   "outputs": [
    {
     "data": {
      "text/plain": [
       "Closed with explanation            279287\n",
       "Closed with non-monetary relief     50502\n",
       "Closed with monetary relief         28145\n",
       "Closed without relief               17909\n",
       "Closed                               9599\n",
       "Closed with relief                   5305\n",
       "In progress                          3222\n",
       "Untimely response                    1884\n",
       "dtype: int64"
      ]
     },
     "execution_count": 20,
     "metadata": {},
     "output_type": "execute_result"
    }
   ],
   "source": [
    "company_response"
   ]
  },
  {
   "cell_type": "code",
   "execution_count": 21,
   "metadata": {
    "collapsed": false
   },
   "outputs": [
    {
     "data": {
      "text/plain": [
       "<matplotlib.axes._subplots.AxesSubplot at 0x10963a7b8>"
      ]
     },
     "execution_count": 21,
     "metadata": {},
     "output_type": "execute_result"
    },
    {
     "data": {
      "image/png": "[encoded data removed]",
      "text/plain": [
       "<matplotlib.figure.Figure at 0x1098761d0>"
      ]
     },
     "metadata": {},
     "output_type": "display_data"
    }
   ],
   "source": [
    "company_response[9::-1].plot(kind=\"barh\", title=\"Company Response to Complaints\")"
   ]
  },
  {
   "cell_type": "code",
   "execution_count": 22,
   "metadata": {
    "collapsed": false
   },
   "outputs": [
    {
     "name": "stderr",
     "output_type": "stream",
     "text": [
      "/usr/local/lib/python3.4/site-packages/IPython/kernel/__main__.py:1: SettingWithCopyWarning: \n",
      "A value is trying to be set on a copy of a slice from a DataFrame.\n",
      "Try using .loc[row_indexer,col_indexer] = value instead\n",
      "\n",
      "See the the caveats in the documentation: http://pandas.pydata.org/pandas-docs/stable/indexing.html#indexing-view-versus-copy\n",
      "  if __name__ == '__main__':\n"
     ]
    }
   ],
   "source": [
    "complaints_data[\"day_of_week\"] = complaints_data.index.to_series().map(lambda d: d.weekday())"
   ]
  },
  {
   "cell_type": "code",
   "execution_count": 23,
   "metadata": {
    "collapsed": false
   },
   "outputs": [],
   "source": [
    "day_data = complaints_data.day_of_week.value_counts().sort_index()"
   ]
  },
  {
   "cell_type": "code",
   "execution_count": 24,
   "metadata": {
    "collapsed": true
   },
   "outputs": [],
   "source": [
    "dow = [\"M\", \"Tu\", \"W\", \"Th\", \"F\", \"Sa\", \"Su\"]"
   ]
  },
  {
   "cell_type": "code",
   "execution_count": 25,
   "metadata": {
    "collapsed": true
   },
   "outputs": [],
   "source": [
    "day_data.index = dow"
   ]
  },
  {
   "cell_type": "code",
   "execution_count": 26,
   "metadata": {
    "collapsed": false
   },
   "outputs": [
    {
     "data": {
      "text/plain": [
       "<matplotlib.axes._subplots.AxesSubplot at 0x103a8f0b8>"
      ]
     },
     "execution_count": 26,
     "metadata": {},
     "output_type": "execute_result"
    },
    {
     "data": {
      "image/png": "[encoded data removed]",
      "text/plain": [
       "<matplotlib.figure.Figure at 0x109634d68>"
      ]
     },
     "metadata": {},
     "output_type": "display_data"
    }
   ],
   "source": [
    "day_data.plot(kind=\"bar\", title=\"Complaints by Day of Week\")"
   ]
  },
  {
   "cell_type": "code",
   "execution_count": 27,
   "metadata": {
    "collapsed": false
   },
   "outputs": [],
   "source": [
    "data_by_day = complaints_data.Product.resample(\"D\", how=[\"count\"])"
   ]
  },
  {
   "cell_type": "code",
   "execution_count": 28,
   "metadata": {
    "collapsed": false
   },
   "outputs": [],
   "source": [
    "data_by_day[\"day_of_week\"] = data_by_day.index.to_series().map(lambda d: d.weekday())"
   ]
  },
  {
   "cell_type": "code",
   "execution_count": 29,
   "metadata": {
    "collapsed": false
   },
   "outputs": [
    {
     "data": {
      "text/html": [
       "<div style=\"max-height:1000px;max-width:1500px;overflow:auto;\">\n",
       "<table border=\"1\" class=\"dataframe\">\n",
       "  <thead>\n",
       "    <tr style=\"text-align: right;\">\n",
       "      <th></th>\n",
       "      <th>count</th>\n",
       "      <th>day_of_week</th>\n",
       "    </tr>\n",
       "    <tr>\n",
       "      <th>Date_received</th>\n",
       "      <th></th>\n",
       "      <th></th>\n",
       "    </tr>\n",
       "  </thead>\n",
       "  <tbody>\n",
       "    <tr>\n",
       "      <th>2011-12-01</th>\n",
       "      <td>136</td>\n",
       "      <td>3</td>\n",
       "    </tr>\n",
       "    <tr>\n",
       "      <th>2011-12-02</th>\n",
       "      <td>130</td>\n",
       "      <td>4</td>\n",
       "    </tr>\n",
       "    <tr>\n",
       "      <th>2011-12-03</th>\n",
       "      <td>25</td>\n",
       "      <td>5</td>\n",
       "    </tr>\n",
       "    <tr>\n",
       "      <th>2011-12-04</th>\n",
       "      <td>25</td>\n",
       "      <td>6</td>\n",
       "    </tr>\n",
       "    <tr>\n",
       "      <th>2011-12-05</th>\n",
       "      <td>183</td>\n",
       "      <td>0</td>\n",
       "    </tr>\n",
       "  </tbody>\n",
       "</table>\n",
       "</div>"
      ],
      "text/plain": [
       "               count  day_of_week\n",
       "Date_received                    \n",
       "2011-12-01       136            3\n",
       "2011-12-02       130            4\n",
       "2011-12-03        25            5\n",
       "2011-12-04        25            6\n",
       "2011-12-05       183            0"
      ]
     },
     "execution_count": 29,
     "metadata": {},
     "output_type": "execute_result"
    }
   ],
   "source": [
    "data_by_day.head()"
   ]
  },
  {
   "cell_type": "code",
   "execution_count": 30,
   "metadata": {
    "collapsed": false
   },
   "outputs": [],
   "source": [
    "new_data_by_day = data_by_day.groupby(\"day_of_week\").mean()"
   ]
  },
  {
   "cell_type": "code",
   "execution_count": 31,
   "metadata": {
    "collapsed": false
   },
   "outputs": [
    {
     "data": {
      "text/html": [
       "<div style=\"max-height:1000px;max-width:1500px;overflow:auto;\">\n",
       "<table border=\"1\" class=\"dataframe\">\n",
       "  <thead>\n",
       "    <tr style=\"text-align: right;\">\n",
       "      <th></th>\n",
       "      <th>count</th>\n",
       "    </tr>\n",
       "    <tr>\n",
       "      <th>day_of_week</th>\n",
       "      <th></th>\n",
       "    </tr>\n",
       "  </thead>\n",
       "  <tbody>\n",
       "    <tr>\n",
       "      <th>0</th>\n",
       "      <td>396.204420</td>\n",
       "    </tr>\n",
       "    <tr>\n",
       "      <th>1</th>\n",
       "      <td>412.082873</td>\n",
       "    </tr>\n",
       "    <tr>\n",
       "      <th>2</th>\n",
       "      <td>422.933702</td>\n",
       "    </tr>\n",
       "    <tr>\n",
       "      <th>3</th>\n",
       "      <td>402.219780</td>\n",
       "    </tr>\n",
       "    <tr>\n",
       "      <th>4</th>\n",
       "      <td>353.186813</td>\n",
       "    </tr>\n",
       "    <tr>\n",
       "      <th>5</th>\n",
       "      <td>106.154696</td>\n",
       "    </tr>\n",
       "    <tr>\n",
       "      <th>6</th>\n",
       "      <td>90.077348</td>\n",
       "    </tr>\n",
       "  </tbody>\n",
       "</table>\n",
       "</div>"
      ],
      "text/plain": [
       "                  count\n",
       "day_of_week            \n",
       "0            396.204420\n",
       "1            412.082873\n",
       "2            422.933702\n",
       "3            402.219780\n",
       "4            353.186813\n",
       "5            106.154696\n",
       "6             90.077348"
      ]
     },
     "execution_count": 31,
     "metadata": {},
     "output_type": "execute_result"
    }
   ],
   "source": [
    "new_data_by_day"
   ]
  },
  {
   "cell_type": "code",
   "execution_count": 32,
   "metadata": {
    "collapsed": true
   },
   "outputs": [],
   "source": [
    "new_data_by_day.index = dow"
   ]
  },
  {
   "cell_type": "code",
   "execution_count": 33,
   "metadata": {
    "collapsed": false
   },
   "outputs": [
    {
     "data": {
      "text/html": [
       "<div style=\"max-height:1000px;max-width:1500px;overflow:auto;\">\n",
       "<table border=\"1\" class=\"dataframe\">\n",
       "  <thead>\n",
       "    <tr style=\"text-align: right;\">\n",
       "      <th></th>\n",
       "      <th>count</th>\n",
       "    </tr>\n",
       "  </thead>\n",
       "  <tbody>\n",
       "    <tr>\n",
       "      <th>M</th>\n",
       "      <td>396.204420</td>\n",
       "    </tr>\n",
       "    <tr>\n",
       "      <th>Tu</th>\n",
       "      <td>412.082873</td>\n",
       "    </tr>\n",
       "    <tr>\n",
       "      <th>W</th>\n",
       "      <td>422.933702</td>\n",
       "    </tr>\n",
       "    <tr>\n",
       "      <th>Th</th>\n",
       "      <td>402.219780</td>\n",
       "    </tr>\n",
       "    <tr>\n",
       "      <th>F</th>\n",
       "      <td>353.186813</td>\n",
       "    </tr>\n",
       "    <tr>\n",
       "      <th>Sa</th>\n",
       "      <td>106.154696</td>\n",
       "    </tr>\n",
       "    <tr>\n",
       "      <th>Su</th>\n",
       "      <td>90.077348</td>\n",
       "    </tr>\n",
       "  </tbody>\n",
       "</table>\n",
       "</div>"
      ],
      "text/plain": [
       "         count\n",
       "M   396.204420\n",
       "Tu  412.082873\n",
       "W   422.933702\n",
       "Th  402.219780\n",
       "F   353.186813\n",
       "Sa  106.154696\n",
       "Su   90.077348"
      ]
     },
     "execution_count": 33,
     "metadata": {},
     "output_type": "execute_result"
    }
   ],
   "source": [
    "new_data_by_day"
   ]
  },
  {
   "cell_type": "code",
   "execution_count": 34,
   "metadata": {
    "collapsed": false
   },
   "outputs": [
    {
     "data": {
      "text/plain": [
       "<matplotlib.axes._subplots.AxesSubplot at 0x103a78be0>"
      ]
     },
     "execution_count": 34,
     "metadata": {},
     "output_type": "execute_result"
    },
    {
     "data": {
      "image/png": "[encoded data removed]",
      "text/plain": [
       "<matplotlib.figure.Figure at 0x1099946d8>"
      ]
     },
     "metadata": {},
     "output_type": "display_data"
    }
   ],
   "source": [
    "new_data_by_day.plot(kind=\"bar\", title=\"Mean Number of Complaints by Day of Week\")"
   ]
  },
  {
   "cell_type": "code",
   "execution_count": 35,
   "metadata": {
    "collapsed": false
   },
   "outputs": [],
   "source": [
    "state_data = complaints_data.State.value_counts().sort_index()"
   ]
  },
  {
   "cell_type": "code",
   "execution_count": 36,
   "metadata": {
    "collapsed": false
   },
   "outputs": [
    {
     "data": {
      "text/plain": [
       "<matplotlib.axes._subplots.AxesSubplot at 0x11940ed68>"
      ]
     },
     "execution_count": 36,
     "metadata": {},
     "output_type": "execute_result"
    },
    {
     "data": {
      "image/png": "[encoded data removed]",
      "text/plain": [
       "<matplotlib.figure.Figure at 0x11940eda0>"
      ]
     },
     "metadata": {},
     "output_type": "display_data"
    }
   ],
   "source": [
    "plt.figure(figsize=(12, 6))\n",
    "state_data.plot(kind='bar')"
   ]
  },
  {
   "cell_type": "code",
   "execution_count": 37,
   "metadata": {
    "collapsed": false
   },
   "outputs": [
    {
     "data": {
      "text/html": [
       "<div style=\"max-height:1000px;max-width:1500px;overflow:auto;\">\n",
       "<table border=\"1\" class=\"dataframe\">\n",
       "  <thead>\n",
       "    <tr style=\"text-align: right;\">\n",
       "      <th></th>\n",
       "      <th>Unnamed: 0</th>\n",
       "      <th>Census</th>\n",
       "      <th>Estimates Base</th>\n",
       "      <th>2010</th>\n",
       "      <th>2011</th>\n",
       "      <th>2012</th>\n",
       "      <th>2013</th>\n",
       "      <th>2014</th>\n",
       "    </tr>\n",
       "  </thead>\n",
       "  <tbody>\n",
       "    <tr>\n",
       "      <th>0</th>\n",
       "      <td>United States</td>\n",
       "      <td>308,745,538</td>\n",
       "      <td>308,758,105</td>\n",
       "      <td>309,347,057</td>\n",
       "      <td>311,721,632</td>\n",
       "      <td>314,112,078</td>\n",
       "      <td>316,497,531</td>\n",
       "      <td>318,857,056</td>\n",
       "    </tr>\n",
       "    <tr>\n",
       "      <th>1</th>\n",
       "      <td>Northeast</td>\n",
       "      <td>55,317,240</td>\n",
       "      <td>55,318,348</td>\n",
       "      <td>55,381,690</td>\n",
       "      <td>55,635,670</td>\n",
       "      <td>55,832,038</td>\n",
       "      <td>56,028,220</td>\n",
       "      <td>56,152,333</td>\n",
       "    </tr>\n",
       "    <tr>\n",
       "      <th>2</th>\n",
       "      <td>Midwest</td>\n",
       "      <td>66,927,001</td>\n",
       "      <td>66,929,898</td>\n",
       "      <td>66,972,390</td>\n",
       "      <td>67,149,657</td>\n",
       "      <td>67,331,458</td>\n",
       "      <td>67,567,871</td>\n",
       "      <td>67,745,108</td>\n",
       "    </tr>\n",
       "    <tr>\n",
       "      <th>3</th>\n",
       "      <td>South</td>\n",
       "      <td>114,555,744</td>\n",
       "      <td>114,562,951</td>\n",
       "      <td>114,871,231</td>\n",
       "      <td>116,089,908</td>\n",
       "      <td>117,346,322</td>\n",
       "      <td>118,522,802</td>\n",
       "      <td>119,771,934</td>\n",
       "    </tr>\n",
       "    <tr>\n",
       "      <th>4</th>\n",
       "      <td>West</td>\n",
       "      <td>71,945,553</td>\n",
       "      <td>71,946,908</td>\n",
       "      <td>72,121,746</td>\n",
       "      <td>72,846,397</td>\n",
       "      <td>73,602,260</td>\n",
       "      <td>74,378,638</td>\n",
       "      <td>75,187,681</td>\n",
       "    </tr>\n",
       "    <tr>\n",
       "      <th>5</th>\n",
       "      <td>.Alabama</td>\n",
       "      <td>4,779,736</td>\n",
       "      <td>4,780,127</td>\n",
       "      <td>4,785,822</td>\n",
       "      <td>4,801,695</td>\n",
       "      <td>4,817,484</td>\n",
       "      <td>4,833,996</td>\n",
       "      <td>4,849,377</td>\n",
       "    </tr>\n",
       "    <tr>\n",
       "      <th>6</th>\n",
       "      <td>.Alaska</td>\n",
       "      <td>710,231</td>\n",
       "      <td>710,249</td>\n",
       "      <td>713,856</td>\n",
       "      <td>722,572</td>\n",
       "      <td>731,081</td>\n",
       "      <td>737,259</td>\n",
       "      <td>736,732</td>\n",
       "    </tr>\n",
       "    <tr>\n",
       "      <th>7</th>\n",
       "      <td>.Arizona</td>\n",
       "      <td>6,392,017</td>\n",
       "      <td>6,392,310</td>\n",
       "      <td>6,411,999</td>\n",
       "      <td>6,472,867</td>\n",
       "      <td>6,556,236</td>\n",
       "      <td>6,634,997</td>\n",
       "      <td>6,731,484</td>\n",
       "    </tr>\n",
       "    <tr>\n",
       "      <th>8</th>\n",
       "      <td>.Arkansas</td>\n",
       "      <td>2,915,918</td>\n",
       "      <td>2,915,958</td>\n",
       "      <td>2,922,297</td>\n",
       "      <td>2,938,430</td>\n",
       "      <td>2,949,300</td>\n",
       "      <td>2,958,765</td>\n",
       "      <td>2,966,369</td>\n",
       "    </tr>\n",
       "    <tr>\n",
       "      <th>9</th>\n",
       "      <td>.California</td>\n",
       "      <td>37,253,956</td>\n",
       "      <td>37,254,503</td>\n",
       "      <td>37,336,011</td>\n",
       "      <td>37,701,901</td>\n",
       "      <td>38,062,780</td>\n",
       "      <td>38,431,393</td>\n",
       "      <td>38,802,500</td>\n",
       "    </tr>\n",
       "  </tbody>\n",
       "</table>\n",
       "</div>"
      ],
      "text/plain": [
       "      Unnamed: 0       Census Estimates Base         2010         2011  \\\n",
       "0  United States  308,745,538    308,758,105  309,347,057  311,721,632   \n",
       "1      Northeast   55,317,240     55,318,348   55,381,690   55,635,670   \n",
       "2        Midwest   66,927,001     66,929,898   66,972,390   67,149,657   \n",
       "3          South  114,555,744    114,562,951  114,871,231  116,089,908   \n",
       "4           West   71,945,553     71,946,908   72,121,746   72,846,397   \n",
       "5       .Alabama    4,779,736      4,780,127    4,785,822    4,801,695   \n",
       "6        .Alaska      710,231        710,249      713,856      722,572   \n",
       "7       .Arizona    6,392,017      6,392,310    6,411,999    6,472,867   \n",
       "8      .Arkansas    2,915,918      2,915,958    2,922,297    2,938,430   \n",
       "9    .California   37,253,956     37,254,503   37,336,011   37,701,901   \n",
       "\n",
       "          2012         2013         2014  \n",
       "0  314,112,078  316,497,531  318,857,056  \n",
       "1   55,832,038   56,028,220   56,152,333  \n",
       "2   67,331,458   67,567,871   67,745,108  \n",
       "3  117,346,322  118,522,802  119,771,934  \n",
       "4   73,602,260   74,378,638   75,187,681  \n",
       "5    4,817,484    4,833,996    4,849,377  \n",
       "6      731,081      737,259      736,732  \n",
       "7    6,556,236    6,634,997    6,731,484  \n",
       "8    2,949,300    2,958,765    2,966,369  \n",
       "9   38,062,780   38,431,393   38,802,500  "
      ]
     },
     "execution_count": 37,
     "metadata": {},
     "output_type": "execute_result"
    }
   ],
   "source": [
    "census = pd.read_csv(\"NST-EST2014-01.csv\", header=3)\n",
    "census.head(10)"
   ]
  },
  {
   "cell_type": "code",
   "execution_count": 38,
   "metadata": {
    "collapsed": false
   },
   "outputs": [
    {
     "data": {
      "text/html": [
       "<div style=\"max-height:1000px;max-width:1500px;overflow:auto;\">\n",
       "<table border=\"1\" class=\"dataframe\">\n",
       "  <thead>\n",
       "    <tr style=\"text-align: right;\">\n",
       "      <th></th>\n",
       "      <th>Unnamed: 0</th>\n",
       "      <th>Census</th>\n",
       "      <th>Estimates Base</th>\n",
       "      <th>2010</th>\n",
       "      <th>2011</th>\n",
       "      <th>2012</th>\n",
       "      <th>2013</th>\n",
       "      <th>2014</th>\n",
       "    </tr>\n",
       "  </thead>\n",
       "  <tbody>\n",
       "    <tr>\n",
       "      <th>5</th>\n",
       "      <td>.Alabama</td>\n",
       "      <td>4,779,736</td>\n",
       "      <td>4,780,127</td>\n",
       "      <td>4,785,822</td>\n",
       "      <td>4,801,695</td>\n",
       "      <td>4,817,484</td>\n",
       "      <td>4,833,996</td>\n",
       "      <td>4,849,377</td>\n",
       "    </tr>\n",
       "    <tr>\n",
       "      <th>6</th>\n",
       "      <td>.Alaska</td>\n",
       "      <td>710,231</td>\n",
       "      <td>710,249</td>\n",
       "      <td>713,856</td>\n",
       "      <td>722,572</td>\n",
       "      <td>731,081</td>\n",
       "      <td>737,259</td>\n",
       "      <td>736,732</td>\n",
       "    </tr>\n",
       "    <tr>\n",
       "      <th>7</th>\n",
       "      <td>.Arizona</td>\n",
       "      <td>6,392,017</td>\n",
       "      <td>6,392,310</td>\n",
       "      <td>6,411,999</td>\n",
       "      <td>6,472,867</td>\n",
       "      <td>6,556,236</td>\n",
       "      <td>6,634,997</td>\n",
       "      <td>6,731,484</td>\n",
       "    </tr>\n",
       "    <tr>\n",
       "      <th>8</th>\n",
       "      <td>.Arkansas</td>\n",
       "      <td>2,915,918</td>\n",
       "      <td>2,915,958</td>\n",
       "      <td>2,922,297</td>\n",
       "      <td>2,938,430</td>\n",
       "      <td>2,949,300</td>\n",
       "      <td>2,958,765</td>\n",
       "      <td>2,966,369</td>\n",
       "    </tr>\n",
       "    <tr>\n",
       "      <th>9</th>\n",
       "      <td>.California</td>\n",
       "      <td>37,253,956</td>\n",
       "      <td>37,254,503</td>\n",
       "      <td>37,336,011</td>\n",
       "      <td>37,701,901</td>\n",
       "      <td>38,062,780</td>\n",
       "      <td>38,431,393</td>\n",
       "      <td>38,802,500</td>\n",
       "    </tr>\n",
       "  </tbody>\n",
       "</table>\n",
       "</div>"
      ],
      "text/plain": [
       "    Unnamed: 0      Census Estimates Base        2010        2011        2012  \\\n",
       "5     .Alabama   4,779,736      4,780,127   4,785,822   4,801,695   4,817,484   \n",
       "6      .Alaska     710,231        710,249     713,856     722,572     731,081   \n",
       "7     .Arizona   6,392,017      6,392,310   6,411,999   6,472,867   6,556,236   \n",
       "8    .Arkansas   2,915,918      2,915,958   2,922,297   2,938,430   2,949,300   \n",
       "9  .California  37,253,956     37,254,503  37,336,011  37,701,901  38,062,780   \n",
       "\n",
       "         2013        2014  \n",
       "5   4,833,996   4,849,377  \n",
       "6     737,259     736,732  \n",
       "7   6,634,997   6,731,484  \n",
       "8   2,958,765   2,966,369  \n",
       "9  38,431,393  38,802,500  "
      ]
     },
     "execution_count": 38,
     "metadata": {},
     "output_type": "execute_result"
    }
   ],
   "source": [
    "states = census[5:]\n",
    "states.head()"
   ]
  },
  {
   "cell_type": "code",
   "execution_count": 39,
   "metadata": {
    "collapsed": false
   },
   "outputs": [],
   "source": [
    "states = states.dropna()"
   ]
  },
  {
   "cell_type": "code",
   "execution_count": 40,
   "metadata": {
    "collapsed": false
   },
   "outputs": [],
   "source": [
    "states = states.rename(columns={\"Unnamed: 0\": \"State\"})"
   ]
  },
  {
   "cell_type": "code",
   "execution_count": 41,
   "metadata": {
    "collapsed": false
   },
   "outputs": [],
   "source": [
    "states.State = states.State.map(lambda name: name[1:] if name.startswith(\".\") else name)"
   ]
  },
  {
   "cell_type": "code",
   "execution_count": 42,
   "metadata": {
    "collapsed": false
   },
   "outputs": [
    {
     "data": {
      "text/html": [
       "<div style=\"max-height:1000px;max-width:1500px;overflow:auto;\">\n",
       "<table border=\"1\" class=\"dataframe\">\n",
       "  <thead>\n",
       "    <tr style=\"text-align: right;\">\n",
       "      <th></th>\n",
       "      <th>State</th>\n",
       "      <th>Census</th>\n",
       "      <th>Estimates Base</th>\n",
       "      <th>2010</th>\n",
       "      <th>2011</th>\n",
       "      <th>2012</th>\n",
       "      <th>2013</th>\n",
       "      <th>2014</th>\n",
       "    </tr>\n",
       "  </thead>\n",
       "  <tbody>\n",
       "    <tr>\n",
       "      <th>5</th>\n",
       "      <td>Alabama</td>\n",
       "      <td>4,779,736</td>\n",
       "      <td>4,780,127</td>\n",
       "      <td>4,785,822</td>\n",
       "      <td>4,801,695</td>\n",
       "      <td>4,817,484</td>\n",
       "      <td>4,833,996</td>\n",
       "      <td>4,849,377</td>\n",
       "    </tr>\n",
       "    <tr>\n",
       "      <th>6</th>\n",
       "      <td>Alaska</td>\n",
       "      <td>710,231</td>\n",
       "      <td>710,249</td>\n",
       "      <td>713,856</td>\n",
       "      <td>722,572</td>\n",
       "      <td>731,081</td>\n",
       "      <td>737,259</td>\n",
       "      <td>736,732</td>\n",
       "    </tr>\n",
       "    <tr>\n",
       "      <th>7</th>\n",
       "      <td>Arizona</td>\n",
       "      <td>6,392,017</td>\n",
       "      <td>6,392,310</td>\n",
       "      <td>6,411,999</td>\n",
       "      <td>6,472,867</td>\n",
       "      <td>6,556,236</td>\n",
       "      <td>6,634,997</td>\n",
       "      <td>6,731,484</td>\n",
       "    </tr>\n",
       "    <tr>\n",
       "      <th>8</th>\n",
       "      <td>Arkansas</td>\n",
       "      <td>2,915,918</td>\n",
       "      <td>2,915,958</td>\n",
       "      <td>2,922,297</td>\n",
       "      <td>2,938,430</td>\n",
       "      <td>2,949,300</td>\n",
       "      <td>2,958,765</td>\n",
       "      <td>2,966,369</td>\n",
       "    </tr>\n",
       "    <tr>\n",
       "      <th>9</th>\n",
       "      <td>California</td>\n",
       "      <td>37,253,956</td>\n",
       "      <td>37,254,503</td>\n",
       "      <td>37,336,011</td>\n",
       "      <td>37,701,901</td>\n",
       "      <td>38,062,780</td>\n",
       "      <td>38,431,393</td>\n",
       "      <td>38,802,500</td>\n",
       "    </tr>\n",
       "  </tbody>\n",
       "</table>\n",
       "</div>"
      ],
      "text/plain": [
       "        State      Census Estimates Base        2010        2011        2012  \\\n",
       "5     Alabama   4,779,736      4,780,127   4,785,822   4,801,695   4,817,484   \n",
       "6      Alaska     710,231        710,249     713,856     722,572     731,081   \n",
       "7     Arizona   6,392,017      6,392,310   6,411,999   6,472,867   6,556,236   \n",
       "8    Arkansas   2,915,918      2,915,958   2,922,297   2,938,430   2,949,300   \n",
       "9  California  37,253,956     37,254,503  37,336,011  37,701,901  38,062,780   \n",
       "\n",
       "         2013        2014  \n",
       "5   4,833,996   4,849,377  \n",
       "6     737,259     736,732  \n",
       "7   6,634,997   6,731,484  \n",
       "8   2,958,765   2,966,369  \n",
       "9  38,431,393  38,802,500  "
      ]
     },
     "execution_count": 42,
     "metadata": {},
     "output_type": "execute_result"
    }
   ],
   "source": [
    "states.head()"
   ]
  },
  {
   "cell_type": "code",
   "execution_count": 43,
   "metadata": {
    "collapsed": true
   },
   "outputs": [],
   "source": [
    "state_abbr = {\n",
    "        'AK': 'Alaska',\n",
    "        'AL': 'Alabama',\n",
    "        'AR': 'Arkansas',\n",
    "        'AS': 'American Samoa',\n",
    "        'AZ': 'Arizona',\n",
    "        'CA': 'California',\n",
    "        'CO': 'Colorado',\n",
    "        'CT': 'Connecticut',\n",
    "        'DC': 'District of Columbia',\n",
    "        'DE': 'Delaware',\n",
    "        'FL': 'Florida',\n",
    "        'GA': 'Georgia',\n",
    "        'GU': 'Guam',\n",
    "        'HI': 'Hawaii',\n",
    "        'IA': 'Iowa',\n",
    "        'ID': 'Idaho',\n",
    "        'IL': 'Illinois',\n",
    "        'IN': 'Indiana',\n",
    "        'KS': 'Kansas',\n",
    "        'KY': 'Kentucky',\n",
    "        'LA': 'Louisiana',\n",
    "        'MA': 'Massachusetts',\n",
    "        'MD': 'Maryland',\n",
    "        'ME': 'Maine',\n",
    "        'MI': 'Michigan',\n",
    "        'MN': 'Minnesota',\n",
    "        'MO': 'Missouri',\n",
    "        'MP': 'Northern Mariana Islands',\n",
    "        'MS': 'Mississippi',\n",
    "        'MT': 'Montana',\n",
    "        'NA': 'National',\n",
    "        'NC': 'North Carolina',\n",
    "        'ND': 'North Dakota',\n",
    "        'NE': 'Nebraska',\n",
    "        'NH': 'New Hampshire',\n",
    "        'NJ': 'New Jersey',\n",
    "        'NM': 'New Mexico',\n",
    "        'NV': 'Nevada',\n",
    "        'NY': 'New York',\n",
    "        'OH': 'Ohio',\n",
    "        'OK': 'Oklahoma',\n",
    "        'OR': 'Oregon',\n",
    "        'PA': 'Pennsylvania',\n",
    "        'PR': 'Puerto Rico',\n",
    "        'RI': 'Rhode Island',\n",
    "        'SC': 'South Carolina',\n",
    "        'SD': 'South Dakota',\n",
    "        'TN': 'Tennessee',\n",
    "        'TX': 'Texas',\n",
    "        'UT': 'Utah',\n",
    "        'VA': 'Virginia',\n",
    "        'VI': 'Virgin Islands',\n",
    "        'VT': 'Vermont',\n",
    "        'WA': 'Washington',\n",
    "        'WI': 'Wisconsin',\n",
    "        'WV': 'West Virginia',\n",
    "        'WY': 'Wyoming'\n",
    "}"
   ]
  },
  {
   "cell_type": "code",
   "execution_count": 44,
   "metadata": {
    "collapsed": true
   },
   "outputs": [],
   "source": [
    "state_to_abbr = {value: key for key, value in state_abbr.items()}"
   ]
  },
  {
   "cell_type": "code",
   "execution_count": 45,
   "metadata": {
    "collapsed": false
   },
   "outputs": [
    {
     "data": {
      "text/plain": [
       "'WY'"
      ]
     },
     "execution_count": 45,
     "metadata": {},
     "output_type": "execute_result"
    }
   ],
   "source": [
    "state_to_abbr[\"Wyoming\"]"
   ]
  },
  {
   "cell_type": "code",
   "execution_count": 46,
   "metadata": {
    "collapsed": false
   },
   "outputs": [],
   "source": [
    "states.State = states.State.map(state_to_abbr)"
   ]
  },
  {
   "cell_type": "code",
   "execution_count": 47,
   "metadata": {
    "collapsed": false
   },
   "outputs": [
    {
     "data": {
      "text/html": [
       "<div style=\"max-height:1000px;max-width:1500px;overflow:auto;\">\n",
       "<table border=\"1\" class=\"dataframe\">\n",
       "  <thead>\n",
       "    <tr style=\"text-align: right;\">\n",
       "      <th></th>\n",
       "      <th>State</th>\n",
       "      <th>Census</th>\n",
       "      <th>Estimates Base</th>\n",
       "      <th>2010</th>\n",
       "      <th>2011</th>\n",
       "      <th>2012</th>\n",
       "      <th>2013</th>\n",
       "      <th>2014</th>\n",
       "    </tr>\n",
       "  </thead>\n",
       "  <tbody>\n",
       "    <tr>\n",
       "      <th>5</th>\n",
       "      <td>AL</td>\n",
       "      <td>4,779,736</td>\n",
       "      <td>4,780,127</td>\n",
       "      <td>4,785,822</td>\n",
       "      <td>4,801,695</td>\n",
       "      <td>4,817,484</td>\n",
       "      <td>4,833,996</td>\n",
       "      <td>4,849,377</td>\n",
       "    </tr>\n",
       "    <tr>\n",
       "      <th>6</th>\n",
       "      <td>AK</td>\n",
       "      <td>710,231</td>\n",
       "      <td>710,249</td>\n",
       "      <td>713,856</td>\n",
       "      <td>722,572</td>\n",
       "      <td>731,081</td>\n",
       "      <td>737,259</td>\n",
       "      <td>736,732</td>\n",
       "    </tr>\n",
       "    <tr>\n",
       "      <th>7</th>\n",
       "      <td>AZ</td>\n",
       "      <td>6,392,017</td>\n",
       "      <td>6,392,310</td>\n",
       "      <td>6,411,999</td>\n",
       "      <td>6,472,867</td>\n",
       "      <td>6,556,236</td>\n",
       "      <td>6,634,997</td>\n",
       "      <td>6,731,484</td>\n",
       "    </tr>\n",
       "    <tr>\n",
       "      <th>8</th>\n",
       "      <td>AR</td>\n",
       "      <td>2,915,918</td>\n",
       "      <td>2,915,958</td>\n",
       "      <td>2,922,297</td>\n",
       "      <td>2,938,430</td>\n",
       "      <td>2,949,300</td>\n",
       "      <td>2,958,765</td>\n",
       "      <td>2,966,369</td>\n",
       "    </tr>\n",
       "    <tr>\n",
       "      <th>9</th>\n",
       "      <td>CA</td>\n",
       "      <td>37,253,956</td>\n",
       "      <td>37,254,503</td>\n",
       "      <td>37,336,011</td>\n",
       "      <td>37,701,901</td>\n",
       "      <td>38,062,780</td>\n",
       "      <td>38,431,393</td>\n",
       "      <td>38,802,500</td>\n",
       "    </tr>\n",
       "  </tbody>\n",
       "</table>\n",
       "</div>"
      ],
      "text/plain": [
       "  State      Census Estimates Base        2010        2011        2012  \\\n",
       "5    AL   4,779,736      4,780,127   4,785,822   4,801,695   4,817,484   \n",
       "6    AK     710,231        710,249     713,856     722,572     731,081   \n",
       "7    AZ   6,392,017      6,392,310   6,411,999   6,472,867   6,556,236   \n",
       "8    AR   2,915,918      2,915,958   2,922,297   2,938,430   2,949,300   \n",
       "9    CA  37,253,956     37,254,503  37,336,011  37,701,901  38,062,780   \n",
       "\n",
       "         2013        2014  \n",
       "5   4,833,996   4,849,377  \n",
       "6     737,259     736,732  \n",
       "7   6,634,997   6,731,484  \n",
       "8   2,958,765   2,966,369  \n",
       "9  38,431,393  38,802,500  "
      ]
     },
     "execution_count": 47,
     "metadata": {},
     "output_type": "execute_result"
    }
   ],
   "source": [
    "states.head()"
   ]
  },
  {
   "cell_type": "code",
   "execution_count": 48,
   "metadata": {
    "collapsed": true
   },
   "outputs": [],
   "source": [
    "states.index = states.State"
   ]
  },
  {
   "cell_type": "code",
   "execution_count": 49,
   "metadata": {
    "collapsed": false
   },
   "outputs": [
    {
     "data": {
      "text/html": [
       "<div style=\"max-height:1000px;max-width:1500px;overflow:auto;\">\n",
       "<table border=\"1\" class=\"dataframe\">\n",
       "  <thead>\n",
       "    <tr style=\"text-align: right;\">\n",
       "      <th></th>\n",
       "      <th>State</th>\n",
       "      <th>Census</th>\n",
       "      <th>Estimates Base</th>\n",
       "      <th>2010</th>\n",
       "      <th>2011</th>\n",
       "      <th>2012</th>\n",
       "      <th>2013</th>\n",
       "      <th>2014</th>\n",
       "    </tr>\n",
       "    <tr>\n",
       "      <th>State</th>\n",
       "      <th></th>\n",
       "      <th></th>\n",
       "      <th></th>\n",
       "      <th></th>\n",
       "      <th></th>\n",
       "      <th></th>\n",
       "      <th></th>\n",
       "      <th></th>\n",
       "    </tr>\n",
       "  </thead>\n",
       "  <tbody>\n",
       "    <tr>\n",
       "      <th>AL</th>\n",
       "      <td>AL</td>\n",
       "      <td>4,779,736</td>\n",
       "      <td>4,780,127</td>\n",
       "      <td>4,785,822</td>\n",
       "      <td>4,801,695</td>\n",
       "      <td>4,817,484</td>\n",
       "      <td>4,833,996</td>\n",
       "      <td>4,849,377</td>\n",
       "    </tr>\n",
       "    <tr>\n",
       "      <th>AK</th>\n",
       "      <td>AK</td>\n",
       "      <td>710,231</td>\n",
       "      <td>710,249</td>\n",
       "      <td>713,856</td>\n",
       "      <td>722,572</td>\n",
       "      <td>731,081</td>\n",
       "      <td>737,259</td>\n",
       "      <td>736,732</td>\n",
       "    </tr>\n",
       "    <tr>\n",
       "      <th>AZ</th>\n",
       "      <td>AZ</td>\n",
       "      <td>6,392,017</td>\n",
       "      <td>6,392,310</td>\n",
       "      <td>6,411,999</td>\n",
       "      <td>6,472,867</td>\n",
       "      <td>6,556,236</td>\n",
       "      <td>6,634,997</td>\n",
       "      <td>6,731,484</td>\n",
       "    </tr>\n",
       "    <tr>\n",
       "      <th>AR</th>\n",
       "      <td>AR</td>\n",
       "      <td>2,915,918</td>\n",
       "      <td>2,915,958</td>\n",
       "      <td>2,922,297</td>\n",
       "      <td>2,938,430</td>\n",
       "      <td>2,949,300</td>\n",
       "      <td>2,958,765</td>\n",
       "      <td>2,966,369</td>\n",
       "    </tr>\n",
       "    <tr>\n",
       "      <th>CA</th>\n",
       "      <td>CA</td>\n",
       "      <td>37,253,956</td>\n",
       "      <td>37,254,503</td>\n",
       "      <td>37,336,011</td>\n",
       "      <td>37,701,901</td>\n",
       "      <td>38,062,780</td>\n",
       "      <td>38,431,393</td>\n",
       "      <td>38,802,500</td>\n",
       "    </tr>\n",
       "  </tbody>\n",
       "</table>\n",
       "</div>"
      ],
      "text/plain": [
       "      State      Census Estimates Base        2010        2011        2012  \\\n",
       "State                                                                        \n",
       "AL       AL   4,779,736      4,780,127   4,785,822   4,801,695   4,817,484   \n",
       "AK       AK     710,231        710,249     713,856     722,572     731,081   \n",
       "AZ       AZ   6,392,017      6,392,310   6,411,999   6,472,867   6,556,236   \n",
       "AR       AR   2,915,918      2,915,958   2,922,297   2,938,430   2,949,300   \n",
       "CA       CA  37,253,956     37,254,503  37,336,011  37,701,901  38,062,780   \n",
       "\n",
       "             2013        2014  \n",
       "State                          \n",
       "AL      4,833,996   4,849,377  \n",
       "AK        737,259     736,732  \n",
       "AZ      6,634,997   6,731,484  \n",
       "AR      2,958,765   2,966,369  \n",
       "CA     38,431,393  38,802,500  "
      ]
     },
     "execution_count": 49,
     "metadata": {},
     "output_type": "execute_result"
    }
   ],
   "source": [
    "states.head()"
   ]
  },
  {
   "cell_type": "code",
   "execution_count": 50,
   "metadata": {
    "collapsed": true
   },
   "outputs": [],
   "source": [
    "states_2014 = states['2014']"
   ]
  },
  {
   "cell_type": "code",
   "execution_count": 51,
   "metadata": {
    "collapsed": false
   },
   "outputs": [
    {
     "data": {
      "text/plain": [
       "State\n",
       "AL     4,849,377\n",
       "AK       736,732\n",
       "AZ     6,731,484\n",
       "AR     2,966,369\n",
       "CA    38,802,500\n",
       "Name: 2014, dtype: object"
      ]
     },
     "execution_count": 51,
     "metadata": {},
     "output_type": "execute_result"
    }
   ],
   "source": [
    "states_2014.head()"
   ]
  },
  {
   "cell_type": "code",
   "execution_count": 52,
   "metadata": {
    "collapsed": false
   },
   "outputs": [
    {
     "data": {
      "text/plain": [
       "AA      10\n",
       "AE     147\n",
       "AK     478\n",
       "AL    3842\n",
       "AP     113\n",
       "dtype: int64"
      ]
     },
     "execution_count": 52,
     "metadata": {},
     "output_type": "execute_result"
    }
   ],
   "source": [
    "state_data.head()"
   ]
  },
  {
   "cell_type": "code",
   "execution_count": 53,
   "metadata": {
    "collapsed": false
   },
   "outputs": [],
   "source": [
    "state_data = state_data.to_frame(name=\"complaints\")"
   ]
  },
  {
   "cell_type": "code",
   "execution_count": 54,
   "metadata": {
    "collapsed": true
   },
   "outputs": [],
   "source": [
    "states_2014 = states_2014.to_frame(name=\"population\")"
   ]
  },
  {
   "cell_type": "code",
   "execution_count": 55,
   "metadata": {
    "collapsed": false
   },
   "outputs": [],
   "source": [
    "state_data = state_data.join(states_2014)"
   ]
  },
  {
   "cell_type": "code",
   "execution_count": 56,
   "metadata": {
    "collapsed": false
   },
   "outputs": [],
   "source": [
    "state_data = state_data.dropna()"
   ]
  },
  {
   "cell_type": "code",
   "execution_count": 57,
   "metadata": {
    "collapsed": false
   },
   "outputs": [
    {
     "data": {
      "text/html": [
       "<div style=\"max-height:1000px;max-width:1500px;overflow:auto;\">\n",
       "<table border=\"1\" class=\"dataframe\">\n",
       "  <thead>\n",
       "    <tr style=\"text-align: right;\">\n",
       "      <th></th>\n",
       "      <th>complaints</th>\n",
       "      <th>population</th>\n",
       "    </tr>\n",
       "  </thead>\n",
       "  <tbody>\n",
       "    <tr>\n",
       "      <th>AK</th>\n",
       "      <td>478</td>\n",
       "      <td>736,732</td>\n",
       "    </tr>\n",
       "    <tr>\n",
       "      <th>AL</th>\n",
       "      <td>3842</td>\n",
       "      <td>4,849,377</td>\n",
       "    </tr>\n",
       "    <tr>\n",
       "      <th>AR</th>\n",
       "      <td>1670</td>\n",
       "      <td>2,966,369</td>\n",
       "    </tr>\n",
       "    <tr>\n",
       "      <th>AZ</th>\n",
       "      <td>8678</td>\n",
       "      <td>6,731,484</td>\n",
       "    </tr>\n",
       "    <tr>\n",
       "      <th>CA</th>\n",
       "      <td>58603</td>\n",
       "      <td>38,802,500</td>\n",
       "    </tr>\n",
       "  </tbody>\n",
       "</table>\n",
       "</div>"
      ],
      "text/plain": [
       "    complaints  population\n",
       "AK         478     736,732\n",
       "AL        3842   4,849,377\n",
       "AR        1670   2,966,369\n",
       "AZ        8678   6,731,484\n",
       "CA       58603  38,802,500"
      ]
     },
     "execution_count": 57,
     "metadata": {},
     "output_type": "execute_result"
    }
   ],
   "source": [
    "state_data.head()"
   ]
  },
  {
   "cell_type": "code",
   "execution_count": 58,
   "metadata": {
    "collapsed": false
   },
   "outputs": [
    {
     "data": {
      "text/plain": [
       "'en_US.UTF-8'"
      ]
     },
     "execution_count": 58,
     "metadata": {},
     "output_type": "execute_result"
    }
   ],
   "source": [
    "# http://stackoverflow.com/questions/1779288/how-do-i-use-python-to-convert-a-string-to-a-number-if-it-has-commas-in-it-as-th\n",
    "import locale\n",
    "locale.setlocale(locale.LC_ALL, 'en_US.UTF-8') "
   ]
  },
  {
   "cell_type": "code",
   "execution_count": 59,
   "metadata": {
    "collapsed": false
   },
   "outputs": [],
   "source": [
    "state_data.population = state_data.population.map(locale.atoi)"
   ]
  },
  {
   "cell_type": "code",
   "execution_count": 60,
   "metadata": {
    "collapsed": false
   },
   "outputs": [
    {
     "data": {
      "text/html": [
       "<div style=\"max-height:1000px;max-width:1500px;overflow:auto;\">\n",
       "<table border=\"1\" class=\"dataframe\">\n",
       "  <thead>\n",
       "    <tr style=\"text-align: right;\">\n",
       "      <th></th>\n",
       "      <th>complaints</th>\n",
       "      <th>population</th>\n",
       "    </tr>\n",
       "  </thead>\n",
       "  <tbody>\n",
       "    <tr>\n",
       "      <th>AK</th>\n",
       "      <td>478</td>\n",
       "      <td>736732</td>\n",
       "    </tr>\n",
       "    <tr>\n",
       "      <th>AL</th>\n",
       "      <td>3842</td>\n",
       "      <td>4849377</td>\n",
       "    </tr>\n",
       "    <tr>\n",
       "      <th>AR</th>\n",
       "      <td>1670</td>\n",
       "      <td>2966369</td>\n",
       "    </tr>\n",
       "    <tr>\n",
       "      <th>AZ</th>\n",
       "      <td>8678</td>\n",
       "      <td>6731484</td>\n",
       "    </tr>\n",
       "    <tr>\n",
       "      <th>CA</th>\n",
       "      <td>58603</td>\n",
       "      <td>38802500</td>\n",
       "    </tr>\n",
       "  </tbody>\n",
       "</table>\n",
       "</div>"
      ],
      "text/plain": [
       "    complaints  population\n",
       "AK         478      736732\n",
       "AL        3842     4849377\n",
       "AR        1670     2966369\n",
       "AZ        8678     6731484\n",
       "CA       58603    38802500"
      ]
     },
     "execution_count": 60,
     "metadata": {},
     "output_type": "execute_result"
    }
   ],
   "source": [
    "state_data.head()"
   ]
  },
  {
   "cell_type": "code",
   "execution_count": 61,
   "metadata": {
    "collapsed": true
   },
   "outputs": [],
   "source": [
    "state_data['per_capita'] = state_data.complaints / state_data.population * 10000 "
   ]
  },
  {
   "cell_type": "code",
   "execution_count": 62,
   "metadata": {
    "collapsed": false
   },
   "outputs": [
    {
     "data": {
      "text/html": [
       "<div style=\"max-height:1000px;max-width:1500px;overflow:auto;\">\n",
       "<table border=\"1\" class=\"dataframe\">\n",
       "  <thead>\n",
       "    <tr style=\"text-align: right;\">\n",
       "      <th></th>\n",
       "      <th>complaints</th>\n",
       "      <th>population</th>\n",
       "      <th>per_capita</th>\n",
       "    </tr>\n",
       "  </thead>\n",
       "  <tbody>\n",
       "    <tr>\n",
       "      <th>AK</th>\n",
       "      <td>478</td>\n",
       "      <td>736732</td>\n",
       "      <td>6.488112</td>\n",
       "    </tr>\n",
       "    <tr>\n",
       "      <th>AL</th>\n",
       "      <td>3842</td>\n",
       "      <td>4849377</td>\n",
       "      <td>7.922667</td>\n",
       "    </tr>\n",
       "    <tr>\n",
       "      <th>AR</th>\n",
       "      <td>1670</td>\n",
       "      <td>2966369</td>\n",
       "      <td>5.629778</td>\n",
       "    </tr>\n",
       "    <tr>\n",
       "      <th>AZ</th>\n",
       "      <td>8678</td>\n",
       "      <td>6731484</td>\n",
       "      <td>12.891660</td>\n",
       "    </tr>\n",
       "    <tr>\n",
       "      <th>CA</th>\n",
       "      <td>58603</td>\n",
       "      <td>38802500</td>\n",
       "      <td>15.102893</td>\n",
       "    </tr>\n",
       "  </tbody>\n",
       "</table>\n",
       "</div>"
      ],
      "text/plain": [
       "    complaints  population  per_capita\n",
       "AK         478      736732    6.488112\n",
       "AL        3842     4849377    7.922667\n",
       "AR        1670     2966369    5.629778\n",
       "AZ        8678     6731484   12.891660\n",
       "CA       58603    38802500   15.102893"
      ]
     },
     "execution_count": 62,
     "metadata": {},
     "output_type": "execute_result"
    }
   ],
   "source": [
    "state_data.head()"
   ]
  },
  {
   "cell_type": "code",
   "execution_count": 63,
   "metadata": {
    "collapsed": true
   },
   "outputs": [],
   "source": [
    "state_data_per_cap = state_data['per_capita']"
   ]
  },
  {
   "cell_type": "code",
   "execution_count": 64,
   "metadata": {
    "collapsed": false
   },
   "outputs": [
    {
     "data": {
      "text/plain": [
       "<matplotlib.axes._subplots.AxesSubplot at 0x1192c1ac8>"
      ]
     },
     "execution_count": 64,
     "metadata": {},
     "output_type": "execute_result"
    },
    {
     "data": {
      "image/png": "[encoded data removed]",
      "text/plain": [
       "<matplotlib.figure.Figure at 0x1192c1ba8>"
      ]
     },
     "metadata": {},
     "output_type": "display_data"
    }
   ],
   "source": [
    "plt.figure(figsize=(12, 10))\n",
    "state_data_per_cap.plot(kind='bar', title=\"Complaints per 10,000 Residents\")"
   ]
  },
  {
   "cell_type": "code",
   "execution_count": 65,
   "metadata": {
    "collapsed": true
   },
   "outputs": [],
   "source": [
    "zip_data = complaints_data.ZIP_code.value_counts().sort_index()"
   ]
  },
  {
   "cell_type": "code",
   "execution_count": 66,
   "metadata": {
    "collapsed": false
   },
   "outputs": [],
   "source": [
    "zips = pd.read_csv(\"2010+Census+Population+By+Zipcode+(ZCTA).csv\")"
   ]
  },
  {
   "cell_type": "code",
   "execution_count": 67,
   "metadata": {
    "collapsed": false
   },
   "outputs": [
    {
     "data": {
      "text/html": [
       "<div style=\"max-height:1000px;max-width:1500px;overflow:auto;\">\n",
       "<table border=\"1\" class=\"dataframe\">\n",
       "  <thead>\n",
       "    <tr style=\"text-align: right;\">\n",
       "      <th></th>\n",
       "      <th>Zip_Code_ZCTA</th>\n",
       "      <th>Census_Population</th>\n",
       "    </tr>\n",
       "  </thead>\n",
       "  <tbody>\n",
       "    <tr>\n",
       "      <th>0</th>\n",
       "      <td>1001</td>\n",
       "      <td>16769</td>\n",
       "    </tr>\n",
       "    <tr>\n",
       "      <th>1</th>\n",
       "      <td>1002</td>\n",
       "      <td>29049</td>\n",
       "    </tr>\n",
       "    <tr>\n",
       "      <th>2</th>\n",
       "      <td>1003</td>\n",
       "      <td>10372</td>\n",
       "    </tr>\n",
       "    <tr>\n",
       "      <th>3</th>\n",
       "      <td>1005</td>\n",
       "      <td>5079</td>\n",
       "    </tr>\n",
       "    <tr>\n",
       "      <th>4</th>\n",
       "      <td>1007</td>\n",
       "      <td>14649</td>\n",
       "    </tr>\n",
       "  </tbody>\n",
       "</table>\n",
       "</div>"
      ],
      "text/plain": [
       "   Zip_Code_ZCTA  Census_Population\n",
       "0           1001              16769\n",
       "1           1002              29049\n",
       "2           1003              10372\n",
       "3           1005               5079\n",
       "4           1007              14649"
      ]
     },
     "execution_count": 67,
     "metadata": {},
     "output_type": "execute_result"
    }
   ],
   "source": [
    "zips = zips.rename(columns=lambda x: x.replace(' ', '_'))\n",
    "zips = zips.rename(columns=lambda x: x.replace('2010_', ''))\n",
    "zips.head()\n"
   ]
  },
  {
   "cell_type": "code",
   "execution_count": 68,
   "metadata": {
    "collapsed": false
   },
   "outputs": [],
   "source": [
    "zips.index = zips.Zip_Code_ZCTA"
   ]
  },
  {
   "cell_type": "code",
   "execution_count": 69,
   "metadata": {
    "collapsed": false
   },
   "outputs": [],
   "source": [
    "zips = zips['Census_Population']"
   ]
  },
  {
   "cell_type": "code",
   "execution_count": 70,
   "metadata": {
    "collapsed": false
   },
   "outputs": [
    {
     "data": {
      "text/plain": [
       "Zip_Code_ZCTA\n",
       "1001    16769\n",
       "1002    29049\n",
       "1003    10372\n",
       "1005     5079\n",
       "1007    14649\n",
       "Name: Census_Population, dtype: int64"
      ]
     },
     "execution_count": 70,
     "metadata": {},
     "output_type": "execute_result"
    }
   ],
   "source": [
    "zips.head()"
   ]
  },
  {
   "cell_type": "code",
   "execution_count": 71,
   "metadata": {
    "collapsed": false
   },
   "outputs": [
    {
     "data": {
      "text/plain": [
       "00001    1\n",
       "00002    1\n",
       "00005    1\n",
       "00008    1\n",
       "00009    1\n",
       "dtype: int64"
      ]
     },
     "execution_count": 71,
     "metadata": {},
     "output_type": "execute_result"
    }
   ],
   "source": [
    "zip_data.head()"
   ]
  },
  {
   "cell_type": "code",
   "execution_count": 72,
   "metadata": {
    "collapsed": false
   },
   "outputs": [],
   "source": [
    "zips = zips.to_frame(name=\"population\")\n",
    "zip_data = zip_data.to_frame(name=\"complaints\")"
   ]
  },
  {
   "cell_type": "code",
   "execution_count": 73,
   "metadata": {
    "collapsed": false
   },
   "outputs": [
    {
     "data": {
      "text/html": [
       "<div style=\"max-height:1000px;max-width:1500px;overflow:auto;\">\n",
       "<table border=\"1\" class=\"dataframe\">\n",
       "  <thead>\n",
       "    <tr style=\"text-align: right;\">\n",
       "      <th></th>\n",
       "      <th>population</th>\n",
       "    </tr>\n",
       "    <tr>\n",
       "      <th>Zip_Code_ZCTA</th>\n",
       "      <th></th>\n",
       "    </tr>\n",
       "  </thead>\n",
       "  <tbody>\n",
       "    <tr>\n",
       "      <th>1001</th>\n",
       "      <td>16769</td>\n",
       "    </tr>\n",
       "    <tr>\n",
       "      <th>1002</th>\n",
       "      <td>29049</td>\n",
       "    </tr>\n",
       "    <tr>\n",
       "      <th>1003</th>\n",
       "      <td>10372</td>\n",
       "    </tr>\n",
       "    <tr>\n",
       "      <th>1005</th>\n",
       "      <td>5079</td>\n",
       "    </tr>\n",
       "    <tr>\n",
       "      <th>1007</th>\n",
       "      <td>14649</td>\n",
       "    </tr>\n",
       "  </tbody>\n",
       "</table>\n",
       "</div>"
      ],
      "text/plain": [
       "               population\n",
       "Zip_Code_ZCTA            \n",
       "1001                16769\n",
       "1002                29049\n",
       "1003                10372\n",
       "1005                 5079\n",
       "1007                14649"
      ]
     },
     "execution_count": 73,
     "metadata": {},
     "output_type": "execute_result"
    }
   ],
   "source": [
    "zips.head()"
   ]
  },
  {
   "cell_type": "code",
   "execution_count": 74,
   "metadata": {
    "collapsed": false
   },
   "outputs": [
    {
     "data": {
      "text/html": [
       "<div style=\"max-height:1000px;max-width:1500px;overflow:auto;\">\n",
       "<table border=\"1\" class=\"dataframe\">\n",
       "  <thead>\n",
       "    <tr style=\"text-align: right;\">\n",
       "      <th></th>\n",
       "      <th>complaints</th>\n",
       "    </tr>\n",
       "  </thead>\n",
       "  <tbody>\n",
       "    <tr>\n",
       "      <th>00001</th>\n",
       "      <td>1</td>\n",
       "    </tr>\n",
       "    <tr>\n",
       "      <th>00002</th>\n",
       "      <td>1</td>\n",
       "    </tr>\n",
       "    <tr>\n",
       "      <th>00005</th>\n",
       "      <td>1</td>\n",
       "    </tr>\n",
       "    <tr>\n",
       "      <th>00008</th>\n",
       "      <td>1</td>\n",
       "    </tr>\n",
       "    <tr>\n",
       "      <th>00009</th>\n",
       "      <td>1</td>\n",
       "    </tr>\n",
       "  </tbody>\n",
       "</table>\n",
       "</div>"
      ],
      "text/plain": [
       "       complaints\n",
       "00001           1\n",
       "00002           1\n",
       "00005           1\n",
       "00008           1\n",
       "00009           1"
      ]
     },
     "execution_count": 74,
     "metadata": {},
     "output_type": "execute_result"
    }
   ],
   "source": [
    "zip_data.head()"
   ]
  },
  {
   "cell_type": "code",
   "execution_count": 75,
   "metadata": {
    "collapsed": false
   },
   "outputs": [
    {
     "ename": "TypeError",
     "evalue": "unorderable types: int() < str()",
     "output_type": "error",
     "traceback": [
      "\u001b[0;31m---------------------------------------------------------------------------\u001b[0m",
      "\u001b[0;31mTypeError\u001b[0m                                 Traceback (most recent call last)",
      "\u001b[0;32m<ipython-input-75-211065a9b0d7>\u001b[0m in \u001b[0;36m<module>\u001b[0;34m()\u001b[0m\n\u001b[0;32m----> 1\u001b[0;31m \u001b[0mzips_combined\u001b[0m \u001b[0;34m=\u001b[0m \u001b[0mzips\u001b[0m\u001b[0;34m.\u001b[0m\u001b[0mjoin\u001b[0m\u001b[0;34m(\u001b[0m\u001b[0mzip_data\u001b[0m\u001b[0;34m)\u001b[0m\u001b[0;34m\u001b[0m\u001b[0m\n\u001b[0m",
      "\u001b[0;32m/Users/joshuahiggins/tiyd/homework/complaints/consumer-complaints/.direnv/python-3.4.3/lib/python3.4/site-packages/pandas/core/frame.py\u001b[0m in \u001b[0;36mjoin\u001b[0;34m(self, other, on, how, lsuffix, rsuffix, sort)\u001b[0m\n\u001b[1;32m   4008\u001b[0m         \u001b[0;31m# For SparseDataFrame's benefit\u001b[0m\u001b[0;34m\u001b[0m\u001b[0;34m\u001b[0m\u001b[0m\n\u001b[1;32m   4009\u001b[0m         return self._join_compat(other, on=on, how=how, lsuffix=lsuffix,\n\u001b[0;32m-> 4010\u001b[0;31m                                  rsuffix=rsuffix, sort=sort)\n\u001b[0m\u001b[1;32m   4011\u001b[0m \u001b[0;34m\u001b[0m\u001b[0m\n\u001b[1;32m   4012\u001b[0m     def _join_compat(self, other, on=None, how='left', lsuffix='', rsuffix='',\n",
      "\u001b[0;32m/Users/joshuahiggins/tiyd/homework/complaints/consumer-complaints/.direnv/python-3.4.3/lib/python3.4/site-packages/pandas/core/frame.py\u001b[0m in \u001b[0;36m_join_compat\u001b[0;34m(self, other, on, how, lsuffix, rsuffix, sort)\u001b[0m\n\u001b[1;32m   4022\u001b[0m             return merge(self, other, left_on=on, how=how,\n\u001b[1;32m   4023\u001b[0m                          \u001b[0mleft_index\u001b[0m\u001b[0;34m=\u001b[0m\u001b[0mon\u001b[0m \u001b[0;32mis\u001b[0m \u001b[0;32mNone\u001b[0m\u001b[0;34m,\u001b[0m \u001b[0mright_index\u001b[0m\u001b[0;34m=\u001b[0m\u001b[0;32mTrue\u001b[0m\u001b[0;34m,\u001b[0m\u001b[0;34m\u001b[0m\u001b[0m\n\u001b[0;32m-> 4024\u001b[0;31m                          suffixes=(lsuffix, rsuffix), sort=sort)\n\u001b[0m\u001b[1;32m   4025\u001b[0m         \u001b[0;32melse\u001b[0m\u001b[0;34m:\u001b[0m\u001b[0;34m\u001b[0m\u001b[0m\n\u001b[1;32m   4026\u001b[0m             \u001b[0;32mif\u001b[0m \u001b[0mon\u001b[0m \u001b[0;32mis\u001b[0m \u001b[0;32mnot\u001b[0m \u001b[0;32mNone\u001b[0m\u001b[0;34m:\u001b[0m\u001b[0;34m\u001b[0m\u001b[0m\n",
      "\u001b[0;32m/Users/joshuahiggins/tiyd/homework/complaints/consumer-complaints/.direnv/python-3.4.3/lib/python3.4/site-packages/pandas/tools/merge.py\u001b[0m in \u001b[0;36mmerge\u001b[0;34m(left, right, how, on, left_on, right_on, left_index, right_index, sort, suffixes, copy)\u001b[0m\n\u001b[1;32m     36\u001b[0m                          \u001b[0mright_index\u001b[0m\u001b[0;34m=\u001b[0m\u001b[0mright_index\u001b[0m\u001b[0;34m,\u001b[0m \u001b[0msort\u001b[0m\u001b[0;34m=\u001b[0m\u001b[0msort\u001b[0m\u001b[0;34m,\u001b[0m \u001b[0msuffixes\u001b[0m\u001b[0;34m=\u001b[0m\u001b[0msuffixes\u001b[0m\u001b[0;34m,\u001b[0m\u001b[0;34m\u001b[0m\u001b[0m\n\u001b[1;32m     37\u001b[0m                          copy=copy)\n\u001b[0;32m---> 38\u001b[0;31m     \u001b[0;32mreturn\u001b[0m \u001b[0mop\u001b[0m\u001b[0;34m.\u001b[0m\u001b[0mget_result\u001b[0m\u001b[0;34m(\u001b[0m\u001b[0;34m)\u001b[0m\u001b[0;34m\u001b[0m\u001b[0m\n\u001b[0m\u001b[1;32m     39\u001b[0m \u001b[0;32mif\u001b[0m \u001b[0m__debug__\u001b[0m\u001b[0;34m:\u001b[0m\u001b[0;34m\u001b[0m\u001b[0m\n\u001b[1;32m     40\u001b[0m     \u001b[0mmerge\u001b[0m\u001b[0;34m.\u001b[0m\u001b[0m__doc__\u001b[0m \u001b[0;34m=\u001b[0m \u001b[0m_merge_doc\u001b[0m \u001b[0;34m%\u001b[0m \u001b[0;34m'\\nleft : DataFrame'\u001b[0m\u001b[0;34m\u001b[0m\u001b[0m\n",
      "\u001b[0;32m/Users/joshuahiggins/tiyd/homework/complaints/consumer-complaints/.direnv/python-3.4.3/lib/python3.4/site-packages/pandas/tools/merge.py\u001b[0m in \u001b[0;36mget_result\u001b[0;34m(self)\u001b[0m\n\u001b[1;32m    184\u001b[0m \u001b[0;34m\u001b[0m\u001b[0m\n\u001b[1;32m    185\u001b[0m     \u001b[0;32mdef\u001b[0m \u001b[0mget_result\u001b[0m\u001b[0;34m(\u001b[0m\u001b[0mself\u001b[0m\u001b[0;34m)\u001b[0m\u001b[0;34m:\u001b[0m\u001b[0;34m\u001b[0m\u001b[0m\n\u001b[0;32m--> 186\u001b[0;31m         \u001b[0mjoin_index\u001b[0m\u001b[0;34m,\u001b[0m \u001b[0mleft_indexer\u001b[0m\u001b[0;34m,\u001b[0m \u001b[0mright_indexer\u001b[0m \u001b[0;34m=\u001b[0m \u001b[0mself\u001b[0m\u001b[0;34m.\u001b[0m\u001b[0m_get_join_info\u001b[0m\u001b[0;34m(\u001b[0m\u001b[0;34m)\u001b[0m\u001b[0;34m\u001b[0m\u001b[0m\n\u001b[0m\u001b[1;32m    187\u001b[0m \u001b[0;34m\u001b[0m\u001b[0m\n\u001b[1;32m    188\u001b[0m         \u001b[0mldata\u001b[0m\u001b[0;34m,\u001b[0m \u001b[0mrdata\u001b[0m \u001b[0;34m=\u001b[0m \u001b[0mself\u001b[0m\u001b[0;34m.\u001b[0m\u001b[0mleft\u001b[0m\u001b[0;34m.\u001b[0m\u001b[0m_data\u001b[0m\u001b[0;34m,\u001b[0m \u001b[0mself\u001b[0m\u001b[0;34m.\u001b[0m\u001b[0mright\u001b[0m\u001b[0;34m.\u001b[0m\u001b[0m_data\u001b[0m\u001b[0;34m\u001b[0m\u001b[0m\n",
      "\u001b[0;32m/Users/joshuahiggins/tiyd/homework/complaints/consumer-complaints/.direnv/python-3.4.3/lib/python3.4/site-packages/pandas/tools/merge.py\u001b[0m in \u001b[0;36m_get_join_info\u001b[0;34m(self)\u001b[0m\n\u001b[1;32m    257\u001b[0m         \u001b[0;32mif\u001b[0m \u001b[0mself\u001b[0m\u001b[0;34m.\u001b[0m\u001b[0mleft_index\u001b[0m \u001b[0;32mand\u001b[0m \u001b[0mself\u001b[0m\u001b[0;34m.\u001b[0m\u001b[0mright_index\u001b[0m\u001b[0;34m:\u001b[0m\u001b[0;34m\u001b[0m\u001b[0m\n\u001b[1;32m    258\u001b[0m             \u001b[0mjoin_index\u001b[0m\u001b[0;34m,\u001b[0m \u001b[0mleft_indexer\u001b[0m\u001b[0;34m,\u001b[0m \u001b[0mright_indexer\u001b[0m \u001b[0;34m=\u001b[0m\u001b[0;31m \u001b[0m\u001b[0;31m\\\u001b[0m\u001b[0;34m\u001b[0m\u001b[0m\n\u001b[0;32m--> 259\u001b[0;31m                 \u001b[0mleft_ax\u001b[0m\u001b[0;34m.\u001b[0m\u001b[0mjoin\u001b[0m\u001b[0;34m(\u001b[0m\u001b[0mright_ax\u001b[0m\u001b[0;34m,\u001b[0m \u001b[0mhow\u001b[0m\u001b[0;34m=\u001b[0m\u001b[0mself\u001b[0m\u001b[0;34m.\u001b[0m\u001b[0mhow\u001b[0m\u001b[0;34m,\u001b[0m \u001b[0mreturn_indexers\u001b[0m\u001b[0;34m=\u001b[0m\u001b[0;32mTrue\u001b[0m\u001b[0;34m)\u001b[0m\u001b[0;34m\u001b[0m\u001b[0m\n\u001b[0m\u001b[1;32m    260\u001b[0m         \u001b[0;32melif\u001b[0m \u001b[0mself\u001b[0m\u001b[0;34m.\u001b[0m\u001b[0mright_index\u001b[0m \u001b[0;32mand\u001b[0m \u001b[0mself\u001b[0m\u001b[0;34m.\u001b[0m\u001b[0mhow\u001b[0m \u001b[0;34m==\u001b[0m \u001b[0;34m'left'\u001b[0m\u001b[0;34m:\u001b[0m\u001b[0;34m\u001b[0m\u001b[0m\n\u001b[1;32m    261\u001b[0m             \u001b[0mjoin_index\u001b[0m\u001b[0;34m,\u001b[0m \u001b[0mleft_indexer\u001b[0m\u001b[0;34m,\u001b[0m \u001b[0mright_indexer\u001b[0m \u001b[0;34m=\u001b[0m\u001b[0;31m \u001b[0m\u001b[0;31m\\\u001b[0m\u001b[0;34m\u001b[0m\u001b[0m\n",
      "\u001b[0;32m/Users/joshuahiggins/tiyd/homework/complaints/consumer-complaints/.direnv/python-3.4.3/lib/python3.4/site-packages/pandas/core/index.py\u001b[0m in \u001b[0;36mjoin\u001b[0;34m(self, other, how, level, return_indexers)\u001b[0m\n\u001b[1;32m   2047\u001b[0m             \u001b[0mother\u001b[0m \u001b[0;34m=\u001b[0m \u001b[0mother\u001b[0m\u001b[0;34m.\u001b[0m\u001b[0mastype\u001b[0m\u001b[0;34m(\u001b[0m\u001b[0;34m'O'\u001b[0m\u001b[0;34m)\u001b[0m\u001b[0;34m\u001b[0m\u001b[0m\n\u001b[1;32m   2048\u001b[0m             return this.join(other, how=how,\n\u001b[0;32m-> 2049\u001b[0;31m                              return_indexers=return_indexers)\n\u001b[0m\u001b[1;32m   2050\u001b[0m \u001b[0;34m\u001b[0m\u001b[0m\n\u001b[1;32m   2051\u001b[0m         \u001b[0m_validate_join_method\u001b[0m\u001b[0;34m(\u001b[0m\u001b[0mhow\u001b[0m\u001b[0;34m)\u001b[0m\u001b[0;34m\u001b[0m\u001b[0m\n",
      "\u001b[0;32m/Users/joshuahiggins/tiyd/homework/complaints/consumer-complaints/.direnv/python-3.4.3/lib/python3.4/site-packages/pandas/core/index.py\u001b[0m in \u001b[0;36mjoin\u001b[0;34m(self, other, how, level, return_indexers)\u001b[0m\n\u001b[1;32m   2057\u001b[0m             \u001b[0;32mif\u001b[0m \u001b[0mself\u001b[0m\u001b[0;34m.\u001b[0m\u001b[0mis_monotonic\u001b[0m \u001b[0;32mand\u001b[0m \u001b[0mother\u001b[0m\u001b[0;34m.\u001b[0m\u001b[0mis_monotonic\u001b[0m\u001b[0;34m:\u001b[0m\u001b[0;34m\u001b[0m\u001b[0m\n\u001b[1;32m   2058\u001b[0m                 return self._join_monotonic(other, how=how,\n\u001b[0;32m-> 2059\u001b[0;31m                                             return_indexers=return_indexers)\n\u001b[0m\u001b[1;32m   2060\u001b[0m             \u001b[0;32melse\u001b[0m\u001b[0;34m:\u001b[0m\u001b[0;34m\u001b[0m\u001b[0m\n\u001b[1;32m   2061\u001b[0m                 return self._join_non_unique(other, how=how,\n",
      "\u001b[0;32m/Users/joshuahiggins/tiyd/homework/complaints/consumer-complaints/.direnv/python-3.4.3/lib/python3.4/site-packages/pandas/core/index.py\u001b[0m in \u001b[0;36m_join_monotonic\u001b[0;34m(self, other, how, return_indexers)\u001b[0m\n\u001b[1;32m   2304\u001b[0m         \u001b[0;32melse\u001b[0m\u001b[0;34m:\u001b[0m\u001b[0;34m\u001b[0m\u001b[0m\n\u001b[1;32m   2305\u001b[0m             \u001b[0;32mif\u001b[0m \u001b[0mhow\u001b[0m \u001b[0;34m==\u001b[0m \u001b[0;34m'left'\u001b[0m\u001b[0;34m:\u001b[0m\u001b[0;34m\u001b[0m\u001b[0m\n\u001b[0;32m-> 2306\u001b[0;31m                 \u001b[0mjoin_index\u001b[0m\u001b[0;34m,\u001b[0m \u001b[0mlidx\u001b[0m\u001b[0;34m,\u001b[0m \u001b[0mridx\u001b[0m \u001b[0;34m=\u001b[0m \u001b[0mself\u001b[0m\u001b[0;34m.\u001b[0m\u001b[0m_left_indexer\u001b[0m\u001b[0;34m(\u001b[0m\u001b[0msv\u001b[0m\u001b[0;34m,\u001b[0m \u001b[0mov\u001b[0m\u001b[0;34m)\u001b[0m\u001b[0;34m\u001b[0m\u001b[0m\n\u001b[0m\u001b[1;32m   2307\u001b[0m             \u001b[0;32melif\u001b[0m \u001b[0mhow\u001b[0m \u001b[0;34m==\u001b[0m \u001b[0;34m'right'\u001b[0m\u001b[0;34m:\u001b[0m\u001b[0;34m\u001b[0m\u001b[0m\n\u001b[1;32m   2308\u001b[0m                 \u001b[0mjoin_index\u001b[0m\u001b[0;34m,\u001b[0m \u001b[0mridx\u001b[0m\u001b[0;34m,\u001b[0m \u001b[0mlidx\u001b[0m \u001b[0;34m=\u001b[0m \u001b[0mself\u001b[0m\u001b[0;34m.\u001b[0m\u001b[0m_left_indexer\u001b[0m\u001b[0;34m(\u001b[0m\u001b[0mother\u001b[0m\u001b[0;34m,\u001b[0m \u001b[0mself\u001b[0m\u001b[0;34m)\u001b[0m\u001b[0;34m\u001b[0m\u001b[0m\n",
      "\u001b[0;32mpandas/src/generated.pyx\u001b[0m in \u001b[0;36mpandas.algos.left_join_indexer_object (pandas/algos.c:162542)\u001b[0;34m()\u001b[0m\n",
      "\u001b[0;31mTypeError\u001b[0m: unorderable types: int() < str()"
     ]
    }
   ],
   "source": [
    "zips_combined = zips.join(zip_data)"
   ]
  },
  {
   "cell_type": "code",
   "execution_count": null,
   "metadata": {
    "collapsed": false
   },
   "outputs": [],
   "source": [
    "zips_combined = zips_combined.dropna()"
   ]
  },
  {
   "cell_type": "code",
   "execution_count": null,
   "metadata": {
    "collapsed": false
   },
   "outputs": [],
   "source": [
    "zips_combined.head()"
   ]
  },
  {
   "cell_type": "code",
   "execution_count": null,
   "metadata": {
    "collapsed": false
   },
   "outputs": [],
   "source": [
    "zips_combined[\"per_capita\"] = zips_combined.complaints / zips_combined.population"
   ]
  },
  {
   "cell_type": "code",
   "execution_count": null,
   "metadata": {
    "collapsed": false
   },
   "outputs": [],
   "source": [
    "zips_combined.head()"
   ]
  },
  {
   "cell_type": "markdown",
   "metadata": {},
   "source": [
    "find mean, find stdev of per_capita"
   ]
  },
  {
   "cell_type": "code",
   "execution_count": null,
   "metadata": {
    "collapsed": false
   },
   "outputs": [],
   "source": []
  },
  {
   "cell_type": "code",
   "execution_count": null,
   "metadata": {
    "collapsed": true
   },
   "outputs": [],
   "source": []
  }
 ],
 "metadata": {
  "kernelspec": {
   "display_name": "Python 3",
   "language": "python",
   "name": "python3"
  },
  "language_info": {
   "codemirror_mode": {
    "name": "ipython",
    "version": 3
   },
   "file_extension": ".py",
   "mimetype": "text/x-python",
   "name": "python",
   "nbconvert_exporter": "python",
   "pygments_lexer": "ipython3",
   "version": "3.4.3"
  }
 },
 "nbformat": 4,
 "nbformat_minor": 0
}
