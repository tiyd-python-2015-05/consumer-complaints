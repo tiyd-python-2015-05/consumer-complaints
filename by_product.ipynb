{
 "cells": [
  {
   "cell_type": "code",
   "execution_count": 2,
   "metadata": {
    "collapsed": true
   },
   "outputs": [],
   "source": [
    "import pandas as pd"
   ]
  },
  {
   "cell_type": "code",
   "execution_count": 3,
   "metadata": {
    "collapsed": true
   },
   "outputs": [],
   "source": [
    "import numpy as np"
   ]
  },
  {
   "cell_type": "code",
   "execution_count": 4,
   "metadata": {
    "collapsed": true
   },
   "outputs": [],
   "source": [
    "import matplotlib.pyplot as plt"
   ]
  },
  {
   "cell_type": "code",
   "execution_count": 5,
   "metadata": {
    "collapsed": true
   },
   "outputs": [],
   "source": [
    "complaint_product = pd.read_csv(\"Consumer_Complaints.csv\", engine='python')"
   ]
  },
  {
   "cell_type": "code",
   "execution_count": 6,
   "metadata": {
    "collapsed": false
   },
   "outputs": [
    {
     "data": {
      "text/html": [
       "<div style=\"max-height:1000px;max-width:1500px;overflow:auto;\">\n",
       "<table border=\"1\" class=\"dataframe\">\n",
       "  <thead>\n",
       "    <tr style=\"text-align: right;\">\n",
       "      <th></th>\n",
       "      <th>Complaint ID</th>\n",
       "      <th>Product</th>\n",
       "      <th>Sub-product</th>\n",
       "      <th>Issue</th>\n",
       "      <th>Sub-issue</th>\n",
       "      <th>State</th>\n",
       "      <th>ZIP code</th>\n",
       "      <th>Submitted via</th>\n",
       "      <th>Date received</th>\n",
       "      <th>Date sent to company</th>\n",
       "      <th>Company</th>\n",
       "      <th>Company response</th>\n",
       "      <th>Timely response?</th>\n",
       "      <th>Consumer disputed?</th>\n",
       "    </tr>\n",
       "  </thead>\n",
       "  <tbody>\n",
       "    <tr>\n",
       "      <th>0</th>\n",
       "      <td>1388734</td>\n",
       "      <td>Mortgage</td>\n",
       "      <td>Conventional adjustable mortgage (ARM)</td>\n",
       "      <td>Loan servicing, payments, escrow account</td>\n",
       "      <td>NaN</td>\n",
       "      <td>VA</td>\n",
       "      <td>22204</td>\n",
       "      <td>Web</td>\n",
       "      <td>05/22/2015</td>\n",
       "      <td>05/22/2015</td>\n",
       "      <td>Green Tree Servicing, LLC</td>\n",
       "      <td>Closed with explanation</td>\n",
       "      <td>Yes</td>\n",
       "      <td>NaN</td>\n",
       "    </tr>\n",
       "    <tr>\n",
       "      <th>1</th>\n",
       "      <td>1389303</td>\n",
       "      <td>Consumer loan</td>\n",
       "      <td>Vehicle loan</td>\n",
       "      <td>Taking out the loan or lease</td>\n",
       "      <td>NaN</td>\n",
       "      <td>MO</td>\n",
       "      <td>63304</td>\n",
       "      <td>Web</td>\n",
       "      <td>05/22/2015</td>\n",
       "      <td>05/22/2015</td>\n",
       "      <td>Ally Financial Inc.</td>\n",
       "      <td>In progress</td>\n",
       "      <td>Yes</td>\n",
       "      <td>NaN</td>\n",
       "    </tr>\n",
       "    <tr>\n",
       "      <th>2</th>\n",
       "      <td>1389676</td>\n",
       "      <td>Consumer loan</td>\n",
       "      <td>Vehicle lease</td>\n",
       "      <td>Problems when you are unable to pay</td>\n",
       "      <td>NaN</td>\n",
       "      <td>FL</td>\n",
       "      <td>33414</td>\n",
       "      <td>Web</td>\n",
       "      <td>05/22/2015</td>\n",
       "      <td>05/22/2015</td>\n",
       "      <td>Ally Financial Inc.</td>\n",
       "      <td>In progress</td>\n",
       "      <td>Yes</td>\n",
       "      <td>NaN</td>\n",
       "    </tr>\n",
       "    <tr>\n",
       "      <th>3</th>\n",
       "      <td>1388406</td>\n",
       "      <td>Mortgage</td>\n",
       "      <td>Conventional fixed mortgage</td>\n",
       "      <td>Loan servicing, payments, escrow account</td>\n",
       "      <td>NaN</td>\n",
       "      <td>NC</td>\n",
       "      <td>27615</td>\n",
       "      <td>Web</td>\n",
       "      <td>05/22/2015</td>\n",
       "      <td>05/22/2015</td>\n",
       "      <td>Navy FCU</td>\n",
       "      <td>In progress</td>\n",
       "      <td>Yes</td>\n",
       "      <td>NaN</td>\n",
       "    </tr>\n",
       "    <tr>\n",
       "      <th>4</th>\n",
       "      <td>1388470</td>\n",
       "      <td>Consumer loan</td>\n",
       "      <td>Installment loan</td>\n",
       "      <td>Managing the loan or lease</td>\n",
       "      <td>NaN</td>\n",
       "      <td>MA</td>\n",
       "      <td>1474</td>\n",
       "      <td>Phone</td>\n",
       "      <td>05/22/2015</td>\n",
       "      <td>05/22/2015</td>\n",
       "      <td>Santander Bank US</td>\n",
       "      <td>In progress</td>\n",
       "      <td>Yes</td>\n",
       "      <td>NaN</td>\n",
       "    </tr>\n",
       "  </tbody>\n",
       "</table>\n",
       "</div>"
      ],
      "text/plain": [
       "   Complaint ID        Product                             Sub-product  \\\n",
       "0       1388734       Mortgage  Conventional adjustable mortgage (ARM)   \n",
       "1       1389303  Consumer loan                            Vehicle loan   \n",
       "2       1389676  Consumer loan                           Vehicle lease   \n",
       "3       1388406       Mortgage             Conventional fixed mortgage   \n",
       "4       1388470  Consumer loan                        Installment loan   \n",
       "\n",
       "                                      Issue Sub-issue State  ZIP code  \\\n",
       "0  Loan servicing, payments, escrow account       NaN    VA     22204   \n",
       "1              Taking out the loan or lease       NaN    MO     63304   \n",
       "2       Problems when you are unable to pay       NaN    FL     33414   \n",
       "3  Loan servicing, payments, escrow account       NaN    NC     27615   \n",
       "4                Managing the loan or lease       NaN    MA      1474   \n",
       "\n",
       "  Submitted via Date received Date sent to company                    Company  \\\n",
       "0           Web    05/22/2015           05/22/2015  Green Tree Servicing, LLC   \n",
       "1           Web    05/22/2015           05/22/2015        Ally Financial Inc.   \n",
       "2           Web    05/22/2015           05/22/2015        Ally Financial Inc.   \n",
       "3           Web    05/22/2015           05/22/2015                   Navy FCU   \n",
       "4         Phone    05/22/2015           05/22/2015          Santander Bank US   \n",
       "\n",
       "          Company response Timely response? Consumer disputed?  \n",
       "0  Closed with explanation              Yes                NaN  \n",
       "1              In progress              Yes                NaN  \n",
       "2              In progress              Yes                NaN  \n",
       "3              In progress              Yes                NaN  \n",
       "4              In progress              Yes                NaN  "
      ]
     },
     "execution_count": 6,
     "metadata": {},
     "output_type": "execute_result"
    }
   ],
   "source": [
    "complaint_product.head()"
   ]
  },
  {
   "cell_type": "code",
   "execution_count": 9,
   "metadata": {
    "collapsed": false
   },
   "outputs": [],
   "source": [
    "complaint_by_product = complaint_product['Product'].value_counts()"
   ]
  },
  {
   "cell_type": "code",
   "execution_count": 13,
   "metadata": {
    "collapsed": false
   },
   "outputs": [],
   "source": [
    "complaint_by_product.plot(kind=\"bar\")\n",
    "plt.show()"
   ]
  },
  {
   "cell_type": "code",
   "execution_count": 16,
   "metadata": {
    "collapsed": false
   },
   "outputs": [],
   "source": [
    "complaint_by_company = complaint_product['Company'].value_counts()"
   ]
  },
  {
   "cell_type": "code",
   "execution_count": 22,
   "metadata": {
    "collapsed": false
   },
   "outputs": [],
   "source": [
    "complaint_by_company[0:10].plot(kind=\"bar\")\n",
    "plt.show()"
   ]
  },
  {
   "cell_type": "code",
   "execution_count": 24,
   "metadata": {
    "collapsed": false
   },
   "outputs": [],
   "source": [
    "company_response = complaint_product['Company response'].value_counts()"
   ]
  },
  {
   "cell_type": "code",
   "execution_count": 26,
   "metadata": {
    "collapsed": false
   },
   "outputs": [],
   "source": [
    "company_response.plot(kind=\"bar\")\n",
    "plt.show()"
   ]
  },
  {
   "cell_type": "code",
   "execution_count": null,
   "metadata": {
    "collapsed": true
   },
   "outputs": [],
   "source": []
  }
 ],
 "metadata": {
  "kernelspec": {
   "display_name": "Python 3",
   "language": "python",
   "name": "python3"
  },
  "language_info": {
   "codemirror_mode": {
    "name": "ipython",
    "version": 3
   },
   "file_extension": ".py",
   "mimetype": "text/x-python",
   "name": "python",
   "nbconvert_exporter": "python",
   "pygments_lexer": "ipython3",
   "version": "3.4.3"
  }
 },
 "nbformat": 4,
 "nbformat_minor": 0
}
