{
 "cells": [
  {
   "cell_type": "code",
   "execution_count": 118,
   "metadata": {
    "collapsed": true
   },
   "outputs": [],
   "source": [
    "import pandas as pd\n",
    "import matplotlib.pyplot as plt\n",
    "%matplotlib inline\n",
    "import datetime"
   ]
  },
  {
   "cell_type": "markdown",
   "metadata": {},
   "source": [
    "#Load Data, Poke Around at it"
   ]
  },
  {
   "cell_type": "code",
   "execution_count": 119,
   "metadata": {
    "collapsed": false
   },
   "outputs": [],
   "source": [
    "complaints = pd.read_csv(\"Consumer_Complaints.csv\", low_memory=False, \n",
    "                         parse_dates=[\"Date received\", \"Date sent to company\"])"
   ]
  },
  {
   "cell_type": "code",
   "execution_count": 120,
   "metadata": {
    "collapsed": false
   },
   "outputs": [
    {
     "data": {
      "text/html": [
       "<div style=\"max-height:1000px;max-width:1500px;overflow:auto;\">\n",
       "<table border=\"1\" class=\"dataframe\">\n",
       "  <thead>\n",
       "    <tr style=\"text-align: right;\">\n",
       "      <th></th>\n",
       "      <th>Complaint ID</th>\n",
       "      <th>Product</th>\n",
       "      <th>Sub-product</th>\n",
       "      <th>Issue</th>\n",
       "      <th>Sub-issue</th>\n",
       "      <th>State</th>\n",
       "      <th>ZIP code</th>\n",
       "      <th>Submitted via</th>\n",
       "      <th>Date received</th>\n",
       "      <th>Date sent to company</th>\n",
       "      <th>Company</th>\n",
       "      <th>Company response</th>\n",
       "      <th>Timely response?</th>\n",
       "      <th>Consumer disputed?</th>\n",
       "    </tr>\n",
       "  </thead>\n",
       "  <tbody>\n",
       "    <tr>\n",
       "      <th>0</th>\n",
       "      <td>1382851</td>\n",
       "      <td>Debt collection</td>\n",
       "      <td>Other (phone, health club, etc.)</td>\n",
       "      <td>False statements or representation</td>\n",
       "      <td>Attempted to collect wrong amount</td>\n",
       "      <td>IN</td>\n",
       "      <td>46403</td>\n",
       "      <td>Web</td>\n",
       "      <td>2015-05-19</td>\n",
       "      <td>2015-05-19</td>\n",
       "      <td>Diversified Consultants, Inc.</td>\n",
       "      <td>Closed with explanation</td>\n",
       "      <td>Yes</td>\n",
       "      <td>NaN</td>\n",
       "    </tr>\n",
       "    <tr>\n",
       "      <th>1</th>\n",
       "      <td>1383126</td>\n",
       "      <td>Debt collection</td>\n",
       "      <td>Other (phone, health club, etc.)</td>\n",
       "      <td>Disclosure verification of debt</td>\n",
       "      <td>Right to dispute notice not received</td>\n",
       "      <td>GA</td>\n",
       "      <td>30096</td>\n",
       "      <td>Web</td>\n",
       "      <td>2015-05-19</td>\n",
       "      <td>2015-05-19</td>\n",
       "      <td>Stellar Recovery Inc.</td>\n",
       "      <td>Closed with explanation</td>\n",
       "      <td>Yes</td>\n",
       "      <td>NaN</td>\n",
       "    </tr>\n",
       "    <tr>\n",
       "      <th>2</th>\n",
       "      <td>1383251</td>\n",
       "      <td>Debt collection</td>\n",
       "      <td>Other (phone, health club, etc.)</td>\n",
       "      <td>Disclosure verification of debt</td>\n",
       "      <td>Right to dispute notice not received</td>\n",
       "      <td>WA</td>\n",
       "      <td>98055</td>\n",
       "      <td>Web</td>\n",
       "      <td>2015-05-19</td>\n",
       "      <td>2015-05-19</td>\n",
       "      <td>Stellar Recovery Inc.</td>\n",
       "      <td>Closed with explanation</td>\n",
       "      <td>Yes</td>\n",
       "      <td>NaN</td>\n",
       "    </tr>\n",
       "  </tbody>\n",
       "</table>\n",
       "</div>"
      ],
      "text/plain": [
       "   Complaint ID          Product                       Sub-product  \\\n",
       "0       1382851  Debt collection  Other (phone, health club, etc.)   \n",
       "1       1383126  Debt collection  Other (phone, health club, etc.)   \n",
       "2       1383251  Debt collection  Other (phone, health club, etc.)   \n",
       "\n",
       "                                Issue                             Sub-issue  \\\n",
       "0  False statements or representation     Attempted to collect wrong amount   \n",
       "1     Disclosure verification of debt  Right to dispute notice not received   \n",
       "2     Disclosure verification of debt  Right to dispute notice not received   \n",
       "\n",
       "  State  ZIP code Submitted via Date received Date sent to company  \\\n",
       "0    IN     46403           Web    2015-05-19           2015-05-19   \n",
       "1    GA     30096           Web    2015-05-19           2015-05-19   \n",
       "2    WA     98055           Web    2015-05-19           2015-05-19   \n",
       "\n",
       "                         Company         Company response Timely response?  \\\n",
       "0  Diversified Consultants, Inc.  Closed with explanation              Yes   \n",
       "1          Stellar Recovery Inc.  Closed with explanation              Yes   \n",
       "2          Stellar Recovery Inc.  Closed with explanation              Yes   \n",
       "\n",
       "  Consumer disputed?  \n",
       "0                NaN  \n",
       "1                NaN  \n",
       "2                NaN  "
      ]
     },
     "execution_count": 120,
     "metadata": {},
     "output_type": "execute_result"
    }
   ],
   "source": [
    "complaints.head(3)"
   ]
  },
  {
   "cell_type": "code",
   "execution_count": 121,
   "metadata": {
    "collapsed": false
   },
   "outputs": [
    {
     "name": "stdout",
     "output_type": "stream",
     "text": [
      "<class 'pandas.core.frame.DataFrame'>\n",
      "Int64Index: 393491 entries, 0 to 393490\n",
      "Data columns (total 14 columns):\n",
      "Complaint ID            393491 non-null int64\n",
      "Product                 393491 non-null object\n",
      "Sub-product             270285 non-null object\n",
      "Issue                   393485 non-null object\n",
      "Sub-issue               121948 non-null object\n",
      "State                   387998 non-null object\n",
      "ZIP code                389029 non-null float64\n",
      "Submitted via           393491 non-null object\n",
      "Date received           393491 non-null datetime64[ns]\n",
      "Date sent to company    393491 non-null datetime64[ns]\n",
      "Company                 393491 non-null object\n",
      "Company response        393491 non-null object\n",
      "Timely response?        393491 non-null object\n",
      "Consumer disputed?      361320 non-null object\n",
      "dtypes: datetime64[ns](2), float64(1), int64(1), object(10)\n",
      "memory usage: 45.0+ MB\n"
     ]
    }
   ],
   "source": [
    "complaints.info()"
   ]
  },
  {
   "cell_type": "code",
   "execution_count": 122,
   "metadata": {
    "collapsed": false
   },
   "outputs": [
    {
     "data": {
      "text/plain": [
       "Index(['Complaint ID', 'Product', 'Sub-product', 'Issue', 'Sub-issue', 'State',\n",
       "       'ZIP code', 'Submitted via', 'Date received', 'Date sent to company',\n",
       "       'Company', 'Company response', 'Timely response?',\n",
       "       'Consumer disputed?'],\n",
       "      dtype='object')"
      ]
     },
     "execution_count": 122,
     "metadata": {},
     "output_type": "execute_result"
    }
   ],
   "source": [
    "complaints.columns"
   ]
  },
  {
   "cell_type": "code",
   "execution_count": 123,
   "metadata": {
    "collapsed": false
   },
   "outputs": [
    {
     "name": "stdout",
     "output_type": "stream",
     "text": [
      "Debt collection\n",
      "<class 'str'>\n",
      "0   2015-05-19\n",
      "1   2015-05-19\n",
      "Name: Date received, dtype: datetime64[ns]\n",
      "2015-05-19 00:00:00\n",
      "<class 'pandas.tslib.Timestamp'>\n"
     ]
    }
   ],
   "source": [
    "print(complaints[\"Product\"][0])\n",
    "print(type(complaints[\"Product\"][0]))\n",
    "print(complaints[\"Date received\"].head(2))\n",
    "print(complaints[\"Date received\"][0])\n",
    "print(type(complaints[\"Date received\"][0]))"
   ]
  },
  {
   "cell_type": "markdown",
   "metadata": {},
   "source": [
    "#Complaints by Month"
   ]
  },
  {
   "cell_type": "code",
   "execution_count": 124,
   "metadata": {
    "collapsed": true
   },
   "outputs": [],
   "source": [
    "complaints.index = pd.to_datetime(complaints[\"Date received\"])"
   ]
  },
  {
   "cell_type": "code",
   "execution_count": 125,
   "metadata": {
    "collapsed": false
   },
   "outputs": [
    {
     "data": {
      "text/plain": [
       "Date received\n",
       "2015-05-19    Debt collection\n",
       "2015-05-19    Debt collection\n",
       "2015-05-19    Debt collection\n",
       "Name: Product, dtype: object"
      ]
     },
     "execution_count": 125,
     "metadata": {},
     "output_type": "execute_result"
    }
   ],
   "source": [
    "complaints.Product.head(3)"
   ]
  },
  {
   "cell_type": "code",
   "execution_count": 126,
   "metadata": {
    "collapsed": false
   },
   "outputs": [],
   "source": [
    "by_month = complaints.Product.resample(\"M\", how=[\"count\"])"
   ]
  },
  {
   "cell_type": "code",
   "execution_count": 127,
   "metadata": {
    "collapsed": false
   },
   "outputs": [
    {
     "data": {
      "text/html": [
       "<div style=\"max-height:1000px;max-width:1500px;overflow:auto;\">\n",
       "<table border=\"1\" class=\"dataframe\">\n",
       "  <thead>\n",
       "    <tr style=\"text-align: right;\">\n",
       "      <th></th>\n",
       "      <th>count</th>\n",
       "    </tr>\n",
       "    <tr>\n",
       "      <th>Date received</th>\n",
       "      <th></th>\n",
       "    </tr>\n",
       "  </thead>\n",
       "  <tbody>\n",
       "    <tr>\n",
       "      <th>2011-12-31</th>\n",
       "      <td>2556</td>\n",
       "    </tr>\n",
       "    <tr>\n",
       "      <th>2012-01-31</th>\n",
       "      <td>3266</td>\n",
       "    </tr>\n",
       "    <tr>\n",
       "      <th>2012-02-29</th>\n",
       "      <td>3507</td>\n",
       "    </tr>\n",
       "    <tr>\n",
       "      <th>2012-03-31</th>\n",
       "      <td>6247</td>\n",
       "    </tr>\n",
       "    <tr>\n",
       "      <th>2012-04-30</th>\n",
       "      <td>5725</td>\n",
       "    </tr>\n",
       "  </tbody>\n",
       "</table>\n",
       "</div>"
      ],
      "text/plain": [
       "               count\n",
       "Date received       \n",
       "2011-12-31      2556\n",
       "2012-01-31      3266\n",
       "2012-02-29      3507\n",
       "2012-03-31      6247\n",
       "2012-04-30      5725"
      ]
     },
     "execution_count": 127,
     "metadata": {},
     "output_type": "execute_result"
    }
   ],
   "source": [
    "by_month.head()"
   ]
  },
  {
   "cell_type": "code",
   "execution_count": 128,
   "metadata": {
    "collapsed": false
   },
   "outputs": [
    {
     "data": {
      "text/plain": [
       "count    3586\n",
       "Name: 2015-05-31 00:00:00, dtype: int64"
      ]
     },
     "execution_count": 128,
     "metadata": {},
     "output_type": "execute_result"
    }
   ],
   "source": [
    "by_month.ix[-1]"
   ]
  },
  {
   "cell_type": "code",
   "execution_count": 129,
   "metadata": {
    "collapsed": false
   },
   "outputs": [],
   "source": [
    "by_month = by_month.drop(by_month.index[-1])"
   ]
  },
  {
   "cell_type": "code",
   "execution_count": 130,
   "metadata": {
    "collapsed": false
   },
   "outputs": [
    {
     "data": {
      "text/html": [
       "<div style=\"max-height:1000px;max-width:1500px;overflow:auto;\">\n",
       "<table border=\"1\" class=\"dataframe\">\n",
       "  <thead>\n",
       "    <tr style=\"text-align: right;\">\n",
       "      <th></th>\n",
       "      <th>count</th>\n",
       "    </tr>\n",
       "    <tr>\n",
       "      <th>Date received</th>\n",
       "      <th></th>\n",
       "    </tr>\n",
       "  </thead>\n",
       "  <tbody>\n",
       "    <tr>\n",
       "      <th>2015-02-28</th>\n",
       "      <td>12709</td>\n",
       "    </tr>\n",
       "    <tr>\n",
       "      <th>2015-03-31</th>\n",
       "      <td>14558</td>\n",
       "    </tr>\n",
       "    <tr>\n",
       "      <th>2015-04-30</th>\n",
       "      <td>13442</td>\n",
       "    </tr>\n",
       "  </tbody>\n",
       "</table>\n",
       "</div>"
      ],
      "text/plain": [
       "               count\n",
       "Date received       \n",
       "2015-02-28     12709\n",
       "2015-03-31     14558\n",
       "2015-04-30     13442"
      ]
     },
     "execution_count": 130,
     "metadata": {},
     "output_type": "execute_result"
    }
   ],
   "source": [
    "by_month.tail(3)"
   ]
  },
  {
   "cell_type": "code",
   "execution_count": 131,
   "metadata": {
    "collapsed": false
   },
   "outputs": [
    {
     "data": {
      "image/png": "[encoded data removed]",
      "text/plain": [
       "<matplotlib.figure.Figure at 0x1068a3be0>"
      ]
     },
     "metadata": {},
     "output_type": "display_data"
    }
   ],
   "source": [
    "by_month.plot()\n",
    "plt.title(\"Number of Complaints by Month\")\n",
    "plt.ylabel(\"Number of Complaints\")\n",
    "plt.show()"
   ]
  },
  {
   "cell_type": "markdown",
   "metadata": {},
   "source": [
    "After some searching around online, this fast growth in recent years looks consistent with reality. The bureau was created not long before the start of this graph. It stands to reason that its role has not fully matured and that it will experience rapid growth in reports until it does."
   ]
  },
  {
   "cell_type": "markdown",
   "metadata": {},
   "source": [
    "#Number of Complaints by Product"
   ]
  },
  {
   "cell_type": "code",
   "execution_count": 132,
   "metadata": {
    "collapsed": true
   },
   "outputs": [],
   "source": [
    "complaints.index = complaints[\"Product\"] # did not pop the date received, so table does not need to be reloaded"
   ]
  },
  {
   "cell_type": "code",
   "execution_count": 133,
   "metadata": {
    "collapsed": false
   },
   "outputs": [
    {
     "data": {
      "image/png": "[encoded data removed]",
      "text/plain": [
       "<matplotlib.figure.Figure at 0x10268cc50>"
      ]
     },
     "metadata": {},
     "output_type": "display_data"
    }
   ],
   "source": [
    "complaints[\"Product\"].value_counts().plot(kind=\"pie\")\n",
    "plt.title(\"Complaints by Product\")\n",
    "plt.show()"
   ]
  },
  {
   "cell_type": "code",
   "execution_count": 134,
   "metadata": {
    "collapsed": false
   },
   "outputs": [
    {
     "data": {
      "image/png": "[encoded data removed]",
      "text/plain": [
       "<matplotlib.figure.Figure at 0x1047f37b8>"
      ]
     },
     "metadata": {},
     "output_type": "display_data"
    }
   ],
   "source": [
    "complaints[\"Product\"].value_counts().plot(kind=\"bar\")\n",
    "plt.title(\"Complaints by Product\")\n",
    "plt.show()"
   ]
  },
  {
   "cell_type": "markdown",
   "metadata": {},
   "source": [
    "This info is also consistent with the news on the subject. Mortages, debt collection, and credit reporting contain an obvious conflict of interest between the consumer and the company involved. Many people have problems with mortagage affordibility and complain because of a refusal to restructure the debt or poor terms that are offered. Considering the large number of people obliged to a mortage also clearly contributes to the numbers."
   ]
  },
  {
   "cell_type": "markdown",
   "metadata": {},
   "source": [
    "#Number by Company"
   ]
  },
  {
   "cell_type": "code",
   "execution_count": 135,
   "metadata": {
    "collapsed": false
   },
   "outputs": [
    {
     "data": {
      "text/plain": [
       "Wells Fargo            32860\n",
       "JPMorgan Chase         26088\n",
       "Experian               20027\n",
       "Citibank               19494\n",
       "Equifax                19427\n",
       "Ocwen                  16782\n",
       "TransUnion             15219\n",
       "Capital One            12009\n",
       "Nationstar Mortgage     9660\n",
       "dtype: int64"
      ]
     },
     "execution_count": 135,
     "metadata": {},
     "output_type": "execute_result"
    }
   ],
   "source": [
    "complaints[\"Company\"].value_counts().ix[1:10]"
   ]
  },
  {
   "cell_type": "code",
   "execution_count": 136,
   "metadata": {
    "collapsed": false
   },
   "outputs": [
    {
     "data": {
      "image/png": "[encoded data removed]",
      "text/plain": [
       "<matplotlib.figure.Figure at 0x1068e6550>"
      ]
     },
     "metadata": {},
     "output_type": "display_data"
    }
   ],
   "source": [
    "complaints[\"Company\"].value_counts()[:20].plot(kind=\"bar\")\n",
    "plt.title(\"Complaints by Product\")\n",
    "plt.show()"
   ]
  },
  {
   "cell_type": "markdown",
   "metadata": {},
   "source": [
    "This is also not very surprising. Some of the largest and most well-known banks come first, clearly because of the large number of customers they have. Some credit reporting agencies are thrown in there as well, notably Experian and Equifax. The subsequent companies seem to go into a wider variety of products."
   ]
  },
  {
   "cell_type": "markdown",
   "metadata": {},
   "source": [
    "#Number by Company Response"
   ]
  },
  {
   "cell_type": "code",
   "execution_count": 137,
   "metadata": {
    "collapsed": false
   },
   "outputs": [
    {
     "data": {
      "text/plain": [
       "Closed with explanation            277554\n",
       "Closed with non-monetary relief     50213\n",
       "Closed with monetary relief         28024\n",
       "Closed without relief               17909\n",
       "Closed                               9551\n",
       "Closed with relief                   5305\n",
       "In progress                          3107\n",
       "Untimely response                    1828\n",
       "dtype: int64"
      ]
     },
     "execution_count": 137,
     "metadata": {},
     "output_type": "execute_result"
    }
   ],
   "source": [
    "complaints[\"Company response\"].value_counts()"
   ]
  },
  {
   "cell_type": "markdown",
   "metadata": {},
   "source": [
    "Note that this only has 8 categories. It is also important to consult the original counts, and this has fully 393491 entries. That means that every entry had this field filled, and it is very clean data. It seems certain that the bureau forces this response to be one of a small list of pre-selected options."
   ]
  },
  {
   "cell_type": "code",
   "execution_count": 138,
   "metadata": {
    "collapsed": false
   },
   "outputs": [
    {
     "data": {
      "image/png": "[encoded data removed]",
      "text/plain": [
       "<matplotlib.figure.Figure at 0x1068bc128>"
      ]
     },
     "metadata": {},
     "output_type": "display_data"
    }
   ],
   "source": [
    "complaints[\"Company response\"].value_counts().plot(\"bar\")\n",
    "plt.show()"
   ]
  },
  {
   "cell_type": "code",
   "execution_count": 139,
   "metadata": {
    "collapsed": false
   },
   "outputs": [
    {
     "data": {
      "image/png": "[encoded data removed]",
      "text/plain": [
       "<matplotlib.figure.Figure at 0x107636d30>"
      ]
     },
     "metadata": {},
     "output_type": "display_data"
    }
   ],
   "source": [
    "complaints[\"Company response\"].value_counts().plot(\"pie\")\n",
    "plt.show()"
   ]
  },
  {
   "cell_type": "code",
   "execution_count": null,
   "metadata": {
    "collapsed": true
   },
   "outputs": [],
   "source": []
  },
  {
   "cell_type": "markdown",
   "metadata": {},
   "source": [
    "#By Day of Week"
   ]
  },
  {
   "cell_type": "code",
   "execution_count": 140,
   "metadata": {
    "collapsed": true
   },
   "outputs": [],
   "source": [
    "complaints.index = pd.to_datetime(complaints[\"Date received\"])"
   ]
  },
  {
   "cell_type": "code",
   "execution_count": 141,
   "metadata": {
    "collapsed": true
   },
   "outputs": [],
   "source": [
    "dow = [\"Sunday\", \"Monday\", \"Tuesday\", \"Wednesday\", \"Thursday\", \"Friday\", \"Saturday\"]"
   ]
  },
  {
   "cell_type": "code",
   "execution_count": 142,
   "metadata": {
    "collapsed": true
   },
   "outputs": [],
   "source": [
    "complaints[\"day_of_week\"] = complaints.index.to_series().map(lambda d: d.weekday())"
   ]
  },
  {
   "cell_type": "code",
   "execution_count": 143,
   "metadata": {
    "collapsed": false
   },
   "outputs": [
    {
     "name": "stdout",
     "output_type": "stream",
     "text": [
      "Date received\n",
      "2015-05-19    1\n",
      "2015-05-19    1\n",
      "Name: day_of_week, dtype: int64\n",
      "Date received\n",
      "2011-12-01    3\n",
      "2011-12-01    3\n",
      "Name: day_of_week, dtype: int64\n"
     ]
    }
   ],
   "source": [
    "print(complaints[\"day_of_week\"].ix[:2]) # seems to be working\n",
    "print(complaints[\"day_of_week\"].ix[-2:])"
   ]
  },
  {
   "cell_type": "code",
   "execution_count": 144,
   "metadata": {
    "collapsed": false
   },
   "outputs": [
    {
     "data": {
      "text/plain": [
       "0    71313\n",
       "1    74170\n",
       "2    76118\n",
       "3    72707\n",
       "4    63863\n",
       "5    19109\n",
       "6    16211\n",
       "dtype: int64"
      ]
     },
     "execution_count": 144,
     "metadata": {},
     "output_type": "execute_result"
    }
   ],
   "source": [
    "complaints[\"day_of_week\"].value_counts().sort_index() # seems like a reasonable list"
   ]
  },
  {
   "cell_type": "code",
   "execution_count": 145,
   "metadata": {
    "collapsed": true
   },
   "outputs": [],
   "source": [
    "weekday_plot = complaints[\"day_of_week\"].value_counts().sort_index()"
   ]
  },
  {
   "cell_type": "code",
   "execution_count": 146,
   "metadata": {
    "collapsed": false
   },
   "outputs": [],
   "source": [
    "weekday_plot.index = dow"
   ]
  },
  {
   "cell_type": "code",
   "execution_count": 147,
   "metadata": {
    "collapsed": false
   },
   "outputs": [
    {
     "name": "stdout",
     "output_type": "stream",
     "text": [
      "Sunday       71313\n",
      "Monday       74170\n",
      "Tuesday      76118\n",
      "Wednesday    72707\n",
      "Thursday     63863\n",
      "Friday       19109\n",
      "Saturday     16211\n",
      "dtype: int64\n"
     ]
    }
   ],
   "source": [
    "print(weekday_plot)"
   ]
  },
  {
   "cell_type": "code",
   "execution_count": 148,
   "metadata": {
    "collapsed": false
   },
   "outputs": [
    {
     "data": {
      "image/png": "[encoded data removed]",
      "text/plain": [
       "<matplotlib.figure.Figure at 0x10764db38>"
      ]
     },
     "metadata": {},
     "output_type": "display_data"
    }
   ],
   "source": [
    "weekday_plot.plot(\"bar\")\n",
    "plt.show()"
   ]
  },
  {
   "cell_type": "markdown",
   "metadata": {},
   "source": [
    "People apparently seem to log fewer complaints on the weekend. This seems like a reasonable conclusion. It might be because they interact with the finance companies more often during the weekdays in the first place. The reporting system seems to be online, so this is the best explination I have. People still might assume that their claim will be processed faster during the weekday, or a host of other possible reasons."
   ]
  },
  {
   "cell_type": "code",
   "execution_count": null,
   "metadata": {
    "collapsed": true
   },
   "outputs": [],
   "source": []
  },
  {
   "cell_type": "code",
   "execution_count": 149,
   "metadata": {
    "collapsed": false
   },
   "outputs": [
    {
     "name": "stdout",
     "output_type": "stream",
     "text": [
      "table with row headers in column A and column headers in rows 3 through 4. (leading dots indicate sub-parts),,,,,,\n",
      "\n",
      "\"Table 1. Annual Estimates of the Population for the United States, Regions, States, and Puerto Rico: April 1, 2010 to July 1, 2013\",,,,,,\n",
      "\n",
      "Geographic Area,\"April 1, 2010\",,Population Estimate (as of July 1),,,\n",
      "\n",
      ",Census,Estimates Base,2010,2011,2012,2013\n",
      "\n",
      "United States,\"308,745,538\",\"308,747,716\",\"309,326,295\",\"311,582,564\",\"313,873,685\",\"316,128,839\"\n",
      "\n"
     ]
    }
   ],
   "source": [
    "with open(\"State_population.csv\") as file:\n",
    "    for i in range(5):\n",
    "        print(file.readline())"
   ]
  },
  {
   "cell_type": "code",
   "execution_count": 150,
   "metadata": {
    "collapsed": false
   },
   "outputs": [],
   "source": [
    "pop = pd.read_csv(\"State_population.csv\", header=3, skipfooter=7, engine=\"python\")"
   ]
  },
  {
   "cell_type": "code",
   "execution_count": 151,
   "metadata": {
    "collapsed": false
   },
   "outputs": [
    {
     "data": {
      "text/html": [
       "<div style=\"max-height:1000px;max-width:1500px;overflow:auto;\">\n",
       "<table border=\"1\" class=\"dataframe\">\n",
       "  <thead>\n",
       "    <tr style=\"text-align: right;\">\n",
       "      <th></th>\n",
       "      <th>Unnamed: 0</th>\n",
       "      <th>Census</th>\n",
       "      <th>Estimates Base</th>\n",
       "      <th>2010</th>\n",
       "      <th>2011</th>\n",
       "      <th>2012</th>\n",
       "      <th>2013</th>\n",
       "    </tr>\n",
       "  </thead>\n",
       "  <tbody>\n",
       "    <tr>\n",
       "      <th>0</th>\n",
       "      <td>United States</td>\n",
       "      <td>308,745,538</td>\n",
       "      <td>308,747,716</td>\n",
       "      <td>309,326,295</td>\n",
       "      <td>311,582,564</td>\n",
       "      <td>313,873,685</td>\n",
       "      <td>316,128,839</td>\n",
       "    </tr>\n",
       "    <tr>\n",
       "      <th>1</th>\n",
       "      <td>Northeast</td>\n",
       "      <td>55,317,240</td>\n",
       "      <td>55,317,261</td>\n",
       "      <td>55,376,322</td>\n",
       "      <td>55,598,499</td>\n",
       "      <td>55,771,792</td>\n",
       "      <td>55,943,073</td>\n",
       "    </tr>\n",
       "    <tr>\n",
       "      <th>2</th>\n",
       "      <td>Midwest</td>\n",
       "      <td>66,927,001</td>\n",
       "      <td>66,927,549</td>\n",
       "      <td>66,976,321</td>\n",
       "      <td>67,146,663</td>\n",
       "      <td>67,321,425</td>\n",
       "      <td>67,547,890</td>\n",
       "    </tr>\n",
       "    <tr>\n",
       "      <th>3</th>\n",
       "      <td>South</td>\n",
       "      <td>114,555,744</td>\n",
       "      <td>114,557,273</td>\n",
       "      <td>114,857,899</td>\n",
       "      <td>116,032,322</td>\n",
       "      <td>117,253,992</td>\n",
       "      <td>118,383,453</td>\n",
       "    </tr>\n",
       "    <tr>\n",
       "      <th>4</th>\n",
       "      <td>West</td>\n",
       "      <td>71,945,553</td>\n",
       "      <td>71,945,633</td>\n",
       "      <td>72,115,753</td>\n",
       "      <td>72,805,080</td>\n",
       "      <td>73,526,476</td>\n",
       "      <td>74,254,423</td>\n",
       "    </tr>\n",
       "  </tbody>\n",
       "</table>\n",
       "</div>"
      ],
      "text/plain": [
       "      Unnamed: 0       Census Estimates Base         2010         2011  \\\n",
       "0  United States  308,745,538    308,747,716  309,326,295  311,582,564   \n",
       "1      Northeast   55,317,240     55,317,261   55,376,322   55,598,499   \n",
       "2        Midwest   66,927,001     66,927,549   66,976,321   67,146,663   \n",
       "3          South  114,555,744    114,557,273  114,857,899  116,032,322   \n",
       "4           West   71,945,553     71,945,633   72,115,753   72,805,080   \n",
       "\n",
       "          2012         2013  \n",
       "0  313,873,685  316,128,839  \n",
       "1   55,771,792   55,943,073  \n",
       "2   67,321,425   67,547,890  \n",
       "3  117,253,992  118,383,453  \n",
       "4   73,526,476   74,254,423  "
      ]
     },
     "execution_count": 151,
     "metadata": {},
     "output_type": "execute_result"
    }
   ],
   "source": [
    "pop.ix[:4]"
   ]
  },
  {
   "cell_type": "code",
   "execution_count": 152,
   "metadata": {
    "collapsed": false
   },
   "outputs": [
    {
     "data": {
      "text/plain": [
       "Index(['Unnamed: 0', 'Census', 'Estimates Base', '2010', '2011', '2012',\n",
       "       '2013'],\n",
       "      dtype='object')"
      ]
     },
     "execution_count": 152,
     "metadata": {},
     "output_type": "execute_result"
    }
   ],
   "source": [
    "pop.columns"
   ]
  },
  {
   "cell_type": "code",
   "execution_count": 153,
   "metadata": {
    "collapsed": true
   },
   "outputs": [],
   "source": [
    "pop.columns = [\"State\", \"Census\", \"Base\", 2010, 2011, 2012, 2013]"
   ]
  },
  {
   "cell_type": "code",
   "execution_count": 154,
   "metadata": {
    "collapsed": false
   },
   "outputs": [
    {
     "data": {
      "text/plain": [
       "Index(['State', 'Census', 'Base', 2010, 2011, 2012, 2013], dtype='object')"
      ]
     },
     "execution_count": 154,
     "metadata": {},
     "output_type": "execute_result"
    }
   ],
   "source": [
    "pop.columns"
   ]
  },
  {
   "cell_type": "code",
   "execution_count": 155,
   "metadata": {
    "collapsed": false
   },
   "outputs": [],
   "source": [
    "pop.index = pop[\"State\"]"
   ]
  },
  {
   "cell_type": "code",
   "execution_count": 156,
   "metadata": {
    "collapsed": false
   },
   "outputs": [
    {
     "data": {
      "text/html": [
       "<div style=\"max-height:1000px;max-width:1500px;overflow:auto;\">\n",
       "<table border=\"1\" class=\"dataframe\">\n",
       "  <thead>\n",
       "    <tr style=\"text-align: right;\">\n",
       "      <th></th>\n",
       "      <th>State</th>\n",
       "      <th>Census</th>\n",
       "      <th>Base</th>\n",
       "      <th>2010</th>\n",
       "      <th>2011</th>\n",
       "      <th>2012</th>\n",
       "      <th>2013</th>\n",
       "    </tr>\n",
       "    <tr>\n",
       "      <th>State</th>\n",
       "      <th></th>\n",
       "      <th></th>\n",
       "      <th></th>\n",
       "      <th></th>\n",
       "      <th></th>\n",
       "      <th></th>\n",
       "      <th></th>\n",
       "    </tr>\n",
       "  </thead>\n",
       "  <tbody>\n",
       "    <tr>\n",
       "      <th>.Virginia</th>\n",
       "      <td>.Virginia</td>\n",
       "      <td>8,001,024</td>\n",
       "      <td>8,001,031</td>\n",
       "      <td>8,024,417</td>\n",
       "      <td>8,105,850</td>\n",
       "      <td>8,186,628</td>\n",
       "      <td>8,260,405</td>\n",
       "    </tr>\n",
       "    <tr>\n",
       "      <th>.Washington</th>\n",
       "      <td>.Washington</td>\n",
       "      <td>6,724,540</td>\n",
       "      <td>6,724,543</td>\n",
       "      <td>6,742,256</td>\n",
       "      <td>6,821,481</td>\n",
       "      <td>6,895,318</td>\n",
       "      <td>6,971,406</td>\n",
       "    </tr>\n",
       "    <tr>\n",
       "      <th>.West Virginia</th>\n",
       "      <td>.West Virginia</td>\n",
       "      <td>1,852,994</td>\n",
       "      <td>1,852,999</td>\n",
       "      <td>1,854,146</td>\n",
       "      <td>1,855,184</td>\n",
       "      <td>1,856,680</td>\n",
       "      <td>1,854,304</td>\n",
       "    </tr>\n",
       "    <tr>\n",
       "      <th>.Wisconsin</th>\n",
       "      <td>.Wisconsin</td>\n",
       "      <td>5,686,986</td>\n",
       "      <td>5,686,983</td>\n",
       "      <td>5,689,060</td>\n",
       "      <td>5,708,785</td>\n",
       "      <td>5,724,554</td>\n",
       "      <td>5,742,713</td>\n",
       "    </tr>\n",
       "    <tr>\n",
       "      <th>.Wyoming</th>\n",
       "      <td>.Wyoming</td>\n",
       "      <td>563,626</td>\n",
       "      <td>563,626</td>\n",
       "      <td>564,222</td>\n",
       "      <td>567,329</td>\n",
       "      <td>576,626</td>\n",
       "      <td>582,658</td>\n",
       "    </tr>\n",
       "  </tbody>\n",
       "</table>\n",
       "</div>"
      ],
      "text/plain": [
       "                         State     Census       Base       2010       2011  \\\n",
       "State                                                                        \n",
       ".Virginia            .Virginia  8,001,024  8,001,031  8,024,417  8,105,850   \n",
       ".Washington        .Washington  6,724,540  6,724,543  6,742,256  6,821,481   \n",
       ".West Virginia  .West Virginia  1,852,994  1,852,999  1,854,146  1,855,184   \n",
       ".Wisconsin          .Wisconsin  5,686,986  5,686,983  5,689,060  5,708,785   \n",
       ".Wyoming              .Wyoming    563,626    563,626    564,222    567,329   \n",
       "\n",
       "                     2012       2013  \n",
       "State                                 \n",
       ".Virginia       8,186,628  8,260,405  \n",
       ".Washington     6,895,318  6,971,406  \n",
       ".West Virginia  1,856,680  1,854,304  \n",
       ".Wisconsin      5,724,554  5,742,713  \n",
       ".Wyoming          576,626    582,658  "
      ]
     },
     "execution_count": 156,
     "metadata": {},
     "output_type": "execute_result"
    }
   ],
   "source": [
    "pop.tail()"
   ]
  },
  {
   "cell_type": "code",
   "execution_count": 157,
   "metadata": {
    "collapsed": false
   },
   "outputs": [
    {
     "data": {
      "text/plain": [
       "'.Arkansas'"
      ]
     },
     "execution_count": 157,
     "metadata": {},
     "output_type": "execute_result"
    }
   ],
   "source": [
    "pop.index[8]"
   ]
  },
  {
   "cell_type": "code",
   "execution_count": 158,
   "metadata": {
    "collapsed": false,
    "scrolled": false
   },
   "outputs": [
    {
     "data": {
      "text/plain": [
       "2959373"
      ]
     },
     "execution_count": 158,
     "metadata": {},
     "output_type": "execute_result"
    }
   ],
   "source": [
    "int(pop[2013]['.Arkansas'].replace(\",\",\"\"))"
   ]
  },
  {
   "cell_type": "code",
   "execution_count": null,
   "metadata": {
    "collapsed": true
   },
   "outputs": [],
   "source": []
  },
  {
   "cell_type": "code",
   "execution_count": null,
   "metadata": {
    "collapsed": false
   },
   "outputs": [],
   "source": []
  },
  {
   "cell_type": "code",
   "execution_count": 159,
   "metadata": {
    "collapsed": false
   },
   "outputs": [],
   "source": [
    "names = pd.read_csv(\"State_abrv.tsv\", sep=\"\\t\")"
   ]
  },
  {
   "cell_type": "code",
   "execution_count": 160,
   "metadata": {
    "collapsed": false
   },
   "outputs": [
    {
     "data": {
      "text/html": [
       "<div style=\"max-height:1000px;max-width:1500px;overflow:auto;\">\n",
       "<table border=\"1\" class=\"dataframe\">\n",
       "  <thead>\n",
       "    <tr style=\"text-align: right;\">\n",
       "      <th></th>\n",
       "      <th>State</th>\n",
       "      <th>junk1</th>\n",
       "      <th>junk2</th>\n",
       "      <th>code</th>\n",
       "    </tr>\n",
       "  </thead>\n",
       "  <tbody>\n",
       "    <tr>\n",
       "      <th>0</th>\n",
       "      <td>Alabama</td>\n",
       "      <td>State</td>\n",
       "      <td>US-AL</td>\n",
       "      <td>AL</td>\n",
       "    </tr>\n",
       "    <tr>\n",
       "      <th>1</th>\n",
       "      <td>Alaska</td>\n",
       "      <td>State</td>\n",
       "      <td>US-AK</td>\n",
       "      <td>AK</td>\n",
       "    </tr>\n",
       "    <tr>\n",
       "      <th>2</th>\n",
       "      <td>Arizona</td>\n",
       "      <td>State</td>\n",
       "      <td>US-AZ</td>\n",
       "      <td>AZ</td>\n",
       "    </tr>\n",
       "    <tr>\n",
       "      <th>3</th>\n",
       "      <td>Arkansas</td>\n",
       "      <td>State</td>\n",
       "      <td>US-AR</td>\n",
       "      <td>AR</td>\n",
       "    </tr>\n",
       "    <tr>\n",
       "      <th>4</th>\n",
       "      <td>California</td>\n",
       "      <td>State</td>\n",
       "      <td>US-CA</td>\n",
       "      <td>CA</td>\n",
       "    </tr>\n",
       "  </tbody>\n",
       "</table>\n",
       "</div>"
      ],
      "text/plain": [
       "        State  junk1  junk2 code\n",
       "0     Alabama  State  US-AL   AL\n",
       "1      Alaska  State  US-AK   AK\n",
       "2     Arizona  State  US-AZ   AZ\n",
       "3    Arkansas  State  US-AR   AR\n",
       "4  California  State  US-CA   CA"
      ]
     },
     "execution_count": 160,
     "metadata": {},
     "output_type": "execute_result"
    }
   ],
   "source": [
    "names.head()"
   ]
  },
  {
   "cell_type": "code",
   "execution_count": 161,
   "metadata": {
    "collapsed": false
   },
   "outputs": [
    {
     "name": "stdout",
     "output_type": "stream",
     "text": [
      ".Alabama4833722 .Alaska735132 .Arizona6626624 .Arkansas2959373 .California38332521 .Colorado5268367 .Connecticut3596080 .Delaware925749 .District of Columbia646449 .Florida19552860 .Georgia9992167 .Hawaii1404054 .Idaho1612136 .Illinois12882135 .Indiana6570902 .Iowa3090416 .Kansas2893957 .Kentucky4395295 .Louisiana4625470 .Maine1328302 .Maryland5928814 .Massachusetts6692824 .Michigan9895622 .Minnesota5420380 .Mississippi2991207 .Missouri6044171 .Montana1015165 .Nebraska1868516 .Nevada2790136 .New Hampshire1323459 .New Jersey8899339 .New Mexico2085287 .New York19651127 .North Carolina9848060 .North Dakota723393 .Ohio11570808 .Oklahoma3850568 .Oregon3930065 .Pennsylvania12773801 .Rhode Island1051511 .South Carolina4774839 .South Dakota844877 .Tennessee6495978 .Texas26448193 .Utah2900872 .Vermont626630 .Virginia8260405 .Washington6971406 .West Virginia1854304 .Wisconsin5742713 "
     ]
    }
   ],
   "source": [
    "for i in range(50):\n",
    "    s = names[\"State\"][i]\n",
    "    c = names[\"code\"][i]\n",
    "    print(\".\"+s+str(int(pop[2013][\".\"+s].replace(\",\",\"\")))+\" \", end=\"\")"
   ]
  },
  {
   "cell_type": "code",
   "execution_count": null,
   "metadata": {
    "collapsed": true
   },
   "outputs": [],
   "source": []
  },
  {
   "cell_type": "code",
   "execution_count": 163,
   "metadata": {
    "collapsed": false
   },
   "outputs": [
    {
     "data": {
      "text/plain": [
       "Date received\n",
       "2015-05-19    IN\n",
       "2015-05-19    GA\n",
       "2015-05-19    WA\n",
       "2015-05-19    IA\n",
       "2015-05-19    FL\n",
       "Name: State, dtype: object"
      ]
     },
     "execution_count": 163,
     "metadata": {},
     "output_type": "execute_result"
    }
   ],
   "source": [
    "complaints[\"State\"].head()"
   ]
  },
  {
   "cell_type": "code",
   "execution_count": null,
   "metadata": {
    "collapsed": true
   },
   "outputs": [],
   "source": []
  },
  {
   "cell_type": "code",
   "execution_count": 164,
   "metadata": {
    "collapsed": true
   },
   "outputs": [],
   "source": [
    "complaints.index = complaints[\"State\"]"
   ]
  },
  {
   "cell_type": "code",
   "execution_count": null,
   "metadata": {
    "collapsed": true
   },
   "outputs": [],
   "source": []
  },
  {
   "cell_type": "code",
   "execution_count": null,
   "metadata": {
    "collapsed": true
   },
   "outputs": [],
   "source": []
  },
  {
   "cell_type": "code",
   "execution_count": null,
   "metadata": {
    "collapsed": true
   },
   "outputs": [],
   "source": []
  },
  {
   "cell_type": "code",
   "execution_count": null,
   "metadata": {
    "collapsed": true
   },
   "outputs": [],
   "source": []
  }
 ],
 "metadata": {
  "kernelspec": {
   "display_name": "Python 3",
   "language": "python",
   "name": "python3"
  },
  "language_info": {
   "codemirror_mode": {
    "name": "ipython",
    "version": 3
   },
   "file_extension": ".py",
   "mimetype": "text/x-python",
   "name": "python",
   "nbconvert_exporter": "python",
   "pygments_lexer": "ipython3",
   "version": "3.4.3"
  }
 },
 "nbformat": 4,
 "nbformat_minor": 0
}
