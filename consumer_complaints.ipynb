{
 "cells": [
  {
   "cell_type": "markdown",
   "metadata": {},
   "source": [
    "# Analyze Consumer Complaint Data\n",
    "\n",
    "## Description\n",
    "\n",
    "I am using pandas to read and analyze data from the [CFPB Consumer Complaint\n",
    "Database](http://www.consumerfinance.gov/complaintdatabase/). This database is\n",
    "a collection of all complaints made by American consumers to the Consumer\n",
    "Financial Protection Bureau."
   ]
  },
  {
   "cell_type": "code",
   "execution_count": 1,
   "metadata": {
    "collapsed": true
   },
   "outputs": [],
   "source": [
    "import pandas as pd\n",
    "import matplotlib.pyplot as plt\n",
    "import numpy as np"
   ]
  },
  {
   "cell_type": "code",
   "execution_count": 2,
   "metadata": {
    "collapsed": true
   },
   "outputs": [],
   "source": [
    "%matplotlib inline"
   ]
  },
  {
   "cell_type": "code",
   "execution_count": 3,
   "metadata": {
    "collapsed": false
   },
   "outputs": [
    {
     "name": "stderr",
     "output_type": "stream",
     "text": [
      "/Users/trippshealy/iron_yard/week4/consumer-complaints/.direnv/python-3.4.3/lib/python3.4/site-packages/pandas/io/parsers.py:1170: DtypeWarning: Columns (4) have mixed types. Specify dtype option on import or set low_memory=False.\n",
      "  data = self._reader.read(nrows)\n"
     ]
    }
   ],
   "source": [
    "#reading/pulling data file csv\n",
    "consumer_complaints = pd.read_csv(\"Consumer_Complaints.csv\", )"
   ]
  },
  {
   "cell_type": "code",
   "execution_count": 4,
   "metadata": {
    "collapsed": false
   },
   "outputs": [
    {
     "data": {
      "text/html": [
       "<div style=\"max-height:1000px;max-width:1500px;overflow:auto;\">\n",
       "<table border=\"1\" class=\"dataframe\">\n",
       "  <thead>\n",
       "    <tr style=\"text-align: right;\">\n",
       "      <th></th>\n",
       "      <th>Complaint ID</th>\n",
       "      <th>Product</th>\n",
       "      <th>Sub-product</th>\n",
       "      <th>Issue</th>\n",
       "      <th>Sub-issue</th>\n",
       "      <th>State</th>\n",
       "      <th>ZIP code</th>\n",
       "      <th>Submitted via</th>\n",
       "      <th>Date received</th>\n",
       "      <th>Date sent to company</th>\n",
       "      <th>Company</th>\n",
       "      <th>Company response</th>\n",
       "      <th>Timely response?</th>\n",
       "      <th>Consumer disputed?</th>\n",
       "    </tr>\n",
       "  </thead>\n",
       "  <tbody>\n",
       "    <tr>\n",
       "      <th>0</th>\n",
       "      <td>1388734</td>\n",
       "      <td>Mortgage</td>\n",
       "      <td>Conventional adjustable mortgage (ARM)</td>\n",
       "      <td>Loan servicing, payments, escrow account</td>\n",
       "      <td>NaN</td>\n",
       "      <td>VA</td>\n",
       "      <td>22204</td>\n",
       "      <td>Web</td>\n",
       "      <td>05/22/2015</td>\n",
       "      <td>05/22/2015</td>\n",
       "      <td>Green Tree Servicing, LLC</td>\n",
       "      <td>Closed with explanation</td>\n",
       "      <td>Yes</td>\n",
       "      <td>NaN</td>\n",
       "    </tr>\n",
       "    <tr>\n",
       "      <th>1</th>\n",
       "      <td>1389303</td>\n",
       "      <td>Consumer loan</td>\n",
       "      <td>Vehicle loan</td>\n",
       "      <td>Taking out the loan or lease</td>\n",
       "      <td>NaN</td>\n",
       "      <td>MO</td>\n",
       "      <td>63304</td>\n",
       "      <td>Web</td>\n",
       "      <td>05/22/2015</td>\n",
       "      <td>05/22/2015</td>\n",
       "      <td>Ally Financial Inc.</td>\n",
       "      <td>In progress</td>\n",
       "      <td>Yes</td>\n",
       "      <td>NaN</td>\n",
       "    </tr>\n",
       "    <tr>\n",
       "      <th>2</th>\n",
       "      <td>1389676</td>\n",
       "      <td>Consumer loan</td>\n",
       "      <td>Vehicle lease</td>\n",
       "      <td>Problems when you are unable to pay</td>\n",
       "      <td>NaN</td>\n",
       "      <td>FL</td>\n",
       "      <td>33414</td>\n",
       "      <td>Web</td>\n",
       "      <td>05/22/2015</td>\n",
       "      <td>05/22/2015</td>\n",
       "      <td>Ally Financial Inc.</td>\n",
       "      <td>In progress</td>\n",
       "      <td>Yes</td>\n",
       "      <td>NaN</td>\n",
       "    </tr>\n",
       "    <tr>\n",
       "      <th>3</th>\n",
       "      <td>1388406</td>\n",
       "      <td>Mortgage</td>\n",
       "      <td>Conventional fixed mortgage</td>\n",
       "      <td>Loan servicing, payments, escrow account</td>\n",
       "      <td>NaN</td>\n",
       "      <td>NC</td>\n",
       "      <td>27615</td>\n",
       "      <td>Web</td>\n",
       "      <td>05/22/2015</td>\n",
       "      <td>05/22/2015</td>\n",
       "      <td>Navy FCU</td>\n",
       "      <td>In progress</td>\n",
       "      <td>Yes</td>\n",
       "      <td>NaN</td>\n",
       "    </tr>\n",
       "    <tr>\n",
       "      <th>4</th>\n",
       "      <td>1388470</td>\n",
       "      <td>Consumer loan</td>\n",
       "      <td>Installment loan</td>\n",
       "      <td>Managing the loan or lease</td>\n",
       "      <td>NaN</td>\n",
       "      <td>MA</td>\n",
       "      <td>1474</td>\n",
       "      <td>Phone</td>\n",
       "      <td>05/22/2015</td>\n",
       "      <td>05/22/2015</td>\n",
       "      <td>Santander Bank US</td>\n",
       "      <td>In progress</td>\n",
       "      <td>Yes</td>\n",
       "      <td>NaN</td>\n",
       "    </tr>\n",
       "  </tbody>\n",
       "</table>\n",
       "</div>"
      ],
      "text/plain": [
       "   Complaint ID        Product                             Sub-product  \\\n",
       "0       1388734       Mortgage  Conventional adjustable mortgage (ARM)   \n",
       "1       1389303  Consumer loan                            Vehicle loan   \n",
       "2       1389676  Consumer loan                           Vehicle lease   \n",
       "3       1388406       Mortgage             Conventional fixed mortgage   \n",
       "4       1388470  Consumer loan                        Installment loan   \n",
       "\n",
       "                                      Issue Sub-issue State  ZIP code  \\\n",
       "0  Loan servicing, payments, escrow account       NaN    VA     22204   \n",
       "1              Taking out the loan or lease       NaN    MO     63304   \n",
       "2       Problems when you are unable to pay       NaN    FL     33414   \n",
       "3  Loan servicing, payments, escrow account       NaN    NC     27615   \n",
       "4                Managing the loan or lease       NaN    MA      1474   \n",
       "\n",
       "  Submitted via Date received Date sent to company                    Company  \\\n",
       "0           Web    05/22/2015           05/22/2015  Green Tree Servicing, LLC   \n",
       "1           Web    05/22/2015           05/22/2015        Ally Financial Inc.   \n",
       "2           Web    05/22/2015           05/22/2015        Ally Financial Inc.   \n",
       "3           Web    05/22/2015           05/22/2015                   Navy FCU   \n",
       "4         Phone    05/22/2015           05/22/2015          Santander Bank US   \n",
       "\n",
       "          Company response Timely response? Consumer disputed?  \n",
       "0  Closed with explanation              Yes                NaN  \n",
       "1              In progress              Yes                NaN  \n",
       "2              In progress              Yes                NaN  \n",
       "3              In progress              Yes                NaN  \n",
       "4              In progress              Yes                NaN  "
      ]
     },
     "execution_count": 4,
     "metadata": {},
     "output_type": "execute_result"
    }
   ],
   "source": [
    "consumer_complaints.head()"
   ]
  },
  {
   "cell_type": "markdown",
   "metadata": {},
   "source": [
    "##Cleaning Data"
   ]
  },
  {
   "cell_type": "code",
   "execution_count": 5,
   "metadata": {
    "collapsed": true
   },
   "outputs": [],
   "source": [
    "#removing whitespace from column titles\n",
    "consumer_complaints = consumer_complaints.rename(columns=lambda x: x.replace(' ', '_'))"
   ]
  },
  {
   "cell_type": "code",
   "execution_count": 6,
   "metadata": {
    "collapsed": false
   },
   "outputs": [
    {
     "data": {
      "text/html": [
       "<div style=\"max-height:1000px;max-width:1500px;overflow:auto;\">\n",
       "<table border=\"1\" class=\"dataframe\">\n",
       "  <thead>\n",
       "    <tr style=\"text-align: right;\">\n",
       "      <th></th>\n",
       "      <th>Complaint_ID</th>\n",
       "      <th>Product</th>\n",
       "      <th>Sub-product</th>\n",
       "      <th>Issue</th>\n",
       "      <th>Sub-issue</th>\n",
       "      <th>State</th>\n",
       "      <th>ZIP_code</th>\n",
       "      <th>Submitted_via</th>\n",
       "      <th>Date_received</th>\n",
       "      <th>Date_sent_to_company</th>\n",
       "      <th>Company</th>\n",
       "      <th>Company_response</th>\n",
       "      <th>Timely_response?</th>\n",
       "      <th>Consumer_disputed?</th>\n",
       "    </tr>\n",
       "  </thead>\n",
       "  <tbody>\n",
       "    <tr>\n",
       "      <th>0</th>\n",
       "      <td>1388734</td>\n",
       "      <td>Mortgage</td>\n",
       "      <td>Conventional adjustable mortgage (ARM)</td>\n",
       "      <td>Loan servicing, payments, escrow account</td>\n",
       "      <td>NaN</td>\n",
       "      <td>VA</td>\n",
       "      <td>22204</td>\n",
       "      <td>Web</td>\n",
       "      <td>05/22/2015</td>\n",
       "      <td>05/22/2015</td>\n",
       "      <td>Green Tree Servicing, LLC</td>\n",
       "      <td>Closed with explanation</td>\n",
       "      <td>Yes</td>\n",
       "      <td>NaN</td>\n",
       "    </tr>\n",
       "    <tr>\n",
       "      <th>1</th>\n",
       "      <td>1389303</td>\n",
       "      <td>Consumer loan</td>\n",
       "      <td>Vehicle loan</td>\n",
       "      <td>Taking out the loan or lease</td>\n",
       "      <td>NaN</td>\n",
       "      <td>MO</td>\n",
       "      <td>63304</td>\n",
       "      <td>Web</td>\n",
       "      <td>05/22/2015</td>\n",
       "      <td>05/22/2015</td>\n",
       "      <td>Ally Financial Inc.</td>\n",
       "      <td>In progress</td>\n",
       "      <td>Yes</td>\n",
       "      <td>NaN</td>\n",
       "    </tr>\n",
       "    <tr>\n",
       "      <th>2</th>\n",
       "      <td>1389676</td>\n",
       "      <td>Consumer loan</td>\n",
       "      <td>Vehicle lease</td>\n",
       "      <td>Problems when you are unable to pay</td>\n",
       "      <td>NaN</td>\n",
       "      <td>FL</td>\n",
       "      <td>33414</td>\n",
       "      <td>Web</td>\n",
       "      <td>05/22/2015</td>\n",
       "      <td>05/22/2015</td>\n",
       "      <td>Ally Financial Inc.</td>\n",
       "      <td>In progress</td>\n",
       "      <td>Yes</td>\n",
       "      <td>NaN</td>\n",
       "    </tr>\n",
       "    <tr>\n",
       "      <th>3</th>\n",
       "      <td>1388406</td>\n",
       "      <td>Mortgage</td>\n",
       "      <td>Conventional fixed mortgage</td>\n",
       "      <td>Loan servicing, payments, escrow account</td>\n",
       "      <td>NaN</td>\n",
       "      <td>NC</td>\n",
       "      <td>27615</td>\n",
       "      <td>Web</td>\n",
       "      <td>05/22/2015</td>\n",
       "      <td>05/22/2015</td>\n",
       "      <td>Navy FCU</td>\n",
       "      <td>In progress</td>\n",
       "      <td>Yes</td>\n",
       "      <td>NaN</td>\n",
       "    </tr>\n",
       "    <tr>\n",
       "      <th>4</th>\n",
       "      <td>1388470</td>\n",
       "      <td>Consumer loan</td>\n",
       "      <td>Installment loan</td>\n",
       "      <td>Managing the loan or lease</td>\n",
       "      <td>NaN</td>\n",
       "      <td>MA</td>\n",
       "      <td>1474</td>\n",
       "      <td>Phone</td>\n",
       "      <td>05/22/2015</td>\n",
       "      <td>05/22/2015</td>\n",
       "      <td>Santander Bank US</td>\n",
       "      <td>In progress</td>\n",
       "      <td>Yes</td>\n",
       "      <td>NaN</td>\n",
       "    </tr>\n",
       "  </tbody>\n",
       "</table>\n",
       "</div>"
      ],
      "text/plain": [
       "   Complaint_ID        Product                             Sub-product  \\\n",
       "0       1388734       Mortgage  Conventional adjustable mortgage (ARM)   \n",
       "1       1389303  Consumer loan                            Vehicle loan   \n",
       "2       1389676  Consumer loan                           Vehicle lease   \n",
       "3       1388406       Mortgage             Conventional fixed mortgage   \n",
       "4       1388470  Consumer loan                        Installment loan   \n",
       "\n",
       "                                      Issue Sub-issue State  ZIP_code  \\\n",
       "0  Loan servicing, payments, escrow account       NaN    VA     22204   \n",
       "1              Taking out the loan or lease       NaN    MO     63304   \n",
       "2       Problems when you are unable to pay       NaN    FL     33414   \n",
       "3  Loan servicing, payments, escrow account       NaN    NC     27615   \n",
       "4                Managing the loan or lease       NaN    MA      1474   \n",
       "\n",
       "  Submitted_via Date_received Date_sent_to_company                    Company  \\\n",
       "0           Web    05/22/2015           05/22/2015  Green Tree Servicing, LLC   \n",
       "1           Web    05/22/2015           05/22/2015        Ally Financial Inc.   \n",
       "2           Web    05/22/2015           05/22/2015        Ally Financial Inc.   \n",
       "3           Web    05/22/2015           05/22/2015                   Navy FCU   \n",
       "4         Phone    05/22/2015           05/22/2015          Santander Bank US   \n",
       "\n",
       "          Company_response Timely_response? Consumer_disputed?  \n",
       "0  Closed with explanation              Yes                NaN  \n",
       "1              In progress              Yes                NaN  \n",
       "2              In progress              Yes                NaN  \n",
       "3              In progress              Yes                NaN  \n",
       "4              In progress              Yes                NaN  "
      ]
     },
     "execution_count": 6,
     "metadata": {},
     "output_type": "execute_result"
    }
   ],
   "source": [
    "consumer_complaints.head()"
   ]
  },
  {
   "cell_type": "code",
   "execution_count": 7,
   "metadata": {
    "collapsed": false
   },
   "outputs": [],
   "source": [
    "#making index the date complaint recieved \n",
    "consumer_complaints.index = pd.to_datetime(consumer_complaints.pop('Date_received'), format=\"%m/%d/%Y\")"
   ]
  },
  {
   "cell_type": "code",
   "execution_count": 8,
   "metadata": {
    "collapsed": false
   },
   "outputs": [
    {
     "data": {
      "text/html": [
       "<div style=\"max-height:1000px;max-width:1500px;overflow:auto;\">\n",
       "<table border=\"1\" class=\"dataframe\">\n",
       "  <thead>\n",
       "    <tr style=\"text-align: right;\">\n",
       "      <th></th>\n",
       "      <th>Complaint_ID</th>\n",
       "      <th>Product</th>\n",
       "      <th>Sub-product</th>\n",
       "      <th>Issue</th>\n",
       "      <th>Sub-issue</th>\n",
       "      <th>State</th>\n",
       "      <th>ZIP_code</th>\n",
       "      <th>Submitted_via</th>\n",
       "      <th>Date_sent_to_company</th>\n",
       "      <th>Company</th>\n",
       "      <th>Company_response</th>\n",
       "      <th>Timely_response?</th>\n",
       "      <th>Consumer_disputed?</th>\n",
       "    </tr>\n",
       "    <tr>\n",
       "      <th>Date_received</th>\n",
       "      <th></th>\n",
       "      <th></th>\n",
       "      <th></th>\n",
       "      <th></th>\n",
       "      <th></th>\n",
       "      <th></th>\n",
       "      <th></th>\n",
       "      <th></th>\n",
       "      <th></th>\n",
       "      <th></th>\n",
       "      <th></th>\n",
       "      <th></th>\n",
       "      <th></th>\n",
       "    </tr>\n",
       "  </thead>\n",
       "  <tbody>\n",
       "    <tr>\n",
       "      <th>2015-05-22</th>\n",
       "      <td>1388734</td>\n",
       "      <td>Mortgage</td>\n",
       "      <td>Conventional adjustable mortgage (ARM)</td>\n",
       "      <td>Loan servicing, payments, escrow account</td>\n",
       "      <td>NaN</td>\n",
       "      <td>VA</td>\n",
       "      <td>22204</td>\n",
       "      <td>Web</td>\n",
       "      <td>05/22/2015</td>\n",
       "      <td>Green Tree Servicing, LLC</td>\n",
       "      <td>Closed with explanation</td>\n",
       "      <td>Yes</td>\n",
       "      <td>NaN</td>\n",
       "    </tr>\n",
       "    <tr>\n",
       "      <th>2015-05-22</th>\n",
       "      <td>1389303</td>\n",
       "      <td>Consumer loan</td>\n",
       "      <td>Vehicle loan</td>\n",
       "      <td>Taking out the loan or lease</td>\n",
       "      <td>NaN</td>\n",
       "      <td>MO</td>\n",
       "      <td>63304</td>\n",
       "      <td>Web</td>\n",
       "      <td>05/22/2015</td>\n",
       "      <td>Ally Financial Inc.</td>\n",
       "      <td>In progress</td>\n",
       "      <td>Yes</td>\n",
       "      <td>NaN</td>\n",
       "    </tr>\n",
       "    <tr>\n",
       "      <th>2015-05-22</th>\n",
       "      <td>1389676</td>\n",
       "      <td>Consumer loan</td>\n",
       "      <td>Vehicle lease</td>\n",
       "      <td>Problems when you are unable to pay</td>\n",
       "      <td>NaN</td>\n",
       "      <td>FL</td>\n",
       "      <td>33414</td>\n",
       "      <td>Web</td>\n",
       "      <td>05/22/2015</td>\n",
       "      <td>Ally Financial Inc.</td>\n",
       "      <td>In progress</td>\n",
       "      <td>Yes</td>\n",
       "      <td>NaN</td>\n",
       "    </tr>\n",
       "    <tr>\n",
       "      <th>2015-05-22</th>\n",
       "      <td>1388406</td>\n",
       "      <td>Mortgage</td>\n",
       "      <td>Conventional fixed mortgage</td>\n",
       "      <td>Loan servicing, payments, escrow account</td>\n",
       "      <td>NaN</td>\n",
       "      <td>NC</td>\n",
       "      <td>27615</td>\n",
       "      <td>Web</td>\n",
       "      <td>05/22/2015</td>\n",
       "      <td>Navy FCU</td>\n",
       "      <td>In progress</td>\n",
       "      <td>Yes</td>\n",
       "      <td>NaN</td>\n",
       "    </tr>\n",
       "    <tr>\n",
       "      <th>2015-05-22</th>\n",
       "      <td>1388470</td>\n",
       "      <td>Consumer loan</td>\n",
       "      <td>Installment loan</td>\n",
       "      <td>Managing the loan or lease</td>\n",
       "      <td>NaN</td>\n",
       "      <td>MA</td>\n",
       "      <td>1474</td>\n",
       "      <td>Phone</td>\n",
       "      <td>05/22/2015</td>\n",
       "      <td>Santander Bank US</td>\n",
       "      <td>In progress</td>\n",
       "      <td>Yes</td>\n",
       "      <td>NaN</td>\n",
       "    </tr>\n",
       "  </tbody>\n",
       "</table>\n",
       "</div>"
      ],
      "text/plain": [
       "               Complaint_ID        Product  \\\n",
       "Date_received                                \n",
       "2015-05-22          1388734       Mortgage   \n",
       "2015-05-22          1389303  Consumer loan   \n",
       "2015-05-22          1389676  Consumer loan   \n",
       "2015-05-22          1388406       Mortgage   \n",
       "2015-05-22          1388470  Consumer loan   \n",
       "\n",
       "                                          Sub-product  \\\n",
       "Date_received                                           \n",
       "2015-05-22     Conventional adjustable mortgage (ARM)   \n",
       "2015-05-22                               Vehicle loan   \n",
       "2015-05-22                              Vehicle lease   \n",
       "2015-05-22                Conventional fixed mortgage   \n",
       "2015-05-22                           Installment loan   \n",
       "\n",
       "                                                  Issue Sub-issue State  \\\n",
       "Date_received                                                             \n",
       "2015-05-22     Loan servicing, payments, escrow account       NaN    VA   \n",
       "2015-05-22                 Taking out the loan or lease       NaN    MO   \n",
       "2015-05-22          Problems when you are unable to pay       NaN    FL   \n",
       "2015-05-22     Loan servicing, payments, escrow account       NaN    NC   \n",
       "2015-05-22                   Managing the loan or lease       NaN    MA   \n",
       "\n",
       "               ZIP_code Submitted_via Date_sent_to_company  \\\n",
       "Date_received                                                \n",
       "2015-05-22        22204           Web           05/22/2015   \n",
       "2015-05-22        63304           Web           05/22/2015   \n",
       "2015-05-22        33414           Web           05/22/2015   \n",
       "2015-05-22        27615           Web           05/22/2015   \n",
       "2015-05-22         1474         Phone           05/22/2015   \n",
       "\n",
       "                                 Company         Company_response  \\\n",
       "Date_received                                                       \n",
       "2015-05-22     Green Tree Servicing, LLC  Closed with explanation   \n",
       "2015-05-22           Ally Financial Inc.              In progress   \n",
       "2015-05-22           Ally Financial Inc.              In progress   \n",
       "2015-05-22                      Navy FCU              In progress   \n",
       "2015-05-22             Santander Bank US              In progress   \n",
       "\n",
       "              Timely_response? Consumer_disputed?  \n",
       "Date_received                                      \n",
       "2015-05-22                 Yes                NaN  \n",
       "2015-05-22                 Yes                NaN  \n",
       "2015-05-22                 Yes                NaN  \n",
       "2015-05-22                 Yes                NaN  \n",
       "2015-05-22                 Yes                NaN  "
      ]
     },
     "execution_count": 8,
     "metadata": {},
     "output_type": "execute_result"
    }
   ],
   "source": [
    "consumer_complaints.head()"
   ]
  },
  {
   "cell_type": "code",
   "execution_count": 9,
   "metadata": {
    "collapsed": false
   },
   "outputs": [],
   "source": [
    "#removed complaint_id, issue, sub_issue, Submitted_via, Date_sent_to_company, Consumer_disputed?\n",
    "\n",
    "consumer_complaints = consumer_complaints[[\"Product\", \"Sub-product\", \"State\", \"ZIP_code\",\\\n",
    "                                           \"Company\", \"Company_response\", \"Timely_response?\"]]"
   ]
  },
  {
   "cell_type": "code",
   "execution_count": 10,
   "metadata": {
    "collapsed": false
   },
   "outputs": [
    {
     "data": {
      "text/html": [
       "<div style=\"max-height:1000px;max-width:1500px;overflow:auto;\">\n",
       "<table border=\"1\" class=\"dataframe\">\n",
       "  <thead>\n",
       "    <tr style=\"text-align: right;\">\n",
       "      <th></th>\n",
       "      <th>Product</th>\n",
       "      <th>Sub-product</th>\n",
       "      <th>State</th>\n",
       "      <th>ZIP_code</th>\n",
       "      <th>Company</th>\n",
       "      <th>Company_response</th>\n",
       "      <th>Timely_response?</th>\n",
       "    </tr>\n",
       "    <tr>\n",
       "      <th>Date_received</th>\n",
       "      <th></th>\n",
       "      <th></th>\n",
       "      <th></th>\n",
       "      <th></th>\n",
       "      <th></th>\n",
       "      <th></th>\n",
       "      <th></th>\n",
       "    </tr>\n",
       "  </thead>\n",
       "  <tbody>\n",
       "    <tr>\n",
       "      <th>2015-05-22</th>\n",
       "      <td>Mortgage</td>\n",
       "      <td>Conventional adjustable mortgage (ARM)</td>\n",
       "      <td>VA</td>\n",
       "      <td>22204</td>\n",
       "      <td>Green Tree Servicing, LLC</td>\n",
       "      <td>Closed with explanation</td>\n",
       "      <td>Yes</td>\n",
       "    </tr>\n",
       "    <tr>\n",
       "      <th>2015-05-22</th>\n",
       "      <td>Consumer loan</td>\n",
       "      <td>Vehicle loan</td>\n",
       "      <td>MO</td>\n",
       "      <td>63304</td>\n",
       "      <td>Ally Financial Inc.</td>\n",
       "      <td>In progress</td>\n",
       "      <td>Yes</td>\n",
       "    </tr>\n",
       "    <tr>\n",
       "      <th>2015-05-22</th>\n",
       "      <td>Consumer loan</td>\n",
       "      <td>Vehicle lease</td>\n",
       "      <td>FL</td>\n",
       "      <td>33414</td>\n",
       "      <td>Ally Financial Inc.</td>\n",
       "      <td>In progress</td>\n",
       "      <td>Yes</td>\n",
       "    </tr>\n",
       "    <tr>\n",
       "      <th>2015-05-22</th>\n",
       "      <td>Mortgage</td>\n",
       "      <td>Conventional fixed mortgage</td>\n",
       "      <td>NC</td>\n",
       "      <td>27615</td>\n",
       "      <td>Navy FCU</td>\n",
       "      <td>In progress</td>\n",
       "      <td>Yes</td>\n",
       "    </tr>\n",
       "    <tr>\n",
       "      <th>2015-05-22</th>\n",
       "      <td>Consumer loan</td>\n",
       "      <td>Installment loan</td>\n",
       "      <td>MA</td>\n",
       "      <td>1474</td>\n",
       "      <td>Santander Bank US</td>\n",
       "      <td>In progress</td>\n",
       "      <td>Yes</td>\n",
       "    </tr>\n",
       "    <tr>\n",
       "      <th>2015-05-22</th>\n",
       "      <td>Debt collection</td>\n",
       "      <td>Medical</td>\n",
       "      <td>KY</td>\n",
       "      <td>41522</td>\n",
       "      <td>GLA Collection Company, Inc.</td>\n",
       "      <td>Closed with explanation</td>\n",
       "      <td>Yes</td>\n",
       "    </tr>\n",
       "    <tr>\n",
       "      <th>2015-05-22</th>\n",
       "      <td>Debt collection</td>\n",
       "      <td>Medical</td>\n",
       "      <td>IL</td>\n",
       "      <td>62684</td>\n",
       "      <td>Transworld Systems Inc.</td>\n",
       "      <td>In progress</td>\n",
       "      <td>Yes</td>\n",
       "    </tr>\n",
       "    <tr>\n",
       "      <th>2015-05-22</th>\n",
       "      <td>Debt collection</td>\n",
       "      <td>Other (phone, health club, etc.)</td>\n",
       "      <td>DC</td>\n",
       "      <td>20005</td>\n",
       "      <td>PDQ Services, Inc.</td>\n",
       "      <td>Closed with explanation</td>\n",
       "      <td>Yes</td>\n",
       "    </tr>\n",
       "    <tr>\n",
       "      <th>2015-05-21</th>\n",
       "      <td>Debt collection</td>\n",
       "      <td>Other (phone, health club, etc.)</td>\n",
       "      <td>TX</td>\n",
       "      <td>78233</td>\n",
       "      <td>I.C. System, Inc.</td>\n",
       "      <td>Closed with explanation</td>\n",
       "      <td>Yes</td>\n",
       "    </tr>\n",
       "    <tr>\n",
       "      <th>2015-05-21</th>\n",
       "      <td>Debt collection</td>\n",
       "      <td>Medical</td>\n",
       "      <td>KY</td>\n",
       "      <td>40359</td>\n",
       "      <td>GLA Collection Company, Inc.</td>\n",
       "      <td>Closed with explanation</td>\n",
       "      <td>Yes</td>\n",
       "    </tr>\n",
       "  </tbody>\n",
       "</table>\n",
       "</div>"
      ],
      "text/plain": [
       "                       Product                             Sub-product State  \\\n",
       "Date_received                                                                  \n",
       "2015-05-22            Mortgage  Conventional adjustable mortgage (ARM)    VA   \n",
       "2015-05-22       Consumer loan                            Vehicle loan    MO   \n",
       "2015-05-22       Consumer loan                           Vehicle lease    FL   \n",
       "2015-05-22            Mortgage             Conventional fixed mortgage    NC   \n",
       "2015-05-22       Consumer loan                        Installment loan    MA   \n",
       "2015-05-22     Debt collection                                 Medical    KY   \n",
       "2015-05-22     Debt collection                                 Medical    IL   \n",
       "2015-05-22     Debt collection        Other (phone, health club, etc.)    DC   \n",
       "2015-05-21     Debt collection        Other (phone, health club, etc.)    TX   \n",
       "2015-05-21     Debt collection                                 Medical    KY   \n",
       "\n",
       "               ZIP_code                       Company  \\\n",
       "Date_received                                           \n",
       "2015-05-22        22204     Green Tree Servicing, LLC   \n",
       "2015-05-22        63304           Ally Financial Inc.   \n",
       "2015-05-22        33414           Ally Financial Inc.   \n",
       "2015-05-22        27615                      Navy FCU   \n",
       "2015-05-22         1474             Santander Bank US   \n",
       "2015-05-22        41522  GLA Collection Company, Inc.   \n",
       "2015-05-22        62684       Transworld Systems Inc.   \n",
       "2015-05-22        20005            PDQ Services, Inc.   \n",
       "2015-05-21        78233             I.C. System, Inc.   \n",
       "2015-05-21        40359  GLA Collection Company, Inc.   \n",
       "\n",
       "                      Company_response Timely_response?  \n",
       "Date_received                                            \n",
       "2015-05-22     Closed with explanation              Yes  \n",
       "2015-05-22                 In progress              Yes  \n",
       "2015-05-22                 In progress              Yes  \n",
       "2015-05-22                 In progress              Yes  \n",
       "2015-05-22                 In progress              Yes  \n",
       "2015-05-22     Closed with explanation              Yes  \n",
       "2015-05-22                 In progress              Yes  \n",
       "2015-05-22     Closed with explanation              Yes  \n",
       "2015-05-21     Closed with explanation              Yes  \n",
       "2015-05-21     Closed with explanation              Yes  "
      ]
     },
     "execution_count": 10,
     "metadata": {},
     "output_type": "execute_result"
    }
   ],
   "source": [
    "consumer_complaints.head(10)"
   ]
  },
  {
   "cell_type": "markdown",
   "metadata": {},
   "source": [
    "#Consumer Complaints by Month"
   ]
  },
  {
   "cell_type": "code",
   "execution_count": 11,
   "metadata": {
    "collapsed": false
   },
   "outputs": [
    {
     "data": {
      "text/plain": [
       "<matplotlib.axes._subplots.AxesSubplot at 0x1073add68>"
      ]
     },
     "execution_count": 11,
     "metadata": {},
     "output_type": "execute_result"
    },
    {
     "data": {
      "image/png": "[encoded data removed]",
      "text/plain": [
       "<matplotlib.figure.Figure at 0x10b363198>"
      ]
     },
     "metadata": {},
     "output_type": "display_data"
    }
   ],
   "source": [
    "consumer_complaints.Product.resample(\"M\", how=[\"count\"])[:-1].plot()"
   ]
  },
  {
   "cell_type": "markdown",
   "metadata": {},
   "source": [
    "The number of consumer complaints recoreded continues to grow. "
   ]
  },
  {
   "cell_type": "markdown",
   "metadata": {},
   "source": [
    "# Consumer Complaints by Company"
   ]
  },
  {
   "cell_type": "markdown",
   "metadata": {},
   "source": [
    "consumer_complaints.Product.value_counts().plot('barh', title=\"Complaints By Product\")"
   ]
  },
  {
   "cell_type": "code",
   "execution_count": 12,
   "metadata": {
    "collapsed": false
   },
   "outputs": [],
   "source": [
    "complaints_by_company = consumer_complaints.Company.value_counts()"
   ]
  },
  {
   "cell_type": "code",
   "execution_count": 13,
   "metadata": {
    "collapsed": false
   },
   "outputs": [
    {
     "data": {
      "text/plain": [
       "<matplotlib.axes._subplots.AxesSubplot at 0x108f502b0>"
      ]
     },
     "execution_count": 13,
     "metadata": {},
     "output_type": "execute_result"
    },
    {
     "data": {
      "image/png": "[encoded data removed]",
      "text/plain": [
       "<matplotlib.figure.Figure at 0x108f54f28>"
      ]
     },
     "metadata": {},
     "output_type": "display_data"
    }
   ],
   "source": [
    "complaints_by_company[:10].plot(kind='barh', title=\"Complaints By Company\")"
   ]
  },
  {
   "cell_type": "markdown",
   "metadata": {},
   "source": [
    "BOA and WF holds the most complaints but likely also the most companies. We would need to know the total number of customers and compare to number of complaints normalize compaints based on size. "
   ]
  },
  {
   "cell_type": "code",
   "execution_count": 14,
   "metadata": {
    "collapsed": false
   },
   "outputs": [
    {
     "data": {
      "text/plain": [
       "<matplotlib.axes._subplots.AxesSubplot at 0x1073bc7f0>"
      ]
     },
     "execution_count": 14,
     "metadata": {},
     "output_type": "execute_result"
    },
    {
     "data": {
      "image/png": "[encoded data removed]",
      "text/plain": [
       "<matplotlib.figure.Figure at 0x10ba8f278>"
      ]
     },
     "metadata": {},
     "output_type": "display_data"
    }
   ],
   "source": [
    "consumer_complaints.Company_response.value_counts().plot(kind='barh', title=\"Company Response\")"
   ]
  },
  {
   "cell_type": "markdown",
   "metadata": {},
   "source": [
    "#Consumer Complaints By Day of Week"
   ]
  },
  {
   "cell_type": "code",
   "execution_count": 15,
   "metadata": {
    "collapsed": true
   },
   "outputs": [],
   "source": [
    "consumer_complaints[\"day_of_week\"] = consumer_complaints.index.to_series().map(lambda d: d.weekday())"
   ]
  },
  {
   "cell_type": "code",
   "execution_count": 16,
   "metadata": {
    "collapsed": false
   },
   "outputs": [
    {
     "data": {
      "text/html": [
       "<div style=\"max-height:1000px;max-width:1500px;overflow:auto;\">\n",
       "<table border=\"1\" class=\"dataframe\">\n",
       "  <thead>\n",
       "    <tr style=\"text-align: right;\">\n",
       "      <th></th>\n",
       "      <th>Product</th>\n",
       "      <th>Sub-product</th>\n",
       "      <th>State</th>\n",
       "      <th>ZIP_code</th>\n",
       "      <th>Company</th>\n",
       "      <th>Company_response</th>\n",
       "      <th>Timely_response?</th>\n",
       "      <th>day_of_week</th>\n",
       "    </tr>\n",
       "    <tr>\n",
       "      <th>Date_received</th>\n",
       "      <th></th>\n",
       "      <th></th>\n",
       "      <th></th>\n",
       "      <th></th>\n",
       "      <th></th>\n",
       "      <th></th>\n",
       "      <th></th>\n",
       "      <th></th>\n",
       "    </tr>\n",
       "  </thead>\n",
       "  <tbody>\n",
       "    <tr>\n",
       "      <th>2015-05-22</th>\n",
       "      <td>Mortgage</td>\n",
       "      <td>Conventional adjustable mortgage (ARM)</td>\n",
       "      <td>VA</td>\n",
       "      <td>22204</td>\n",
       "      <td>Green Tree Servicing, LLC</td>\n",
       "      <td>Closed with explanation</td>\n",
       "      <td>Yes</td>\n",
       "      <td>4</td>\n",
       "    </tr>\n",
       "    <tr>\n",
       "      <th>2015-05-22</th>\n",
       "      <td>Consumer loan</td>\n",
       "      <td>Vehicle loan</td>\n",
       "      <td>MO</td>\n",
       "      <td>63304</td>\n",
       "      <td>Ally Financial Inc.</td>\n",
       "      <td>In progress</td>\n",
       "      <td>Yes</td>\n",
       "      <td>4</td>\n",
       "    </tr>\n",
       "    <tr>\n",
       "      <th>2015-05-22</th>\n",
       "      <td>Consumer loan</td>\n",
       "      <td>Vehicle lease</td>\n",
       "      <td>FL</td>\n",
       "      <td>33414</td>\n",
       "      <td>Ally Financial Inc.</td>\n",
       "      <td>In progress</td>\n",
       "      <td>Yes</td>\n",
       "      <td>4</td>\n",
       "    </tr>\n",
       "    <tr>\n",
       "      <th>2015-05-22</th>\n",
       "      <td>Mortgage</td>\n",
       "      <td>Conventional fixed mortgage</td>\n",
       "      <td>NC</td>\n",
       "      <td>27615</td>\n",
       "      <td>Navy FCU</td>\n",
       "      <td>In progress</td>\n",
       "      <td>Yes</td>\n",
       "      <td>4</td>\n",
       "    </tr>\n",
       "    <tr>\n",
       "      <th>2015-05-22</th>\n",
       "      <td>Consumer loan</td>\n",
       "      <td>Installment loan</td>\n",
       "      <td>MA</td>\n",
       "      <td>1474</td>\n",
       "      <td>Santander Bank US</td>\n",
       "      <td>In progress</td>\n",
       "      <td>Yes</td>\n",
       "      <td>4</td>\n",
       "    </tr>\n",
       "  </tbody>\n",
       "</table>\n",
       "</div>"
      ],
      "text/plain": [
       "                     Product                             Sub-product State  \\\n",
       "Date_received                                                                \n",
       "2015-05-22          Mortgage  Conventional adjustable mortgage (ARM)    VA   \n",
       "2015-05-22     Consumer loan                            Vehicle loan    MO   \n",
       "2015-05-22     Consumer loan                           Vehicle lease    FL   \n",
       "2015-05-22          Mortgage             Conventional fixed mortgage    NC   \n",
       "2015-05-22     Consumer loan                        Installment loan    MA   \n",
       "\n",
       "               ZIP_code                    Company         Company_response  \\\n",
       "Date_received                                                                 \n",
       "2015-05-22        22204  Green Tree Servicing, LLC  Closed with explanation   \n",
       "2015-05-22        63304        Ally Financial Inc.              In progress   \n",
       "2015-05-22        33414        Ally Financial Inc.              In progress   \n",
       "2015-05-22        27615                   Navy FCU              In progress   \n",
       "2015-05-22         1474          Santander Bank US              In progress   \n",
       "\n",
       "              Timely_response?  day_of_week  \n",
       "Date_received                                \n",
       "2015-05-22                 Yes            4  \n",
       "2015-05-22                 Yes            4  \n",
       "2015-05-22                 Yes            4  \n",
       "2015-05-22                 Yes            4  \n",
       "2015-05-22                 Yes            4  "
      ]
     },
     "execution_count": 16,
     "metadata": {},
     "output_type": "execute_result"
    }
   ],
   "source": [
    "consumer_complaints.head()"
   ]
  },
  {
   "cell_type": "code",
   "execution_count": 17,
   "metadata": {
    "collapsed": false
   },
   "outputs": [],
   "source": [
    "complaints_by_day = consumer_complaints.day_of_week.value_counts().sort_index()"
   ]
  },
  {
   "cell_type": "code",
   "execution_count": 18,
   "metadata": {
    "collapsed": true
   },
   "outputs": [],
   "source": [
    "dow = [\"M\", \"Tu\", \"W\", \"Th\", \"F\", \"Sa\", \"Su\"]"
   ]
  },
  {
   "cell_type": "code",
   "execution_count": 19,
   "metadata": {
    "collapsed": false
   },
   "outputs": [],
   "source": [
    "complaints_by_day.index = dow"
   ]
  },
  {
   "cell_type": "code",
   "execution_count": 20,
   "metadata": {
    "collapsed": false
   },
   "outputs": [
    {
     "data": {
      "text/plain": [
       "<matplotlib.axes._subplots.AxesSubplot at 0x107429a20>"
      ]
     },
     "execution_count": 20,
     "metadata": {},
     "output_type": "execute_result"
    },
    {
     "data": {
      "image/png": "[encoded data removed]",
      "text/plain": [
       "<matplotlib.figure.Figure at 0x10742fb00>"
      ]
     },
     "metadata": {},
     "output_type": "display_data"
    }
   ],
   "source": [
    "complaints_by_day.plot(kind='barh', title='Total Complaints by Day of Week')"
   ]
  },
  {
   "cell_type": "markdown",
   "metadata": {},
   "source": [
    "Three times the number of complaints occur during the week compared to Saturday and Sunday. "
   ]
  },
  {
   "cell_type": "code",
   "execution_count": 21,
   "metadata": {
    "collapsed": false
   },
   "outputs": [],
   "source": [
    "avg_complaints_by_day = consumer_complaints.Product.resample(\"D\", how=[\"count\"])"
   ]
  },
  {
   "cell_type": "code",
   "execution_count": 22,
   "metadata": {
    "collapsed": false
   },
   "outputs": [],
   "source": [
    "avg_complaints_by_day[\"day_of_week\"] = avg_complaints_by_day.index.to_series().map(lambda d: d.weekday())"
   ]
  },
  {
   "cell_type": "code",
   "execution_count": 23,
   "metadata": {
    "collapsed": false
   },
   "outputs": [],
   "source": [
    "avg_w_day_week = avg_complaints_by_day.groupby('day_of_week').mean()"
   ]
  },
  {
   "cell_type": "code",
   "execution_count": 24,
   "metadata": {
    "collapsed": true
   },
   "outputs": [],
   "source": [
    "avg_w_day_week.index = dow"
   ]
  },
  {
   "cell_type": "code",
   "execution_count": 25,
   "metadata": {
    "collapsed": false
   },
   "outputs": [
    {
     "data": {
      "text/plain": [
       "<matplotlib.axes._subplots.AxesSubplot at 0x10c39f5f8>"
      ]
     },
     "execution_count": 25,
     "metadata": {},
     "output_type": "execute_result"
    },
    {
     "data": {
      "image/png": "[encoded data removed]",
      "text/plain": [
       "<matplotlib.figure.Figure at 0x10c3e4c50>"
      ]
     },
     "metadata": {},
     "output_type": "display_data"
    }
   ],
   "source": [
    "avg_w_day_week.plot(kind='barh', title='Average Complaint by Day')"
   ]
  },
  {
   "cell_type": "markdown",
   "metadata": {},
   "source": [
    "#Consumer Complaint Data by State"
   ]
  },
  {
   "cell_type": "markdown",
   "metadata": {},
   "source": [
    "* Combine the complaints data with US population by state data (find this\n",
    "  yourself) and then chart the frequency of complaints by state per capita.\n",
    "* Find statistically significant outliers of complaints by ZIP code. Look these\n",
    "  up to see if there's a possible reason (military bases are often surrounded\n",
    "  by predatory lending companies, for example.)"
   ]
  },
  {
   "cell_type": "markdown",
   "metadata": {},
   "source": [
    "##Grouped by State"
   ]
  },
  {
   "cell_type": "code",
   "execution_count": 26,
   "metadata": {
    "collapsed": false
   },
   "outputs": [
    {
     "data": {
      "text/plain": [
       "(395843, 8)"
      ]
     },
     "execution_count": 26,
     "metadata": {},
     "output_type": "execute_result"
    }
   ],
   "source": [
    "consumer_complaints[~(consumer_complaints['State'] == 'AA')].shape"
   ]
  },
  {
   "cell_type": "code",
   "execution_count": 27,
   "metadata": {
    "collapsed": false
   },
   "outputs": [],
   "source": [
    "state_complaints = consumer_complaints.State.value_counts().sort_index()"
   ]
  },
  {
   "cell_type": "code",
   "execution_count": 28,
   "metadata": {
    "collapsed": false
   },
   "outputs": [
    {
     "data": {
      "text/plain": [
       "AA      10\n",
       "AE     147\n",
       "AK     478\n",
       "AL    3842\n",
       "AP     113\n",
       "dtype: int64"
      ]
     },
     "execution_count": 28,
     "metadata": {},
     "output_type": "execute_result"
    }
   ],
   "source": [
    "state_complaints.head()"
   ]
  },
  {
   "cell_type": "code",
   "execution_count": 29,
   "metadata": {
    "collapsed": false
   },
   "outputs": [
    {
     "data": {
      "text/plain": [
       "dict_keys(['GU', 'TX', 'GA', 'KS', 'NY', 'FL', 'MD', 'NM', 'CT', 'AP', 'MN', 'UT', 'WA', 'MT', 'MS', 'MH', 'OH', 'SC', 'AL', 'WV', 'SD', 'FM', 'WY', 'HI', 'VT', 'AR', 'ME', 'AE', 'MP', 'AS', 'LA', 'VA', 'IN', 'AK', 'OK', 'MA', 'DE', 'IA', 'PA', 'KY', 'TN', 'PR', 'CO', 'MO', 'AA', 'IL', 'DC', 'OR', 'VI', 'ID', 'NH', 'NJ', 'NC', 'RI', 'WI', 'ND', 'AZ', 'CA', 'NE', 'NV', 'PW', 'MI'])"
      ]
     },
     "execution_count": 29,
     "metadata": {},
     "output_type": "execute_result"
    }
   ],
   "source": [
    "consumer_complaints.groupby('State').groups.keys()"
   ]
  },
  {
   "cell_type": "code",
   "execution_count": 30,
   "metadata": {
    "collapsed": false
   },
   "outputs": [],
   "source": [
    "state_populations = pd.read_csv('us_pop_state.csv', skiprows=3)"
   ]
  },
  {
   "cell_type": "code",
   "execution_count": 31,
   "metadata": {
    "collapsed": false
   },
   "outputs": [],
   "source": [
    "state_pop = state_populations.rename(columns = {'Unnamed: 0':'State'})"
   ]
  },
  {
   "cell_type": "code",
   "execution_count": 32,
   "metadata": {
    "collapsed": false
   },
   "outputs": [],
   "source": [
    "state_population = state_pop[5:]"
   ]
  },
  {
   "cell_type": "code",
   "execution_count": 33,
   "metadata": {
    "collapsed": false
   },
   "outputs": [
    {
     "data": {
      "text/html": [
       "<div style=\"max-height:1000px;max-width:1500px;overflow:auto;\">\n",
       "<table border=\"1\" class=\"dataframe\">\n",
       "  <thead>\n",
       "    <tr style=\"text-align: right;\">\n",
       "      <th></th>\n",
       "      <th>State</th>\n",
       "      <th>Census</th>\n",
       "      <th>Estimates Base</th>\n",
       "      <th>2010</th>\n",
       "      <th>2011</th>\n",
       "      <th>2012</th>\n",
       "      <th>2013</th>\n",
       "      <th>2014</th>\n",
       "    </tr>\n",
       "  </thead>\n",
       "  <tbody>\n",
       "    <tr>\n",
       "      <th>5</th>\n",
       "      <td>.Alabama</td>\n",
       "      <td>4,779,736</td>\n",
       "      <td>4,780,127</td>\n",
       "      <td>4,785,822</td>\n",
       "      <td>4,801,695</td>\n",
       "      <td>4,817,484</td>\n",
       "      <td>4,833,996</td>\n",
       "      <td>4,849,377</td>\n",
       "    </tr>\n",
       "    <tr>\n",
       "      <th>6</th>\n",
       "      <td>.Alaska</td>\n",
       "      <td>710,231</td>\n",
       "      <td>710,249</td>\n",
       "      <td>713,856</td>\n",
       "      <td>722,572</td>\n",
       "      <td>731,081</td>\n",
       "      <td>737,259</td>\n",
       "      <td>736,732</td>\n",
       "    </tr>\n",
       "    <tr>\n",
       "      <th>7</th>\n",
       "      <td>.Arizona</td>\n",
       "      <td>6,392,017</td>\n",
       "      <td>6,392,310</td>\n",
       "      <td>6,411,999</td>\n",
       "      <td>6,472,867</td>\n",
       "      <td>6,556,236</td>\n",
       "      <td>6,634,997</td>\n",
       "      <td>6,731,484</td>\n",
       "    </tr>\n",
       "    <tr>\n",
       "      <th>8</th>\n",
       "      <td>.Arkansas</td>\n",
       "      <td>2,915,918</td>\n",
       "      <td>2,915,958</td>\n",
       "      <td>2,922,297</td>\n",
       "      <td>2,938,430</td>\n",
       "      <td>2,949,300</td>\n",
       "      <td>2,958,765</td>\n",
       "      <td>2,966,369</td>\n",
       "    </tr>\n",
       "    <tr>\n",
       "      <th>9</th>\n",
       "      <td>.California</td>\n",
       "      <td>37,253,956</td>\n",
       "      <td>37,254,503</td>\n",
       "      <td>37,336,011</td>\n",
       "      <td>37,701,901</td>\n",
       "      <td>38,062,780</td>\n",
       "      <td>38,431,393</td>\n",
       "      <td>38,802,500</td>\n",
       "    </tr>\n",
       "  </tbody>\n",
       "</table>\n",
       "</div>"
      ],
      "text/plain": [
       "         State      Census Estimates Base        2010        2011        2012  \\\n",
       "5     .Alabama   4,779,736      4,780,127   4,785,822   4,801,695   4,817,484   \n",
       "6      .Alaska     710,231        710,249     713,856     722,572     731,081   \n",
       "7     .Arizona   6,392,017      6,392,310   6,411,999   6,472,867   6,556,236   \n",
       "8    .Arkansas   2,915,918      2,915,958   2,922,297   2,938,430   2,949,300   \n",
       "9  .California  37,253,956     37,254,503  37,336,011  37,701,901  38,062,780   \n",
       "\n",
       "         2013        2014  \n",
       "5   4,833,996   4,849,377  \n",
       "6     737,259     736,732  \n",
       "7   6,634,997   6,731,484  \n",
       "8   2,958,765   2,966,369  \n",
       "9  38,431,393  38,802,500  "
      ]
     },
     "execution_count": 33,
     "metadata": {},
     "output_type": "execute_result"
    }
   ],
   "source": [
    "state_population.head()"
   ]
  },
  {
   "cell_type": "code",
   "execution_count": 34,
   "metadata": {
    "collapsed": true
   },
   "outputs": [],
   "source": [
    "states = state_population.dropna()"
   ]
  },
  {
   "cell_type": "code",
   "execution_count": 35,
   "metadata": {
    "collapsed": false
   },
   "outputs": [
    {
     "name": "stderr",
     "output_type": "stream",
     "text": [
      "/Users/trippshealy/iron_yard/week4/consumer-complaints/.direnv/python-3.4.3/lib/python3.4/site-packages/pandas/core/generic.py:2110: SettingWithCopyWarning: \n",
      "A value is trying to be set on a copy of a slice from a DataFrame.\n",
      "Try using .loc[row_indexer,col_indexer] = value instead\n",
      "\n",
      "See the the caveats in the documentation: http://pandas.pydata.org/pandas-docs/stable/indexing.html#indexing-view-versus-copy\n",
      "  self[name] = value\n"
     ]
    }
   ],
   "source": [
    "states.State = states.State.map(lambda name: name[1:] if name.startswith('.') else name)"
   ]
  },
  {
   "cell_type": "code",
   "execution_count": 36,
   "metadata": {
    "collapsed": false
   },
   "outputs": [
    {
     "data": {
      "text/html": [
       "<div style=\"max-height:1000px;max-width:1500px;overflow:auto;\">\n",
       "<table border=\"1\" class=\"dataframe\">\n",
       "  <thead>\n",
       "    <tr style=\"text-align: right;\">\n",
       "      <th></th>\n",
       "      <th>State</th>\n",
       "      <th>Census</th>\n",
       "      <th>Estimates Base</th>\n",
       "      <th>2010</th>\n",
       "      <th>2011</th>\n",
       "      <th>2012</th>\n",
       "      <th>2013</th>\n",
       "      <th>2014</th>\n",
       "    </tr>\n",
       "  </thead>\n",
       "  <tbody>\n",
       "    <tr>\n",
       "      <th>5</th>\n",
       "      <td>Alabama</td>\n",
       "      <td>4,779,736</td>\n",
       "      <td>4,780,127</td>\n",
       "      <td>4,785,822</td>\n",
       "      <td>4,801,695</td>\n",
       "      <td>4,817,484</td>\n",
       "      <td>4,833,996</td>\n",
       "      <td>4,849,377</td>\n",
       "    </tr>\n",
       "    <tr>\n",
       "      <th>6</th>\n",
       "      <td>Alaska</td>\n",
       "      <td>710,231</td>\n",
       "      <td>710,249</td>\n",
       "      <td>713,856</td>\n",
       "      <td>722,572</td>\n",
       "      <td>731,081</td>\n",
       "      <td>737,259</td>\n",
       "      <td>736,732</td>\n",
       "    </tr>\n",
       "    <tr>\n",
       "      <th>7</th>\n",
       "      <td>Arizona</td>\n",
       "      <td>6,392,017</td>\n",
       "      <td>6,392,310</td>\n",
       "      <td>6,411,999</td>\n",
       "      <td>6,472,867</td>\n",
       "      <td>6,556,236</td>\n",
       "      <td>6,634,997</td>\n",
       "      <td>6,731,484</td>\n",
       "    </tr>\n",
       "    <tr>\n",
       "      <th>8</th>\n",
       "      <td>Arkansas</td>\n",
       "      <td>2,915,918</td>\n",
       "      <td>2,915,958</td>\n",
       "      <td>2,922,297</td>\n",
       "      <td>2,938,430</td>\n",
       "      <td>2,949,300</td>\n",
       "      <td>2,958,765</td>\n",
       "      <td>2,966,369</td>\n",
       "    </tr>\n",
       "    <tr>\n",
       "      <th>9</th>\n",
       "      <td>California</td>\n",
       "      <td>37,253,956</td>\n",
       "      <td>37,254,503</td>\n",
       "      <td>37,336,011</td>\n",
       "      <td>37,701,901</td>\n",
       "      <td>38,062,780</td>\n",
       "      <td>38,431,393</td>\n",
       "      <td>38,802,500</td>\n",
       "    </tr>\n",
       "  </tbody>\n",
       "</table>\n",
       "</div>"
      ],
      "text/plain": [
       "        State      Census Estimates Base        2010        2011        2012  \\\n",
       "5     Alabama   4,779,736      4,780,127   4,785,822   4,801,695   4,817,484   \n",
       "6      Alaska     710,231        710,249     713,856     722,572     731,081   \n",
       "7     Arizona   6,392,017      6,392,310   6,411,999   6,472,867   6,556,236   \n",
       "8    Arkansas   2,915,918      2,915,958   2,922,297   2,938,430   2,949,300   \n",
       "9  California  37,253,956     37,254,503  37,336,011  37,701,901  38,062,780   \n",
       "\n",
       "         2013        2014  \n",
       "5   4,833,996   4,849,377  \n",
       "6     737,259     736,732  \n",
       "7   6,634,997   6,731,484  \n",
       "8   2,958,765   2,966,369  \n",
       "9  38,431,393  38,802,500  "
      ]
     },
     "execution_count": 36,
     "metadata": {},
     "output_type": "execute_result"
    }
   ],
   "source": [
    "states.head()"
   ]
  },
  {
   "cell_type": "code",
   "execution_count": 37,
   "metadata": {
    "collapsed": true
   },
   "outputs": [],
   "source": [
    "state_names = {\n",
    "        'AK': 'Alaska',\n",
    "        'AL': 'Alabama',\n",
    "        'AR': 'Arkansas',\n",
    "        'AS': 'American Samoa',\n",
    "        'AZ': 'Arizona',\n",
    "        'CA': 'California',\n",
    "        'CO': 'Colorado',\n",
    "        'CT': 'Connecticut',\n",
    "        'DC': 'District of Columbia',\n",
    "        'DE': 'Delaware',\n",
    "        'FL': 'Florida',\n",
    "        'GA': 'Georgia',\n",
    "        'GU': 'Guam',\n",
    "        'HI': 'Hawaii',\n",
    "        'IA': 'Iowa',\n",
    "        'ID': 'Idaho',\n",
    "        'IL': 'Illinois',\n",
    "        'IN': 'Indiana',\n",
    "        'KS': 'Kansas',\n",
    "        'KY': 'Kentucky',\n",
    "        'LA': 'Louisiana',\n",
    "        'MA': 'Massachusetts',\n",
    "        'MD': 'Maryland',\n",
    "        'ME': 'Maine',\n",
    "        'MI': 'Michigan',\n",
    "        'MN': 'Minnesota',\n",
    "        'MO': 'Missouri',\n",
    "        'MP': 'Northern Mariana Islands',\n",
    "        'MS': 'Mississippi',\n",
    "        'MT': 'Montana',\n",
    "        'NA': 'National',\n",
    "        'NC': 'North Carolina',\n",
    "        'ND': 'North Dakota',\n",
    "        'NE': 'Nebraska',\n",
    "        'NH': 'New Hampshire',\n",
    "        'NJ': 'New Jersey',\n",
    "        'NM': 'New Mexico',\n",
    "        'NV': 'Nevada',\n",
    "        'NY': 'New York',\n",
    "        'OH': 'Ohio',\n",
    "        'OK': 'Oklahoma',\n",
    "        'OR': 'Oregon',\n",
    "        'PA': 'Pennsylvania',\n",
    "        'PR': 'Puerto Rico',\n",
    "        'RI': 'Rhode Island',\n",
    "        'SC': 'South Carolina',\n",
    "        'SD': 'South Dakota',\n",
    "        'TN': 'Tennessee',\n",
    "        'TX': 'Texas',\n",
    "        'UT': 'Utah',\n",
    "        'VA': 'Virginia',\n",
    "        'VI': 'Virgin Islands',\n",
    "        'VT': 'Vermont',\n",
    "        'WA': 'Washington',\n",
    "        'WI': 'Wisconsin',\n",
    "        'WV': 'West Virginia',\n",
    "        'WY': 'Wyoming'\n",
    "}"
   ]
  },
  {
   "cell_type": "code",
   "execution_count": 38,
   "metadata": {
    "collapsed": true
   },
   "outputs": [],
   "source": [
    "state_abbr = {value: key for key, value in state_names.items()}"
   ]
  },
  {
   "cell_type": "code",
   "execution_count": 39,
   "metadata": {
    "collapsed": false
   },
   "outputs": [
    {
     "data": {
      "text/plain": [
       "{'Alabama': 'AL',\n",
       " 'Alaska': 'AK',\n",
       " 'American Samoa': 'AS',\n",
       " 'Arizona': 'AZ',\n",
       " 'Arkansas': 'AR',\n",
       " 'California': 'CA',\n",
       " 'Colorado': 'CO',\n",
       " 'Connecticut': 'CT',\n",
       " 'Delaware': 'DE',\n",
       " 'District of Columbia': 'DC',\n",
       " 'Florida': 'FL',\n",
       " 'Georgia': 'GA',\n",
       " 'Guam': 'GU',\n",
       " 'Hawaii': 'HI',\n",
       " 'Idaho': 'ID',\n",
       " 'Illinois': 'IL',\n",
       " 'Indiana': 'IN',\n",
       " 'Iowa': 'IA',\n",
       " 'Kansas': 'KS',\n",
       " 'Kentucky': 'KY',\n",
       " 'Louisiana': 'LA',\n",
       " 'Maine': 'ME',\n",
       " 'Maryland': 'MD',\n",
       " 'Massachusetts': 'MA',\n",
       " 'Michigan': 'MI',\n",
       " 'Minnesota': 'MN',\n",
       " 'Mississippi': 'MS',\n",
       " 'Missouri': 'MO',\n",
       " 'Montana': 'MT',\n",
       " 'National': 'NA',\n",
       " 'Nebraska': 'NE',\n",
       " 'Nevada': 'NV',\n",
       " 'New Hampshire': 'NH',\n",
       " 'New Jersey': 'NJ',\n",
       " 'New Mexico': 'NM',\n",
       " 'New York': 'NY',\n",
       " 'North Carolina': 'NC',\n",
       " 'North Dakota': 'ND',\n",
       " 'Northern Mariana Islands': 'MP',\n",
       " 'Ohio': 'OH',\n",
       " 'Oklahoma': 'OK',\n",
       " 'Oregon': 'OR',\n",
       " 'Pennsylvania': 'PA',\n",
       " 'Puerto Rico': 'PR',\n",
       " 'Rhode Island': 'RI',\n",
       " 'South Carolina': 'SC',\n",
       " 'South Dakota': 'SD',\n",
       " 'Tennessee': 'TN',\n",
       " 'Texas': 'TX',\n",
       " 'Utah': 'UT',\n",
       " 'Vermont': 'VT',\n",
       " 'Virgin Islands': 'VI',\n",
       " 'Virginia': 'VA',\n",
       " 'Washington': 'WA',\n",
       " 'West Virginia': 'WV',\n",
       " 'Wisconsin': 'WI',\n",
       " 'Wyoming': 'WY'}"
      ]
     },
     "execution_count": 39,
     "metadata": {},
     "output_type": "execute_result"
    }
   ],
   "source": [
    "state_abbr"
   ]
  },
  {
   "cell_type": "code",
   "execution_count": 40,
   "metadata": {
    "collapsed": false
   },
   "outputs": [
    {
     "name": "stderr",
     "output_type": "stream",
     "text": [
      "/Users/trippshealy/iron_yard/week4/consumer-complaints/.direnv/python-3.4.3/lib/python3.4/site-packages/pandas/core/generic.py:2110: SettingWithCopyWarning: \n",
      "A value is trying to be set on a copy of a slice from a DataFrame.\n",
      "Try using .loc[row_indexer,col_indexer] = value instead\n",
      "\n",
      "See the the caveats in the documentation: http://pandas.pydata.org/pandas-docs/stable/indexing.html#indexing-view-versus-copy\n",
      "  self[name] = value\n"
     ]
    }
   ],
   "source": [
    "states.State = states.State.map(state_abbr)"
   ]
  },
  {
   "cell_type": "code",
   "execution_count": 41,
   "metadata": {
    "collapsed": false
   },
   "outputs": [
    {
     "data": {
      "text/html": [
       "<div style=\"max-height:1000px;max-width:1500px;overflow:auto;\">\n",
       "<table border=\"1\" class=\"dataframe\">\n",
       "  <thead>\n",
       "    <tr style=\"text-align: right;\">\n",
       "      <th></th>\n",
       "      <th>State</th>\n",
       "      <th>Census</th>\n",
       "      <th>Estimates Base</th>\n",
       "      <th>2010</th>\n",
       "      <th>2011</th>\n",
       "      <th>2012</th>\n",
       "      <th>2013</th>\n",
       "      <th>2014</th>\n",
       "    </tr>\n",
       "  </thead>\n",
       "  <tbody>\n",
       "    <tr>\n",
       "      <th>5</th>\n",
       "      <td>AL</td>\n",
       "      <td>4,779,736</td>\n",
       "      <td>4,780,127</td>\n",
       "      <td>4,785,822</td>\n",
       "      <td>4,801,695</td>\n",
       "      <td>4,817,484</td>\n",
       "      <td>4,833,996</td>\n",
       "      <td>4,849,377</td>\n",
       "    </tr>\n",
       "    <tr>\n",
       "      <th>6</th>\n",
       "      <td>AK</td>\n",
       "      <td>710,231</td>\n",
       "      <td>710,249</td>\n",
       "      <td>713,856</td>\n",
       "      <td>722,572</td>\n",
       "      <td>731,081</td>\n",
       "      <td>737,259</td>\n",
       "      <td>736,732</td>\n",
       "    </tr>\n",
       "    <tr>\n",
       "      <th>7</th>\n",
       "      <td>AZ</td>\n",
       "      <td>6,392,017</td>\n",
       "      <td>6,392,310</td>\n",
       "      <td>6,411,999</td>\n",
       "      <td>6,472,867</td>\n",
       "      <td>6,556,236</td>\n",
       "      <td>6,634,997</td>\n",
       "      <td>6,731,484</td>\n",
       "    </tr>\n",
       "    <tr>\n",
       "      <th>8</th>\n",
       "      <td>AR</td>\n",
       "      <td>2,915,918</td>\n",
       "      <td>2,915,958</td>\n",
       "      <td>2,922,297</td>\n",
       "      <td>2,938,430</td>\n",
       "      <td>2,949,300</td>\n",
       "      <td>2,958,765</td>\n",
       "      <td>2,966,369</td>\n",
       "    </tr>\n",
       "    <tr>\n",
       "      <th>9</th>\n",
       "      <td>CA</td>\n",
       "      <td>37,253,956</td>\n",
       "      <td>37,254,503</td>\n",
       "      <td>37,336,011</td>\n",
       "      <td>37,701,901</td>\n",
       "      <td>38,062,780</td>\n",
       "      <td>38,431,393</td>\n",
       "      <td>38,802,500</td>\n",
       "    </tr>\n",
       "  </tbody>\n",
       "</table>\n",
       "</div>"
      ],
      "text/plain": [
       "  State      Census Estimates Base        2010        2011        2012  \\\n",
       "5    AL   4,779,736      4,780,127   4,785,822   4,801,695   4,817,484   \n",
       "6    AK     710,231        710,249     713,856     722,572     731,081   \n",
       "7    AZ   6,392,017      6,392,310   6,411,999   6,472,867   6,556,236   \n",
       "8    AR   2,915,918      2,915,958   2,922,297   2,938,430   2,949,300   \n",
       "9    CA  37,253,956     37,254,503  37,336,011  37,701,901  38,062,780   \n",
       "\n",
       "         2013        2014  \n",
       "5   4,833,996   4,849,377  \n",
       "6     737,259     736,732  \n",
       "7   6,634,997   6,731,484  \n",
       "8   2,958,765   2,966,369  \n",
       "9  38,431,393  38,802,500  "
      ]
     },
     "execution_count": 41,
     "metadata": {},
     "output_type": "execute_result"
    }
   ],
   "source": [
    "states.head()"
   ]
  },
  {
   "cell_type": "code",
   "execution_count": 42,
   "metadata": {
    "collapsed": false
   },
   "outputs": [],
   "source": [
    "states.index = states.State"
   ]
  },
  {
   "cell_type": "code",
   "execution_count": 43,
   "metadata": {
    "collapsed": false
   },
   "outputs": [
    {
     "data": {
      "text/html": [
       "<div style=\"max-height:1000px;max-width:1500px;overflow:auto;\">\n",
       "<table border=\"1\" class=\"dataframe\">\n",
       "  <thead>\n",
       "    <tr style=\"text-align: right;\">\n",
       "      <th></th>\n",
       "      <th>State</th>\n",
       "      <th>Census</th>\n",
       "      <th>Estimates Base</th>\n",
       "      <th>2010</th>\n",
       "      <th>2011</th>\n",
       "      <th>2012</th>\n",
       "      <th>2013</th>\n",
       "      <th>2014</th>\n",
       "    </tr>\n",
       "    <tr>\n",
       "      <th>State</th>\n",
       "      <th></th>\n",
       "      <th></th>\n",
       "      <th></th>\n",
       "      <th></th>\n",
       "      <th></th>\n",
       "      <th></th>\n",
       "      <th></th>\n",
       "      <th></th>\n",
       "    </tr>\n",
       "  </thead>\n",
       "  <tbody>\n",
       "    <tr>\n",
       "      <th>AL</th>\n",
       "      <td>AL</td>\n",
       "      <td>4,779,736</td>\n",
       "      <td>4,780,127</td>\n",
       "      <td>4,785,822</td>\n",
       "      <td>4,801,695</td>\n",
       "      <td>4,817,484</td>\n",
       "      <td>4,833,996</td>\n",
       "      <td>4,849,377</td>\n",
       "    </tr>\n",
       "    <tr>\n",
       "      <th>AK</th>\n",
       "      <td>AK</td>\n",
       "      <td>710,231</td>\n",
       "      <td>710,249</td>\n",
       "      <td>713,856</td>\n",
       "      <td>722,572</td>\n",
       "      <td>731,081</td>\n",
       "      <td>737,259</td>\n",
       "      <td>736,732</td>\n",
       "    </tr>\n",
       "    <tr>\n",
       "      <th>AZ</th>\n",
       "      <td>AZ</td>\n",
       "      <td>6,392,017</td>\n",
       "      <td>6,392,310</td>\n",
       "      <td>6,411,999</td>\n",
       "      <td>6,472,867</td>\n",
       "      <td>6,556,236</td>\n",
       "      <td>6,634,997</td>\n",
       "      <td>6,731,484</td>\n",
       "    </tr>\n",
       "    <tr>\n",
       "      <th>AR</th>\n",
       "      <td>AR</td>\n",
       "      <td>2,915,918</td>\n",
       "      <td>2,915,958</td>\n",
       "      <td>2,922,297</td>\n",
       "      <td>2,938,430</td>\n",
       "      <td>2,949,300</td>\n",
       "      <td>2,958,765</td>\n",
       "      <td>2,966,369</td>\n",
       "    </tr>\n",
       "    <tr>\n",
       "      <th>CA</th>\n",
       "      <td>CA</td>\n",
       "      <td>37,253,956</td>\n",
       "      <td>37,254,503</td>\n",
       "      <td>37,336,011</td>\n",
       "      <td>37,701,901</td>\n",
       "      <td>38,062,780</td>\n",
       "      <td>38,431,393</td>\n",
       "      <td>38,802,500</td>\n",
       "    </tr>\n",
       "  </tbody>\n",
       "</table>\n",
       "</div>"
      ],
      "text/plain": [
       "      State      Census Estimates Base        2010        2011        2012  \\\n",
       "State                                                                        \n",
       "AL       AL   4,779,736      4,780,127   4,785,822   4,801,695   4,817,484   \n",
       "AK       AK     710,231        710,249     713,856     722,572     731,081   \n",
       "AZ       AZ   6,392,017      6,392,310   6,411,999   6,472,867   6,556,236   \n",
       "AR       AR   2,915,918      2,915,958   2,922,297   2,938,430   2,949,300   \n",
       "CA       CA  37,253,956     37,254,503  37,336,011  37,701,901  38,062,780   \n",
       "\n",
       "             2013        2014  \n",
       "State                          \n",
       "AL      4,833,996   4,849,377  \n",
       "AK        737,259     736,732  \n",
       "AZ      6,634,997   6,731,484  \n",
       "AR      2,958,765   2,966,369  \n",
       "CA     38,431,393  38,802,500  "
      ]
     },
     "execution_count": 43,
     "metadata": {},
     "output_type": "execute_result"
    }
   ],
   "source": [
    "states.head()"
   ]
  },
  {
   "cell_type": "code",
   "execution_count": 44,
   "metadata": {
    "collapsed": true
   },
   "outputs": [],
   "source": [
    "states_2014 = states['2014']"
   ]
  },
  {
   "cell_type": "code",
   "execution_count": 45,
   "metadata": {
    "collapsed": false
   },
   "outputs": [
    {
     "data": {
      "text/plain": [
       "State\n",
       "AL     4,849,377\n",
       "AK       736,732\n",
       "AZ     6,731,484\n",
       "AR     2,966,369\n",
       "CA    38,802,500\n",
       "Name: 2014, dtype: object"
      ]
     },
     "execution_count": 45,
     "metadata": {},
     "output_type": "execute_result"
    }
   ],
   "source": [
    "states_2014.head()"
   ]
  },
  {
   "cell_type": "code",
   "execution_count": 46,
   "metadata": {
    "collapsed": true
   },
   "outputs": [],
   "source": [
    "states_2014 = states_2014.to_frame(name='population')"
   ]
  },
  {
   "cell_type": "code",
   "execution_count": 47,
   "metadata": {
    "collapsed": false
   },
   "outputs": [
    {
     "data": {
      "text/html": [
       "<div style=\"max-height:1000px;max-width:1500px;overflow:auto;\">\n",
       "<table border=\"1\" class=\"dataframe\">\n",
       "  <thead>\n",
       "    <tr style=\"text-align: right;\">\n",
       "      <th></th>\n",
       "      <th>population</th>\n",
       "    </tr>\n",
       "    <tr>\n",
       "      <th>State</th>\n",
       "      <th></th>\n",
       "    </tr>\n",
       "  </thead>\n",
       "  <tbody>\n",
       "    <tr>\n",
       "      <th>AL</th>\n",
       "      <td>4,849,377</td>\n",
       "    </tr>\n",
       "    <tr>\n",
       "      <th>AK</th>\n",
       "      <td>736,732</td>\n",
       "    </tr>\n",
       "    <tr>\n",
       "      <th>AZ</th>\n",
       "      <td>6,731,484</td>\n",
       "    </tr>\n",
       "    <tr>\n",
       "      <th>AR</th>\n",
       "      <td>2,966,369</td>\n",
       "    </tr>\n",
       "    <tr>\n",
       "      <th>CA</th>\n",
       "      <td>38,802,500</td>\n",
       "    </tr>\n",
       "  </tbody>\n",
       "</table>\n",
       "</div>"
      ],
      "text/plain": [
       "       population\n",
       "State            \n",
       "AL      4,849,377\n",
       "AK        736,732\n",
       "AZ      6,731,484\n",
       "AR      2,966,369\n",
       "CA     38,802,500"
      ]
     },
     "execution_count": 47,
     "metadata": {},
     "output_type": "execute_result"
    }
   ],
   "source": [
    "states_2014.head()"
   ]
  },
  {
   "cell_type": "code",
   "execution_count": 48,
   "metadata": {
    "collapsed": true
   },
   "outputs": [],
   "source": [
    "state_complaints = state_complaints.to_frame(name='complaints')"
   ]
  },
  {
   "cell_type": "code",
   "execution_count": 49,
   "metadata": {
    "collapsed": false
   },
   "outputs": [
    {
     "data": {
      "text/html": [
       "<div style=\"max-height:1000px;max-width:1500px;overflow:auto;\">\n",
       "<table border=\"1\" class=\"dataframe\">\n",
       "  <thead>\n",
       "    <tr style=\"text-align: right;\">\n",
       "      <th></th>\n",
       "      <th>complaints</th>\n",
       "    </tr>\n",
       "  </thead>\n",
       "  <tbody>\n",
       "    <tr>\n",
       "      <th>AA</th>\n",
       "      <td>10</td>\n",
       "    </tr>\n",
       "    <tr>\n",
       "      <th>AE</th>\n",
       "      <td>147</td>\n",
       "    </tr>\n",
       "    <tr>\n",
       "      <th>AK</th>\n",
       "      <td>478</td>\n",
       "    </tr>\n",
       "    <tr>\n",
       "      <th>AL</th>\n",
       "      <td>3842</td>\n",
       "    </tr>\n",
       "    <tr>\n",
       "      <th>AP</th>\n",
       "      <td>113</td>\n",
       "    </tr>\n",
       "  </tbody>\n",
       "</table>\n",
       "</div>"
      ],
      "text/plain": [
       "    complaints\n",
       "AA          10\n",
       "AE         147\n",
       "AK         478\n",
       "AL        3842\n",
       "AP         113"
      ]
     },
     "execution_count": 49,
     "metadata": {},
     "output_type": "execute_result"
    }
   ],
   "source": [
    "state_complaints.head()"
   ]
  },
  {
   "cell_type": "code",
   "execution_count": 50,
   "metadata": {
    "collapsed": false
   },
   "outputs": [],
   "source": [
    "state_complaints = state_complaints.join(states_2014)"
   ]
  },
  {
   "cell_type": "code",
   "execution_count": 51,
   "metadata": {
    "collapsed": false
   },
   "outputs": [],
   "source": [
    "state_complaints = state_complaints.dropna()"
   ]
  },
  {
   "cell_type": "code",
   "execution_count": 52,
   "metadata": {
    "collapsed": false
   },
   "outputs": [
    {
     "data": {
      "text/html": [
       "<div style=\"max-height:1000px;max-width:1500px;overflow:auto;\">\n",
       "<table border=\"1\" class=\"dataframe\">\n",
       "  <thead>\n",
       "    <tr style=\"text-align: right;\">\n",
       "      <th></th>\n",
       "      <th>complaints</th>\n",
       "      <th>population</th>\n",
       "    </tr>\n",
       "  </thead>\n",
       "  <tbody>\n",
       "    <tr>\n",
       "      <th>AK</th>\n",
       "      <td>478</td>\n",
       "      <td>736,732</td>\n",
       "    </tr>\n",
       "    <tr>\n",
       "      <th>AL</th>\n",
       "      <td>3842</td>\n",
       "      <td>4,849,377</td>\n",
       "    </tr>\n",
       "    <tr>\n",
       "      <th>AR</th>\n",
       "      <td>1670</td>\n",
       "      <td>2,966,369</td>\n",
       "    </tr>\n",
       "    <tr>\n",
       "      <th>AZ</th>\n",
       "      <td>8678</td>\n",
       "      <td>6,731,484</td>\n",
       "    </tr>\n",
       "    <tr>\n",
       "      <th>CA</th>\n",
       "      <td>58603</td>\n",
       "      <td>38,802,500</td>\n",
       "    </tr>\n",
       "  </tbody>\n",
       "</table>\n",
       "</div>"
      ],
      "text/plain": [
       "    complaints  population\n",
       "AK         478     736,732\n",
       "AL        3842   4,849,377\n",
       "AR        1670   2,966,369\n",
       "AZ        8678   6,731,484\n",
       "CA       58603  38,802,500"
      ]
     },
     "execution_count": 52,
     "metadata": {},
     "output_type": "execute_result"
    }
   ],
   "source": [
    "state_complaints.head()"
   ]
  },
  {
   "cell_type": "code",
   "execution_count": 53,
   "metadata": {
    "collapsed": false
   },
   "outputs": [
    {
     "data": {
      "text/plain": [
       "'en_US.UTF-8'"
      ]
     },
     "execution_count": 53,
     "metadata": {},
     "output_type": "execute_result"
    }
   ],
   "source": [
    "import locale\n",
    "locale.setlocale( locale.LC_ALL, 'en_US.UTF-8' ) "
   ]
  },
  {
   "cell_type": "code",
   "execution_count": 54,
   "metadata": {
    "collapsed": true
   },
   "outputs": [],
   "source": [
    "state_complaints.population = state_complaints.population.map(locale.atoi)"
   ]
  },
  {
   "cell_type": "code",
   "execution_count": 55,
   "metadata": {
    "collapsed": false
   },
   "outputs": [
    {
     "data": {
      "text/html": [
       "<div style=\"max-height:1000px;max-width:1500px;overflow:auto;\">\n",
       "<table border=\"1\" class=\"dataframe\">\n",
       "  <thead>\n",
       "    <tr style=\"text-align: right;\">\n",
       "      <th></th>\n",
       "      <th>complaints</th>\n",
       "      <th>population</th>\n",
       "    </tr>\n",
       "  </thead>\n",
       "  <tbody>\n",
       "    <tr>\n",
       "      <th>AK</th>\n",
       "      <td>478</td>\n",
       "      <td>736732</td>\n",
       "    </tr>\n",
       "    <tr>\n",
       "      <th>AL</th>\n",
       "      <td>3842</td>\n",
       "      <td>4849377</td>\n",
       "    </tr>\n",
       "    <tr>\n",
       "      <th>AR</th>\n",
       "      <td>1670</td>\n",
       "      <td>2966369</td>\n",
       "    </tr>\n",
       "    <tr>\n",
       "      <th>AZ</th>\n",
       "      <td>8678</td>\n",
       "      <td>6731484</td>\n",
       "    </tr>\n",
       "    <tr>\n",
       "      <th>CA</th>\n",
       "      <td>58603</td>\n",
       "      <td>38802500</td>\n",
       "    </tr>\n",
       "  </tbody>\n",
       "</table>\n",
       "</div>"
      ],
      "text/plain": [
       "    complaints  population\n",
       "AK         478      736732\n",
       "AL        3842     4849377\n",
       "AR        1670     2966369\n",
       "AZ        8678     6731484\n",
       "CA       58603    38802500"
      ]
     },
     "execution_count": 55,
     "metadata": {},
     "output_type": "execute_result"
    }
   ],
   "source": [
    "state_complaints.head()"
   ]
  },
  {
   "cell_type": "code",
   "execution_count": 56,
   "metadata": {
    "collapsed": false
   },
   "outputs": [],
   "source": [
    "state_complaints['per_capita'] = state_complaints.complaints / state_complaints.population *10000"
   ]
  },
  {
   "cell_type": "code",
   "execution_count": 57,
   "metadata": {
    "collapsed": false
   },
   "outputs": [
    {
     "data": {
      "text/html": [
       "<div style=\"max-height:1000px;max-width:1500px;overflow:auto;\">\n",
       "<table border=\"1\" class=\"dataframe\">\n",
       "  <thead>\n",
       "    <tr style=\"text-align: right;\">\n",
       "      <th></th>\n",
       "      <th>complaints</th>\n",
       "      <th>population</th>\n",
       "      <th>per_capita</th>\n",
       "    </tr>\n",
       "  </thead>\n",
       "  <tbody>\n",
       "    <tr>\n",
       "      <th>AK</th>\n",
       "      <td>478</td>\n",
       "      <td>736732</td>\n",
       "      <td>6.488112</td>\n",
       "    </tr>\n",
       "    <tr>\n",
       "      <th>AL</th>\n",
       "      <td>3842</td>\n",
       "      <td>4849377</td>\n",
       "      <td>7.922667</td>\n",
       "    </tr>\n",
       "    <tr>\n",
       "      <th>AR</th>\n",
       "      <td>1670</td>\n",
       "      <td>2966369</td>\n",
       "      <td>5.629778</td>\n",
       "    </tr>\n",
       "    <tr>\n",
       "      <th>AZ</th>\n",
       "      <td>8678</td>\n",
       "      <td>6731484</td>\n",
       "      <td>12.891660</td>\n",
       "    </tr>\n",
       "    <tr>\n",
       "      <th>CA</th>\n",
       "      <td>58603</td>\n",
       "      <td>38802500</td>\n",
       "      <td>15.102893</td>\n",
       "    </tr>\n",
       "  </tbody>\n",
       "</table>\n",
       "</div>"
      ],
      "text/plain": [
       "    complaints  population  per_capita\n",
       "AK         478      736732    6.488112\n",
       "AL        3842     4849377    7.922667\n",
       "AR        1670     2966369    5.629778\n",
       "AZ        8678     6731484   12.891660\n",
       "CA       58603    38802500   15.102893"
      ]
     },
     "execution_count": 57,
     "metadata": {},
     "output_type": "execute_result"
    }
   ],
   "source": [
    "state_complaints.head()"
   ]
  },
  {
   "cell_type": "code",
   "execution_count": 58,
   "metadata": {
    "collapsed": true
   },
   "outputs": [],
   "source": [
    "state_complaints_per_capita = state_complaints['per_capita']"
   ]
  },
  {
   "cell_type": "code",
   "execution_count": 59,
   "metadata": {
    "collapsed": false
   },
   "outputs": [
    {
     "data": {
      "text/plain": [
       "<matplotlib.axes._subplots.AxesSubplot at 0x119dfaa20>"
      ]
     },
     "execution_count": 59,
     "metadata": {},
     "output_type": "execute_result"
    },
    {
     "data": {
      "image/png": "[encoded data removed]",
      "text/plain": [
       "<matplotlib.figure.Figure at 0x119dfa4e0>"
      ]
     },
     "metadata": {},
     "output_type": "display_data"
    }
   ],
   "source": [
    "plt.figure(figsize=(12,10))\n",
    "state_complaints_per_capita.plot(kind='bar', title='Complaints by 10,000 Residents')"
   ]
  },
  {
   "cell_type": "code",
   "execution_count": 60,
   "metadata": {
    "collapsed": false
   },
   "outputs": [],
   "source": [
    "complaints_zip = consumer_complaints.ZIP_code.value_counts().sort_index()"
   ]
  },
  {
   "cell_type": "code",
   "execution_count": 61,
   "metadata": {
    "collapsed": false
   },
   "outputs": [],
   "source": [
    "zips_complaints = complaints_zip.to_frame(name='complaints')"
   ]
  },
  {
   "cell_type": "code",
   "execution_count": 62,
   "metadata": {
    "collapsed": false
   },
   "outputs": [
    {
     "data": {
      "text/html": [
       "<div style=\"max-height:1000px;max-width:1500px;overflow:auto;\">\n",
       "<table border=\"1\" class=\"dataframe\">\n",
       "  <thead>\n",
       "    <tr style=\"text-align: right;\">\n",
       "      <th></th>\n",
       "      <th>complaints</th>\n",
       "    </tr>\n",
       "  </thead>\n",
       "  <tbody>\n",
       "    <tr>\n",
       "      <th>48382</th>\n",
       "      <td>916</td>\n",
       "    </tr>\n",
       "  </tbody>\n",
       "</table>\n",
       "</div>"
      ],
      "text/plain": [
       "       complaints\n",
       "48382         916"
      ]
     },
     "execution_count": 62,
     "metadata": {},
     "output_type": "execute_result"
    }
   ],
   "source": [
    "#finding zipcode with most complaints\n",
    "zips_complaints[zips_complaints['complaints'] > 915]"
   ]
  },
  {
   "cell_type": "code",
   "execution_count": 63,
   "metadata": {
    "collapsed": true
   },
   "outputs": [],
   "source": [
    "zips = pd.read_csv('2010_zip_pop.csv')"
   ]
  },
  {
   "cell_type": "code",
   "execution_count": 64,
   "metadata": {
    "collapsed": false
   },
   "outputs": [],
   "source": [
    "zips = zips.rename(columns=lambda x: x.replace(' ', '_'))"
   ]
  },
  {
   "cell_type": "code",
   "execution_count": 65,
   "metadata": {
    "collapsed": false
   },
   "outputs": [],
   "source": [
    "zips = zips.rename(columns=lambda x: x.replace('2010_', ''))"
   ]
  },
  {
   "cell_type": "code",
   "execution_count": 66,
   "metadata": {
    "collapsed": false
   },
   "outputs": [
    {
     "data": {
      "text/html": [
       "<div style=\"max-height:1000px;max-width:1500px;overflow:auto;\">\n",
       "<table border=\"1\" class=\"dataframe\">\n",
       "  <thead>\n",
       "    <tr style=\"text-align: right;\">\n",
       "      <th></th>\n",
       "      <th>Zip_Code_ZCTA</th>\n",
       "      <th>Census_Population</th>\n",
       "    </tr>\n",
       "  </thead>\n",
       "  <tbody>\n",
       "    <tr>\n",
       "      <th>0</th>\n",
       "      <td>1001</td>\n",
       "      <td>16769</td>\n",
       "    </tr>\n",
       "    <tr>\n",
       "      <th>1</th>\n",
       "      <td>1002</td>\n",
       "      <td>29049</td>\n",
       "    </tr>\n",
       "    <tr>\n",
       "      <th>2</th>\n",
       "      <td>1003</td>\n",
       "      <td>10372</td>\n",
       "    </tr>\n",
       "    <tr>\n",
       "      <th>3</th>\n",
       "      <td>1005</td>\n",
       "      <td>5079</td>\n",
       "    </tr>\n",
       "    <tr>\n",
       "      <th>4</th>\n",
       "      <td>1007</td>\n",
       "      <td>14649</td>\n",
       "    </tr>\n",
       "  </tbody>\n",
       "</table>\n",
       "</div>"
      ],
      "text/plain": [
       "   Zip_Code_ZCTA  Census_Population\n",
       "0           1001              16769\n",
       "1           1002              29049\n",
       "2           1003              10372\n",
       "3           1005               5079\n",
       "4           1007              14649"
      ]
     },
     "execution_count": 66,
     "metadata": {},
     "output_type": "execute_result"
    }
   ],
   "source": [
    "zips.head()"
   ]
  },
  {
   "cell_type": "code",
   "execution_count": 67,
   "metadata": {
    "collapsed": true
   },
   "outputs": [],
   "source": [
    "zips.index = zips.Zip_Code_ZCTA"
   ]
  },
  {
   "cell_type": "code",
   "execution_count": 68,
   "metadata": {
    "collapsed": false
   },
   "outputs": [],
   "source": [
    "zips = zips['Census_Population']"
   ]
  },
  {
   "cell_type": "code",
   "execution_count": 69,
   "metadata": {
    "collapsed": false
   },
   "outputs": [],
   "source": [
    "zips = zips.to_frame(name='population')"
   ]
  },
  {
   "cell_type": "code",
   "execution_count": 70,
   "metadata": {
    "collapsed": true
   },
   "outputs": [],
   "source": [
    "zips_complaints = zips_complaints.join(zips)"
   ]
  },
  {
   "cell_type": "code",
   "execution_count": 71,
   "metadata": {
    "collapsed": false
   },
   "outputs": [],
   "source": [
    "zips_complaints = zips_complaints.dropna()"
   ]
  },
  {
   "cell_type": "code",
   "execution_count": 72,
   "metadata": {
    "collapsed": false
   },
   "outputs": [
    {
     "data": {
      "text/html": [
       "<div style=\"max-height:1000px;max-width:1500px;overflow:auto;\">\n",
       "<table border=\"1\" class=\"dataframe\">\n",
       "  <thead>\n",
       "    <tr style=\"text-align: right;\">\n",
       "      <th></th>\n",
       "      <th>complaints</th>\n",
       "      <th>population</th>\n",
       "    </tr>\n",
       "  </thead>\n",
       "  <tbody>\n",
       "    <tr>\n",
       "      <th>1001</th>\n",
       "      <td>13</td>\n",
       "      <td>16769</td>\n",
       "    </tr>\n",
       "    <tr>\n",
       "      <th>1002</th>\n",
       "      <td>17</td>\n",
       "      <td>29049</td>\n",
       "    </tr>\n",
       "    <tr>\n",
       "      <th>1005</th>\n",
       "      <td>4</td>\n",
       "      <td>5079</td>\n",
       "    </tr>\n",
       "    <tr>\n",
       "      <th>1007</th>\n",
       "      <td>18</td>\n",
       "      <td>14649</td>\n",
       "    </tr>\n",
       "    <tr>\n",
       "      <th>1008</th>\n",
       "      <td>1</td>\n",
       "      <td>1263</td>\n",
       "    </tr>\n",
       "  </tbody>\n",
       "</table>\n",
       "</div>"
      ],
      "text/plain": [
       "      complaints  population\n",
       "1001          13       16769\n",
       "1002          17       29049\n",
       "1005           4        5079\n",
       "1007          18       14649\n",
       "1008           1        1263"
      ]
     },
     "execution_count": 72,
     "metadata": {},
     "output_type": "execute_result"
    }
   ],
   "source": [
    "zips_complaints.head()"
   ]
  },
  {
   "cell_type": "code",
   "execution_count": 73,
   "metadata": {
    "collapsed": false
   },
   "outputs": [
    {
     "data": {
      "text/plain": [
       "complaints       916\n",
       "population    113916\n",
       "dtype: float64"
      ]
     },
     "execution_count": 73,
     "metadata": {},
     "output_type": "execute_result"
    }
   ],
   "source": [
    "zips_complaints.max()"
   ]
  },
  {
   "cell_type": "code",
   "execution_count": 75,
   "metadata": {
    "collapsed": false
   },
   "outputs": [
    {
     "data": {
      "text/html": [
       "<div style=\"max-height:1000px;max-width:1500px;overflow:auto;\">\n",
       "<table border=\"1\" class=\"dataframe\">\n",
       "  <thead>\n",
       "    <tr style=\"text-align: right;\">\n",
       "      <th></th>\n",
       "      <th>complaints</th>\n",
       "      <th>population</th>\n",
       "    </tr>\n",
       "  </thead>\n",
       "  <tbody>\n",
       "    <tr>\n",
       "      <th>1001</th>\n",
       "      <td>13</td>\n",
       "      <td>16769</td>\n",
       "    </tr>\n",
       "    <tr>\n",
       "      <th>1002</th>\n",
       "      <td>17</td>\n",
       "      <td>29049</td>\n",
       "    </tr>\n",
       "    <tr>\n",
       "      <th>1005</th>\n",
       "      <td>4</td>\n",
       "      <td>5079</td>\n",
       "    </tr>\n",
       "    <tr>\n",
       "      <th>1007</th>\n",
       "      <td>18</td>\n",
       "      <td>14649</td>\n",
       "    </tr>\n",
       "    <tr>\n",
       "      <th>1008</th>\n",
       "      <td>1</td>\n",
       "      <td>1263</td>\n",
       "    </tr>\n",
       "  </tbody>\n",
       "</table>\n",
       "</div>"
      ],
      "text/plain": [
       "      complaints  population\n",
       "1001          13       16769\n",
       "1002          17       29049\n",
       "1005           4        5079\n",
       "1007          18       14649\n",
       "1008           1        1263"
      ]
     },
     "execution_count": 75,
     "metadata": {},
     "output_type": "execute_result"
    }
   ],
   "source": [
    "zips_complaints.head()"
   ]
  },
  {
   "cell_type": "code",
   "execution_count": 76,
   "metadata": {
    "collapsed": false
   },
   "outputs": [],
   "source": [
    "zips_complaints['per_capita'] = (zips_complaints.complaints / zips_complaints.population)*10000"
   ]
  },
  {
   "cell_type": "code",
   "execution_count": 77,
   "metadata": {
    "collapsed": false
   },
   "outputs": [
    {
     "data": {
      "text/plain": [
       "inf"
      ]
     },
     "execution_count": 77,
     "metadata": {},
     "output_type": "execute_result"
    }
   ],
   "source": [
    "zips_complaints.per_capita.max()"
   ]
  },
  {
   "cell_type": "code",
   "execution_count": 78,
   "metadata": {
    "collapsed": true
   },
   "outputs": [],
   "source": [
    "#removes numbers divided by 0\n",
    "zips_complaints = zips_complaints.replace([np.inf, -np.inf], np.nan).dropna(subset=[\"per_capita\"], how=\"all\")"
   ]
  },
  {
   "cell_type": "code",
   "execution_count": 79,
   "metadata": {
    "collapsed": false
   },
   "outputs": [
    {
     "data": {
      "text/plain": [
       "complaints       916\n",
       "population    113916\n",
       "per_capita     40000\n",
       "dtype: float64"
      ]
     },
     "execution_count": 79,
     "metadata": {},
     "output_type": "execute_result"
    }
   ],
   "source": [
    "#getting the wrong output for per_capita - this should be 916/113916*10000 = 80\n",
    "zips_complaints.max()"
   ]
  },
  {
   "cell_type": "code",
   "execution_count": 80,
   "metadata": {
    "collapsed": false
   },
   "outputs": [
    {
     "data": {
      "text/plain": [
       "complaints       1.000000\n",
       "population    1460.000000\n",
       "per_capita       6.849315\n",
       "Name: 99926.0, dtype: float64"
      ]
     },
     "execution_count": 80,
     "metadata": {},
     "output_type": "execute_result"
    }
   ],
   "source": [
    "zips_complaints.xs(99926)"
   ]
  },
  {
   "cell_type": "code",
   "execution_count": 78,
   "metadata": {
    "collapsed": false
   },
   "outputs": [
    {
     "data": {
      "text/html": [
       "<div style=\"max-height:1000px;max-width:1500px;overflow:auto;\">\n",
       "<table border=\"1\" class=\"dataframe\">\n",
       "  <thead>\n",
       "    <tr style=\"text-align: right;\">\n",
       "      <th></th>\n",
       "      <th>complaints</th>\n",
       "      <th>population</th>\n",
       "      <th>per_capita</th>\n",
       "    </tr>\n",
       "  </thead>\n",
       "  <tbody>\n",
       "    <tr>\n",
       "      <th>1001</th>\n",
       "      <td>13</td>\n",
       "      <td>16769</td>\n",
       "      <td>7.752400</td>\n",
       "    </tr>\n",
       "    <tr>\n",
       "      <th>1002</th>\n",
       "      <td>17</td>\n",
       "      <td>29049</td>\n",
       "      <td>5.852181</td>\n",
       "    </tr>\n",
       "    <tr>\n",
       "      <th>1005</th>\n",
       "      <td>4</td>\n",
       "      <td>5079</td>\n",
       "      <td>7.875566</td>\n",
       "    </tr>\n",
       "    <tr>\n",
       "      <th>1007</th>\n",
       "      <td>18</td>\n",
       "      <td>14649</td>\n",
       "      <td>12.287528</td>\n",
       "    </tr>\n",
       "    <tr>\n",
       "      <th>1008</th>\n",
       "      <td>1</td>\n",
       "      <td>1263</td>\n",
       "      <td>7.917656</td>\n",
       "    </tr>\n",
       "  </tbody>\n",
       "</table>\n",
       "</div>"
      ],
      "text/plain": [
       "      complaints  population  per_capita\n",
       "1001          13       16769    7.752400\n",
       "1002          17       29049    5.852181\n",
       "1005           4        5079    7.875566\n",
       "1007          18       14649   12.287528\n",
       "1008           1        1263    7.917656"
      ]
     },
     "execution_count": 78,
     "metadata": {},
     "output_type": "execute_result"
    }
   ],
   "source": [
    "zips_complaints.head()"
   ]
  },
  {
   "cell_type": "code",
   "execution_count": 83,
   "metadata": {
    "collapsed": false
   },
   "outputs": [
    {
     "data": {
      "text/plain": [
       "<matplotlib.collections.PathCollection at 0x11b3adbe0>"
      ]
     },
     "execution_count": 83,
     "metadata": {},
     "output_type": "execute_result"
    },
    {
     "data": {
      "image/png": "[encoded data removed]",
      "text/plain": [
       "<matplotlib.figure.Figure at 0x11ad16f28>"
      ]
     },
     "metadata": {},
     "output_type": "display_data"
    }
   ],
   "source": [
    "plt.scatter(zips_complaints.per_capita, zips_complaints.index, marker=\"|\")"
   ]
  },
  {
   "cell_type": "code",
   "execution_count": null,
   "metadata": {
    "collapsed": true
   },
   "outputs": [],
   "source": []
  }
 ],
 "metadata": {
  "kernelspec": {
   "display_name": "Python 3",
   "language": "python",
   "name": "python3"
  },
  "language_info": {
   "codemirror_mode": {
    "name": "ipython",
    "version": 3
   },
   "file_extension": ".py",
   "mimetype": "text/x-python",
   "name": "python",
   "nbconvert_exporter": "python",
   "pygments_lexer": "ipython3",
   "version": "3.4.3"
  }
 },
 "nbformat": 4,
 "nbformat_minor": 0
}
