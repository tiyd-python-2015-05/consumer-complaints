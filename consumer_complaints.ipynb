{
 "cells": [
  {
   "cell_type": "markdown",
   "metadata": {},
   "source": [
    "#Normal Mode"
   ]
  },
  {
   "cell_type": "code",
   "execution_count": 674,
   "metadata": {
    "collapsed": true
   },
   "outputs": [],
   "source": [
    "import pandas as pd\n",
    "import matplotlib.pyplot as plt\n",
    "import seaborn as sns"
   ]
  },
  {
   "cell_type": "code",
   "execution_count": 675,
   "metadata": {
    "collapsed": true
   },
   "outputs": [],
   "source": [
    "%matplotlib inline"
   ]
  },
  {
   "cell_type": "code",
   "execution_count": 676,
   "metadata": {
    "collapsed": false
   },
   "outputs": [],
   "source": [
    "complaints = pd.read_csv(\"Consumer_Complaints.csv\", low_memory=False)"
   ]
  },
  {
   "cell_type": "code",
   "execution_count": 677,
   "metadata": {
    "collapsed": false
   },
   "outputs": [
    {
     "data": {
      "text/html": [
       "<div style=\"max-height:1000px;max-width:1500px;overflow:auto;\">\n",
       "<table border=\"1\" class=\"dataframe\">\n",
       "  <thead>\n",
       "    <tr style=\"text-align: right;\">\n",
       "      <th></th>\n",
       "      <th>Complaint ID</th>\n",
       "      <th>Product</th>\n",
       "      <th>Sub-product</th>\n",
       "      <th>Issue</th>\n",
       "      <th>Sub-issue</th>\n",
       "      <th>State</th>\n",
       "      <th>ZIP code</th>\n",
       "      <th>Submitted via</th>\n",
       "      <th>Date sent to company</th>\n",
       "      <th>Company</th>\n",
       "      <th>Company response</th>\n",
       "      <th>Timely response?</th>\n",
       "      <th>Consumer disputed?</th>\n",
       "    </tr>\n",
       "    <tr>\n",
       "      <th>Date received</th>\n",
       "      <th></th>\n",
       "      <th></th>\n",
       "      <th></th>\n",
       "      <th></th>\n",
       "      <th></th>\n",
       "      <th></th>\n",
       "      <th></th>\n",
       "      <th></th>\n",
       "      <th></th>\n",
       "      <th></th>\n",
       "      <th></th>\n",
       "      <th></th>\n",
       "      <th></th>\n",
       "    </tr>\n",
       "  </thead>\n",
       "  <tbody>\n",
       "    <tr>\n",
       "      <th>2015-05-22</th>\n",
       "      <td>1388734</td>\n",
       "      <td>Mortgage</td>\n",
       "      <td>Conventional adjustable mortgage (ARM)</td>\n",
       "      <td>Loan servicing, payments, escrow account</td>\n",
       "      <td>NaN</td>\n",
       "      <td>VA</td>\n",
       "      <td>22204</td>\n",
       "      <td>Web</td>\n",
       "      <td>05/22/2015</td>\n",
       "      <td>Green Tree Servicing, LLC</td>\n",
       "      <td>Closed with explanation</td>\n",
       "      <td>Yes</td>\n",
       "      <td>NaN</td>\n",
       "    </tr>\n",
       "    <tr>\n",
       "      <th>2015-05-22</th>\n",
       "      <td>1389303</td>\n",
       "      <td>Consumer loan</td>\n",
       "      <td>Vehicle loan</td>\n",
       "      <td>Taking out the loan or lease</td>\n",
       "      <td>NaN</td>\n",
       "      <td>MO</td>\n",
       "      <td>63304</td>\n",
       "      <td>Web</td>\n",
       "      <td>05/22/2015</td>\n",
       "      <td>Ally Financial Inc.</td>\n",
       "      <td>In progress</td>\n",
       "      <td>Yes</td>\n",
       "      <td>NaN</td>\n",
       "    </tr>\n",
       "    <tr>\n",
       "      <th>2015-05-22</th>\n",
       "      <td>1389676</td>\n",
       "      <td>Consumer loan</td>\n",
       "      <td>Vehicle lease</td>\n",
       "      <td>Problems when you are unable to pay</td>\n",
       "      <td>NaN</td>\n",
       "      <td>FL</td>\n",
       "      <td>33414</td>\n",
       "      <td>Web</td>\n",
       "      <td>05/22/2015</td>\n",
       "      <td>Ally Financial Inc.</td>\n",
       "      <td>In progress</td>\n",
       "      <td>Yes</td>\n",
       "      <td>NaN</td>\n",
       "    </tr>\n",
       "    <tr>\n",
       "      <th>2015-05-22</th>\n",
       "      <td>1388406</td>\n",
       "      <td>Mortgage</td>\n",
       "      <td>Conventional fixed mortgage</td>\n",
       "      <td>Loan servicing, payments, escrow account</td>\n",
       "      <td>NaN</td>\n",
       "      <td>NC</td>\n",
       "      <td>27615</td>\n",
       "      <td>Web</td>\n",
       "      <td>05/22/2015</td>\n",
       "      <td>Navy FCU</td>\n",
       "      <td>In progress</td>\n",
       "      <td>Yes</td>\n",
       "      <td>NaN</td>\n",
       "    </tr>\n",
       "    <tr>\n",
       "      <th>2015-05-22</th>\n",
       "      <td>1388470</td>\n",
       "      <td>Consumer loan</td>\n",
       "      <td>Installment loan</td>\n",
       "      <td>Managing the loan or lease</td>\n",
       "      <td>NaN</td>\n",
       "      <td>MA</td>\n",
       "      <td>1474</td>\n",
       "      <td>Phone</td>\n",
       "      <td>05/22/2015</td>\n",
       "      <td>Santander Bank US</td>\n",
       "      <td>In progress</td>\n",
       "      <td>Yes</td>\n",
       "      <td>NaN</td>\n",
       "    </tr>\n",
       "  </tbody>\n",
       "</table>\n",
       "</div>"
      ],
      "text/plain": [
       "               Complaint ID        Product  \\\n",
       "Date received                                \n",
       "2015-05-22          1388734       Mortgage   \n",
       "2015-05-22          1389303  Consumer loan   \n",
       "2015-05-22          1389676  Consumer loan   \n",
       "2015-05-22          1388406       Mortgage   \n",
       "2015-05-22          1388470  Consumer loan   \n",
       "\n",
       "                                          Sub-product  \\\n",
       "Date received                                           \n",
       "2015-05-22     Conventional adjustable mortgage (ARM)   \n",
       "2015-05-22                               Vehicle loan   \n",
       "2015-05-22                              Vehicle lease   \n",
       "2015-05-22                Conventional fixed mortgage   \n",
       "2015-05-22                           Installment loan   \n",
       "\n",
       "                                                  Issue Sub-issue State  \\\n",
       "Date received                                                             \n",
       "2015-05-22     Loan servicing, payments, escrow account       NaN    VA   \n",
       "2015-05-22                 Taking out the loan or lease       NaN    MO   \n",
       "2015-05-22          Problems when you are unable to pay       NaN    FL   \n",
       "2015-05-22     Loan servicing, payments, escrow account       NaN    NC   \n",
       "2015-05-22                   Managing the loan or lease       NaN    MA   \n",
       "\n",
       "               ZIP code Submitted via Date sent to company  \\\n",
       "Date received                                                \n",
       "2015-05-22        22204           Web           05/22/2015   \n",
       "2015-05-22        63304           Web           05/22/2015   \n",
       "2015-05-22        33414           Web           05/22/2015   \n",
       "2015-05-22        27615           Web           05/22/2015   \n",
       "2015-05-22         1474         Phone           05/22/2015   \n",
       "\n",
       "                                 Company         Company response  \\\n",
       "Date received                                                       \n",
       "2015-05-22     Green Tree Servicing, LLC  Closed with explanation   \n",
       "2015-05-22           Ally Financial Inc.              In progress   \n",
       "2015-05-22           Ally Financial Inc.              In progress   \n",
       "2015-05-22                      Navy FCU              In progress   \n",
       "2015-05-22             Santander Bank US              In progress   \n",
       "\n",
       "              Timely response? Consumer disputed?  \n",
       "Date received                                      \n",
       "2015-05-22                 Yes                NaN  \n",
       "2015-05-22                 Yes                NaN  \n",
       "2015-05-22                 Yes                NaN  \n",
       "2015-05-22                 Yes                NaN  \n",
       "2015-05-22                 Yes                NaN  "
      ]
     },
     "execution_count": 677,
     "metadata": {},
     "output_type": "execute_result"
    }
   ],
   "source": [
    "complaints.index = pd.to_datetime(complaints.pop('Date received'), infer_datetime_format=True)\n",
    "complaints.head()"
   ]
  },
  {
   "cell_type": "code",
   "execution_count": 678,
   "metadata": {
    "collapsed": false
   },
   "outputs": [
    {
     "data": {
      "text/html": [
       "<div style=\"max-height:1000px;max-width:1500px;overflow:auto;\">\n",
       "<table border=\"1\" class=\"dataframe\">\n",
       "  <thead>\n",
       "    <tr style=\"text-align: right;\">\n",
       "      <th></th>\n",
       "      <th>Complaint ID</th>\n",
       "      <th>Product</th>\n",
       "      <th>Sub-product</th>\n",
       "      <th>Issue</th>\n",
       "      <th>Sub-issue</th>\n",
       "      <th>State</th>\n",
       "      <th>ZIP code</th>\n",
       "      <th>Submitted via</th>\n",
       "      <th>Date sent to company</th>\n",
       "      <th>Company</th>\n",
       "      <th>Company response</th>\n",
       "      <th>Timely response?</th>\n",
       "      <th>Consumer disputed?</th>\n",
       "    </tr>\n",
       "    <tr>\n",
       "      <th>Date received</th>\n",
       "      <th></th>\n",
       "      <th></th>\n",
       "      <th></th>\n",
       "      <th></th>\n",
       "      <th></th>\n",
       "      <th></th>\n",
       "      <th></th>\n",
       "      <th></th>\n",
       "      <th></th>\n",
       "      <th></th>\n",
       "      <th></th>\n",
       "      <th></th>\n",
       "      <th></th>\n",
       "    </tr>\n",
       "  </thead>\n",
       "  <tbody>\n",
       "    <tr>\n",
       "      <th>2011-12-01</th>\n",
       "      <td>2352</td>\n",
       "      <td>Credit card</td>\n",
       "      <td>NaN</td>\n",
       "      <td>Credit determination</td>\n",
       "      <td>NaN</td>\n",
       "      <td>NY</td>\n",
       "      <td>13350</td>\n",
       "      <td>Web</td>\n",
       "      <td>12/05/2011</td>\n",
       "      <td>Capital One</td>\n",
       "      <td>Closed without relief</td>\n",
       "      <td>Yes</td>\n",
       "      <td>Yes</td>\n",
       "    </tr>\n",
       "    <tr>\n",
       "      <th>2011-12-01</th>\n",
       "      <td>2366</td>\n",
       "      <td>Credit card</td>\n",
       "      <td>NaN</td>\n",
       "      <td>Credit reporting</td>\n",
       "      <td>NaN</td>\n",
       "      <td>FL</td>\n",
       "      <td>33415</td>\n",
       "      <td>Referral</td>\n",
       "      <td>12/06/2011</td>\n",
       "      <td>Citibank</td>\n",
       "      <td>Closed without relief</td>\n",
       "      <td>Yes</td>\n",
       "      <td>Yes</td>\n",
       "    </tr>\n",
       "    <tr>\n",
       "      <th>2011-12-01</th>\n",
       "      <td>2368</td>\n",
       "      <td>Credit card</td>\n",
       "      <td>NaN</td>\n",
       "      <td>Credit line increase/decrease</td>\n",
       "      <td>NaN</td>\n",
       "      <td>FL</td>\n",
       "      <td>32792</td>\n",
       "      <td>Web</td>\n",
       "      <td>12/05/2011</td>\n",
       "      <td>Citibank</td>\n",
       "      <td>Closed without relief</td>\n",
       "      <td>Yes</td>\n",
       "      <td>No</td>\n",
       "    </tr>\n",
       "    <tr>\n",
       "      <th>2011-12-01</th>\n",
       "      <td>2371</td>\n",
       "      <td>Credit card</td>\n",
       "      <td>NaN</td>\n",
       "      <td>Other fee</td>\n",
       "      <td>NaN</td>\n",
       "      <td>HI</td>\n",
       "      <td>96813</td>\n",
       "      <td>Web</td>\n",
       "      <td>12/19/2011</td>\n",
       "      <td>Capital One</td>\n",
       "      <td>Closed without relief</td>\n",
       "      <td>Yes</td>\n",
       "      <td>No</td>\n",
       "    </tr>\n",
       "    <tr>\n",
       "      <th>2011-12-01</th>\n",
       "      <td>2374</td>\n",
       "      <td>Credit card</td>\n",
       "      <td>NaN</td>\n",
       "      <td>Payoff process</td>\n",
       "      <td>NaN</td>\n",
       "      <td>CA</td>\n",
       "      <td>94108</td>\n",
       "      <td>Phone</td>\n",
       "      <td>12/05/2011</td>\n",
       "      <td>Capital One</td>\n",
       "      <td>Closed without relief</td>\n",
       "      <td>Yes</td>\n",
       "      <td>Yes</td>\n",
       "    </tr>\n",
       "  </tbody>\n",
       "</table>\n",
       "</div>"
      ],
      "text/plain": [
       "               Complaint ID      Product Sub-product  \\\n",
       "Date received                                          \n",
       "2011-12-01             2352  Credit card         NaN   \n",
       "2011-12-01             2366  Credit card         NaN   \n",
       "2011-12-01             2368  Credit card         NaN   \n",
       "2011-12-01             2371  Credit card         NaN   \n",
       "2011-12-01             2374  Credit card         NaN   \n",
       "\n",
       "                                       Issue Sub-issue State  ZIP code  \\\n",
       "Date received                                                            \n",
       "2011-12-01              Credit determination       NaN    NY     13350   \n",
       "2011-12-01                  Credit reporting       NaN    FL     33415   \n",
       "2011-12-01     Credit line increase/decrease       NaN    FL     32792   \n",
       "2011-12-01                         Other fee       NaN    HI     96813   \n",
       "2011-12-01                    Payoff process       NaN    CA     94108   \n",
       "\n",
       "              Submitted via Date sent to company      Company  \\\n",
       "Date received                                                   \n",
       "2011-12-01              Web           12/05/2011  Capital One   \n",
       "2011-12-01         Referral           12/06/2011     Citibank   \n",
       "2011-12-01              Web           12/05/2011     Citibank   \n",
       "2011-12-01              Web           12/19/2011  Capital One   \n",
       "2011-12-01            Phone           12/05/2011  Capital One   \n",
       "\n",
       "                    Company response Timely response? Consumer disputed?  \n",
       "Date received                                                             \n",
       "2011-12-01     Closed without relief              Yes                Yes  \n",
       "2011-12-01     Closed without relief              Yes                Yes  \n",
       "2011-12-01     Closed without relief              Yes                 No  \n",
       "2011-12-01     Closed without relief              Yes                 No  \n",
       "2011-12-01     Closed without relief              Yes                Yes  "
      ]
     },
     "execution_count": 678,
     "metadata": {},
     "output_type": "execute_result"
    }
   ],
   "source": [
    "complaints.tail()"
   ]
  },
  {
   "cell_type": "code",
   "execution_count": 679,
   "metadata": {
    "collapsed": false
   },
   "outputs": [
    {
     "data": {
      "text/html": [
       "<div style=\"max-height:1000px;max-width:1500px;overflow:auto;\">\n",
       "<table border=\"1\" class=\"dataframe\">\n",
       "  <thead>\n",
       "    <tr style=\"text-align: right;\">\n",
       "      <th></th>\n",
       "      <th>Complaint ID</th>\n",
       "      <th>Product</th>\n",
       "      <th>Issue</th>\n",
       "      <th>State</th>\n",
       "      <th>ZIP code</th>\n",
       "      <th>Submitted via</th>\n",
       "      <th>Company</th>\n",
       "      <th>Company response</th>\n",
       "      <th>Timely response?</th>\n",
       "    </tr>\n",
       "    <tr>\n",
       "      <th>Date received</th>\n",
       "      <th></th>\n",
       "      <th></th>\n",
       "      <th></th>\n",
       "      <th></th>\n",
       "      <th></th>\n",
       "      <th></th>\n",
       "      <th></th>\n",
       "      <th></th>\n",
       "      <th></th>\n",
       "    </tr>\n",
       "  </thead>\n",
       "  <tbody>\n",
       "    <tr>\n",
       "      <th>2015-05-22</th>\n",
       "      <td>1388734</td>\n",
       "      <td>Mortgage</td>\n",
       "      <td>Loan servicing, payments, escrow account</td>\n",
       "      <td>VA</td>\n",
       "      <td>22204</td>\n",
       "      <td>Web</td>\n",
       "      <td>Green Tree Servicing, LLC</td>\n",
       "      <td>Closed with explanation</td>\n",
       "      <td>Yes</td>\n",
       "    </tr>\n",
       "    <tr>\n",
       "      <th>2015-05-22</th>\n",
       "      <td>1389303</td>\n",
       "      <td>Consumer loan</td>\n",
       "      <td>Taking out the loan or lease</td>\n",
       "      <td>MO</td>\n",
       "      <td>63304</td>\n",
       "      <td>Web</td>\n",
       "      <td>Ally Financial Inc.</td>\n",
       "      <td>In progress</td>\n",
       "      <td>Yes</td>\n",
       "    </tr>\n",
       "    <tr>\n",
       "      <th>2015-05-22</th>\n",
       "      <td>1389676</td>\n",
       "      <td>Consumer loan</td>\n",
       "      <td>Problems when you are unable to pay</td>\n",
       "      <td>FL</td>\n",
       "      <td>33414</td>\n",
       "      <td>Web</td>\n",
       "      <td>Ally Financial Inc.</td>\n",
       "      <td>In progress</td>\n",
       "      <td>Yes</td>\n",
       "    </tr>\n",
       "    <tr>\n",
       "      <th>2015-05-22</th>\n",
       "      <td>1388406</td>\n",
       "      <td>Mortgage</td>\n",
       "      <td>Loan servicing, payments, escrow account</td>\n",
       "      <td>NC</td>\n",
       "      <td>27615</td>\n",
       "      <td>Web</td>\n",
       "      <td>Navy FCU</td>\n",
       "      <td>In progress</td>\n",
       "      <td>Yes</td>\n",
       "    </tr>\n",
       "    <tr>\n",
       "      <th>2015-05-22</th>\n",
       "      <td>1388470</td>\n",
       "      <td>Consumer loan</td>\n",
       "      <td>Managing the loan or lease</td>\n",
       "      <td>MA</td>\n",
       "      <td>1474</td>\n",
       "      <td>Phone</td>\n",
       "      <td>Santander Bank US</td>\n",
       "      <td>In progress</td>\n",
       "      <td>Yes</td>\n",
       "    </tr>\n",
       "  </tbody>\n",
       "</table>\n",
       "</div>"
      ],
      "text/plain": [
       "               Complaint ID        Product  \\\n",
       "Date received                                \n",
       "2015-05-22          1388734       Mortgage   \n",
       "2015-05-22          1389303  Consumer loan   \n",
       "2015-05-22          1389676  Consumer loan   \n",
       "2015-05-22          1388406       Mortgage   \n",
       "2015-05-22          1388470  Consumer loan   \n",
       "\n",
       "                                                  Issue State  ZIP code  \\\n",
       "Date received                                                             \n",
       "2015-05-22     Loan servicing, payments, escrow account    VA     22204   \n",
       "2015-05-22                 Taking out the loan or lease    MO     63304   \n",
       "2015-05-22          Problems when you are unable to pay    FL     33414   \n",
       "2015-05-22     Loan servicing, payments, escrow account    NC     27615   \n",
       "2015-05-22                   Managing the loan or lease    MA      1474   \n",
       "\n",
       "              Submitted via                    Company  \\\n",
       "Date received                                            \n",
       "2015-05-22              Web  Green Tree Servicing, LLC   \n",
       "2015-05-22              Web        Ally Financial Inc.   \n",
       "2015-05-22              Web        Ally Financial Inc.   \n",
       "2015-05-22              Web                   Navy FCU   \n",
       "2015-05-22            Phone          Santander Bank US   \n",
       "\n",
       "                      Company response Timely response?  \n",
       "Date received                                            \n",
       "2015-05-22     Closed with explanation              Yes  \n",
       "2015-05-22                 In progress              Yes  \n",
       "2015-05-22                 In progress              Yes  \n",
       "2015-05-22                 In progress              Yes  \n",
       "2015-05-22                 In progress              Yes  "
      ]
     },
     "execution_count": 679,
     "metadata": {},
     "output_type": "execute_result"
    }
   ],
   "source": [
    "complaints = complaints[['Complaint ID', 'Product', 'Issue', 'State', 'ZIP code', 'Submitted via', 'Company', 'Company response', 'Timely response?']]\n",
    "complaints.head()"
   ]
  },
  {
   "cell_type": "code",
   "execution_count": 680,
   "metadata": {
    "collapsed": false
   },
   "outputs": [
    {
     "data": {
      "text/html": [
       "<div style=\"max-height:1000px;max-width:1500px;overflow:auto;\">\n",
       "<table border=\"1\" class=\"dataframe\">\n",
       "  <thead>\n",
       "    <tr style=\"text-align: right;\">\n",
       "      <th></th>\n",
       "      <th>count</th>\n",
       "    </tr>\n",
       "    <tr>\n",
       "      <th>Date received</th>\n",
       "      <th></th>\n",
       "    </tr>\n",
       "  </thead>\n",
       "  <tbody>\n",
       "    <tr>\n",
       "      <th>2014-12-31</th>\n",
       "      <td>11710</td>\n",
       "    </tr>\n",
       "    <tr>\n",
       "      <th>2015-01-31</th>\n",
       "      <td>12633</td>\n",
       "    </tr>\n",
       "    <tr>\n",
       "      <th>2015-02-28</th>\n",
       "      <td>12710</td>\n",
       "    </tr>\n",
       "    <tr>\n",
       "      <th>2015-03-31</th>\n",
       "      <td>14567</td>\n",
       "    </tr>\n",
       "    <tr>\n",
       "      <th>2015-04-30</th>\n",
       "      <td>13577</td>\n",
       "    </tr>\n",
       "  </tbody>\n",
       "</table>\n",
       "</div>"
      ],
      "text/plain": [
       "               count\n",
       "Date received       \n",
       "2014-12-31     11710\n",
       "2015-01-31     12633\n",
       "2015-02-28     12710\n",
       "2015-03-31     14567\n",
       "2015-04-30     13577"
      ]
     },
     "execution_count": 680,
     "metadata": {},
     "output_type": "execute_result"
    }
   ],
   "source": [
    "complaints['Complaint ID'].resample(\"M\", how=[\"count\"])[:-1].tail()\n"
   ]
  },
  {
   "cell_type": "code",
   "execution_count": 681,
   "metadata": {
    "collapsed": false
   },
   "outputs": [
    {
     "data": {
      "text/plain": [
       "<matplotlib.axes._subplots.AxesSubplot at 0x13142f550>"
      ]
     },
     "execution_count": 681,
     "metadata": {},
     "output_type": "execute_result"
    },
    {
     "data": {
      "image/png": "[encoded data removed]",
      "text/plain": [
       "<matplotlib.figure.Figure at 0x131429c88>"
      ]
     },
     "metadata": {},
     "output_type": "display_data"
    }
   ],
   "source": [
    "complaints['Complaint ID'].resample(\"M\", how=[\"count\"])[:-1].plot()"
   ]
  },
  {
   "cell_type": "markdown",
   "metadata": {},
   "source": [
    "This plot shows the number of complaints increasing pretty steadily since they began collecting this data.  There are a few spikes which may be time when a large amount of people were opening/closing accounts--usually in January."
   ]
  },
  {
   "cell_type": "code",
   "execution_count": 682,
   "metadata": {
    "collapsed": false
   },
   "outputs": [
    {
     "data": {
      "text/plain": [
       "Product\n",
       "Bank account or service     45851\n",
       "Consumer loan               13186\n",
       "Credit card                 49772\n",
       "Credit reporting            57299\n",
       "Debt collection             65639\n",
       "Money transfers              2249\n",
       "Mortgage                   146533\n",
       "Other financial service       212\n",
       "Payday loan                  2540\n",
       "Prepaid card                  699\n",
       "Student loan                11873\n",
       "Name: Complaint ID, dtype: int64"
      ]
     },
     "execution_count": 682,
     "metadata": {},
     "output_type": "execute_result"
    }
   ],
   "source": [
    "product_complaints = complaints['Complaint ID'].groupby(complaints['Product']).count()\n",
    "product_complaints"
   ]
  },
  {
   "cell_type": "code",
   "execution_count": 683,
   "metadata": {
    "collapsed": false,
    "scrolled": false
   },
   "outputs": [
    {
     "data": {
      "text/plain": [
       "<matplotlib.axes._subplots.AxesSubplot at 0x135a44c18>"
      ]
     },
     "execution_count": 683,
     "metadata": {},
     "output_type": "execute_result"
    },
    {
     "data": {
      "image/png": "[encoded data removed]",
      "text/plain": [
       "<matplotlib.figure.Figure at 0x12f6ec470>"
      ]
     },
     "metadata": {},
     "output_type": "display_data"
    }
   ],
   "source": [
    "product_complaints.plot(kind='bar')"
   ]
  },
  {
   "cell_type": "markdown",
   "metadata": {},
   "source": [
    "The product which yields the most complaints is a mortgage."
   ]
  },
  {
   "cell_type": "code",
   "execution_count": 684,
   "metadata": {
    "collapsed": false
   },
   "outputs": [
    {
     "data": {
      "text/plain": [
       "Company\n",
       "Bank of America        46908\n",
       "Wells Fargo            32992\n",
       "JPMorgan Chase         26177\n",
       "Experian               20190\n",
       "Citibank               19578\n",
       "Equifax                19572\n",
       "Ocwen                  16864\n",
       "TransUnion             15329\n",
       "Capital One            12073\n",
       "Nationstar Mortgage     9728\n",
       "Name: Complaint ID, dtype: int64"
      ]
     },
     "execution_count": 684,
     "metadata": {},
     "output_type": "execute_result"
    }
   ],
   "source": [
    "sorted_comps = complaints.groupby(complaints['Company']).count()\n",
    "top_10 = sorted_comps.sort_index(by='Complaint ID')[::-1][0:10]\n",
    "top_10['Complaint ID']"
   ]
  },
  {
   "cell_type": "code",
   "execution_count": 685,
   "metadata": {
    "collapsed": false,
    "scrolled": true
   },
   "outputs": [
    {
     "data": {
      "text/plain": [
       "<matplotlib.axes._subplots.AxesSubplot at 0x12fcd44a8>"
      ]
     },
     "execution_count": 685,
     "metadata": {},
     "output_type": "execute_result"
    },
    {
     "data": {
      "image/png": "[encoded data removed]",
      "text/plain": [
       "<matplotlib.figure.Figure at 0x12fd02908>"
      ]
     },
     "metadata": {},
     "output_type": "display_data"
    }
   ],
   "source": [
    "top_10['Complaint ID'].plot(kind='bar')"
   ]
  },
  {
   "cell_type": "markdown",
   "metadata": {},
   "source": [
    "Bank of America has received the most complaints since the data collection began."
   ]
  },
  {
   "cell_type": "code",
   "execution_count": 686,
   "metadata": {
    "collapsed": false
   },
   "outputs": [
    {
     "data": {
      "text/plain": [
       "Company response\n",
       "Closed                               9599\n",
       "Closed with explanation            279287\n",
       "Closed with monetary relief         28145\n",
       "Closed with non-monetary relief     50502\n",
       "Closed with relief                   5305\n",
       "Closed without relief               17909\n",
       "In progress                          3222\n",
       "Untimely response                    1884\n",
       "Name: Complaint ID, dtype: int64"
      ]
     },
     "execution_count": 686,
     "metadata": {},
     "output_type": "execute_result"
    }
   ],
   "source": [
    "complaints_by_response = complaints['Complaint ID'].groupby(complaints['Company response']).count()\n",
    "complaints_by_response"
   ]
  },
  {
   "cell_type": "code",
   "execution_count": 687,
   "metadata": {
    "collapsed": false,
    "scrolled": false
   },
   "outputs": [
    {
     "data": {
      "text/plain": [
       "<matplotlib.axes._subplots.AxesSubplot at 0x133df69b0>"
      ]
     },
     "execution_count": 687,
     "metadata": {},
     "output_type": "execute_result"
    },
    {
     "data": {
      "image/png": "[encoded data removed]",
      "text/plain": [
       "<matplotlib.figure.Figure at 0x133f140f0>"
      ]
     },
     "metadata": {},
     "output_type": "display_data"
    }
   ],
   "source": [
    "complaints_by_response.plot(kind='bar')"
   ]
  },
  {
   "cell_type": "markdown",
   "metadata": {},
   "source": [
    "Nearly all of the complaints were closed with an explanation, however they also split it into whether or not it was closed with or without monetary relief. More were closed without monetary relief, not surprisingly."
   ]
  },
  {
   "cell_type": "code",
   "execution_count": 688,
   "metadata": {
    "collapsed": false
   },
   "outputs": [
    {
     "data": {
      "text/html": [
       "<div style=\"max-height:1000px;max-width:1500px;overflow:auto;\">\n",
       "<table border=\"1\" class=\"dataframe\">\n",
       "  <thead>\n",
       "    <tr style=\"text-align: right;\">\n",
       "      <th></th>\n",
       "      <th>Complaint ID</th>\n",
       "      <th>Product</th>\n",
       "      <th>Issue</th>\n",
       "      <th>State</th>\n",
       "      <th>ZIP code</th>\n",
       "      <th>Submitted via</th>\n",
       "      <th>Company</th>\n",
       "      <th>Company response</th>\n",
       "      <th>Timely response?</th>\n",
       "      <th>Day of week</th>\n",
       "    </tr>\n",
       "    <tr>\n",
       "      <th>Date received</th>\n",
       "      <th></th>\n",
       "      <th></th>\n",
       "      <th></th>\n",
       "      <th></th>\n",
       "      <th></th>\n",
       "      <th></th>\n",
       "      <th></th>\n",
       "      <th></th>\n",
       "      <th></th>\n",
       "      <th></th>\n",
       "    </tr>\n",
       "  </thead>\n",
       "  <tbody>\n",
       "    <tr>\n",
       "      <th>2015-05-22</th>\n",
       "      <td>1388734</td>\n",
       "      <td>Mortgage</td>\n",
       "      <td>Loan servicing, payments, escrow account</td>\n",
       "      <td>VA</td>\n",
       "      <td>22204</td>\n",
       "      <td>Web</td>\n",
       "      <td>Green Tree Servicing, LLC</td>\n",
       "      <td>Closed with explanation</td>\n",
       "      <td>Yes</td>\n",
       "      <td>4</td>\n",
       "    </tr>\n",
       "    <tr>\n",
       "      <th>2015-05-22</th>\n",
       "      <td>1389303</td>\n",
       "      <td>Consumer loan</td>\n",
       "      <td>Taking out the loan or lease</td>\n",
       "      <td>MO</td>\n",
       "      <td>63304</td>\n",
       "      <td>Web</td>\n",
       "      <td>Ally Financial Inc.</td>\n",
       "      <td>In progress</td>\n",
       "      <td>Yes</td>\n",
       "      <td>4</td>\n",
       "    </tr>\n",
       "    <tr>\n",
       "      <th>2015-05-22</th>\n",
       "      <td>1389676</td>\n",
       "      <td>Consumer loan</td>\n",
       "      <td>Problems when you are unable to pay</td>\n",
       "      <td>FL</td>\n",
       "      <td>33414</td>\n",
       "      <td>Web</td>\n",
       "      <td>Ally Financial Inc.</td>\n",
       "      <td>In progress</td>\n",
       "      <td>Yes</td>\n",
       "      <td>4</td>\n",
       "    </tr>\n",
       "    <tr>\n",
       "      <th>2015-05-22</th>\n",
       "      <td>1388406</td>\n",
       "      <td>Mortgage</td>\n",
       "      <td>Loan servicing, payments, escrow account</td>\n",
       "      <td>NC</td>\n",
       "      <td>27615</td>\n",
       "      <td>Web</td>\n",
       "      <td>Navy FCU</td>\n",
       "      <td>In progress</td>\n",
       "      <td>Yes</td>\n",
       "      <td>4</td>\n",
       "    </tr>\n",
       "    <tr>\n",
       "      <th>2015-05-22</th>\n",
       "      <td>1388470</td>\n",
       "      <td>Consumer loan</td>\n",
       "      <td>Managing the loan or lease</td>\n",
       "      <td>MA</td>\n",
       "      <td>1474</td>\n",
       "      <td>Phone</td>\n",
       "      <td>Santander Bank US</td>\n",
       "      <td>In progress</td>\n",
       "      <td>Yes</td>\n",
       "      <td>4</td>\n",
       "    </tr>\n",
       "  </tbody>\n",
       "</table>\n",
       "</div>"
      ],
      "text/plain": [
       "               Complaint ID        Product  \\\n",
       "Date received                                \n",
       "2015-05-22          1388734       Mortgage   \n",
       "2015-05-22          1389303  Consumer loan   \n",
       "2015-05-22          1389676  Consumer loan   \n",
       "2015-05-22          1388406       Mortgage   \n",
       "2015-05-22          1388470  Consumer loan   \n",
       "\n",
       "                                                  Issue State  ZIP code  \\\n",
       "Date received                                                             \n",
       "2015-05-22     Loan servicing, payments, escrow account    VA     22204   \n",
       "2015-05-22                 Taking out the loan or lease    MO     63304   \n",
       "2015-05-22          Problems when you are unable to pay    FL     33414   \n",
       "2015-05-22     Loan servicing, payments, escrow account    NC     27615   \n",
       "2015-05-22                   Managing the loan or lease    MA      1474   \n",
       "\n",
       "              Submitted via                    Company  \\\n",
       "Date received                                            \n",
       "2015-05-22              Web  Green Tree Servicing, LLC   \n",
       "2015-05-22              Web        Ally Financial Inc.   \n",
       "2015-05-22              Web        Ally Financial Inc.   \n",
       "2015-05-22              Web                   Navy FCU   \n",
       "2015-05-22            Phone          Santander Bank US   \n",
       "\n",
       "                      Company response Timely response?  Day of week  \n",
       "Date received                                                         \n",
       "2015-05-22     Closed with explanation              Yes            4  \n",
       "2015-05-22                 In progress              Yes            4  \n",
       "2015-05-22                 In progress              Yes            4  \n",
       "2015-05-22                 In progress              Yes            4  \n",
       "2015-05-22                 In progress              Yes            4  "
      ]
     },
     "execution_count": 688,
     "metadata": {},
     "output_type": "execute_result"
    }
   ],
   "source": [
    "days = [\"Su\", \"M\", \"Tu\", \"W\", \"Th\", \"F\", \"Sa\"]\n",
    "complaints[\"Day of week\"] = complaints.index.to_series().map(lambda d: d.weekday())\n",
    "complaints.head()"
   ]
  },
  {
   "cell_type": "code",
   "execution_count": 689,
   "metadata": {
    "collapsed": false
   },
   "outputs": [],
   "source": [
    "sun_comps = complaints[complaints['Day of week'] == 0]\n",
    "mon_comps = complaints[complaints['Day of week'] == 1]\n",
    "tue_comps = complaints[complaints['Day of week'] == 2]\n",
    "wed_comps = complaints[complaints['Day of week'] == 3]\n",
    "thu_comps = complaints[complaints['Day of week'] == 4]\n",
    "fri_comps = complaints[complaints['Day of week'] == 5]\n",
    "sat_comps = complaints[complaints['Day of week'] == 6]"
   ]
  },
  {
   "cell_type": "code",
   "execution_count": 690,
   "metadata": {
    "collapsed": false
   },
   "outputs": [
    {
     "data": {
      "image/png": "[encoded data removed]",
      "text/plain": [
       "<matplotlib.figure.Figure at 0x136cb8748>"
      ]
     },
     "metadata": {},
     "output_type": "display_data"
    }
   ],
   "source": [
    "sun_mean = sun_comps['Complaint ID'].groupby(sun_comps.index).count().mean()\n",
    "mon_mean = mon_comps['Complaint ID'].groupby(mon_comps.index).count().mean()\n",
    "tue_mean = tue_comps['Complaint ID'].groupby(tue_comps.index).count().mean()\n",
    "wed_mean = wed_comps['Complaint ID'].groupby(wed_comps.index).count().mean()\n",
    "thu_mean = thu_comps['Complaint ID'].groupby(thu_comps.index).count().mean()\n",
    "fri_mean = fri_comps['Complaint ID'].groupby(fri_comps.index).count().mean()\n",
    "sat_mean = sat_comps['Complaint ID'].groupby(sat_comps.index).count().mean()\n",
    "means= [sun_mean, mon_mean, tue_mean, wed_mean, thu_mean, fri_mean, sat_mean]\n",
    "plt.plot(means)\n",
    "plt.xticks(range(7), ('Sunday', 'Monday', 'Tuesday', 'Wednesday', 'Thursday', 'Friday', 'Saturday'))\n",
    "plt.show()"
   ]
  },
  {
   "cell_type": "markdown",
   "metadata": {},
   "source": [
    "Here are the mean number of complaints by day of the week. Most occur during the middle of the week however there are way more on sunday than there are on friday, which is somewhat surprising."
   ]
  },
  {
   "cell_type": "markdown",
   "metadata": {},
   "source": [
    "#Hard Mode"
   ]
  },
  {
   "cell_type": "markdown",
   "metadata": {},
   "source": [
    "##Per Capita Complaints"
   ]
  },
  {
   "cell_type": "code",
   "execution_count": 691,
   "metadata": {
    "collapsed": false
   },
   "outputs": [],
   "source": [
    "state_pop = pd.read_csv(\"state_pop_data.csv\")"
   ]
  },
  {
   "cell_type": "code",
   "execution_count": 692,
   "metadata": {
    "collapsed": false
   },
   "outputs": [
    {
     "data": {
      "text/html": [
       "<div style=\"max-height:1000px;max-width:1500px;overflow:auto;\">\n",
       "<table border=\"1\" class=\"dataframe\">\n",
       "  <thead>\n",
       "    <tr style=\"text-align: right;\">\n",
       "      <th></th>\n",
       "      <th>State</th>\n",
       "      <th>Population</th>\n",
       "      <th>Percent Over 18</th>\n",
       "    </tr>\n",
       "  </thead>\n",
       "  <tbody>\n",
       "    <tr>\n",
       "      <th>0</th>\n",
       "      <td>US</td>\n",
       "      <td>245273438</td>\n",
       "      <td>76.9</td>\n",
       "    </tr>\n",
       "    <tr>\n",
       "      <th>1</th>\n",
       "      <td>AL</td>\n",
       "      <td>3741806</td>\n",
       "      <td>77.2</td>\n",
       "    </tr>\n",
       "    <tr>\n",
       "      <th>2</th>\n",
       "      <td>AK</td>\n",
       "      <td>550189</td>\n",
       "      <td>74.7</td>\n",
       "    </tr>\n",
       "    <tr>\n",
       "      <th>3</th>\n",
       "      <td>AZ</td>\n",
       "      <td>5109792</td>\n",
       "      <td>75.9</td>\n",
       "    </tr>\n",
       "    <tr>\n",
       "      <th>4</th>\n",
       "      <td>AR</td>\n",
       "      <td>2259350</td>\n",
       "      <td>76.2</td>\n",
       "    </tr>\n",
       "  </tbody>\n",
       "</table>\n",
       "</div>"
      ],
      "text/plain": [
       "  State  Population  Percent Over 18\n",
       "0    US   245273438             76.9\n",
       "1    AL     3741806             77.2\n",
       "2    AK      550189             74.7\n",
       "3    AZ     5109792             75.9\n",
       "4    AR     2259350             76.2"
      ]
     },
     "execution_count": 692,
     "metadata": {},
     "output_type": "execute_result"
    }
   ],
   "source": [
    "state_pop = state_pop[['NAME', 'POPEST18PLUS2014', 'PCNT_POPEST18PLUS']]\n",
    "state_pop.columns = ['State', 'Population', 'Percent Over 18']\n",
    "state_pop.head()"
   ]
  },
  {
   "cell_type": "code",
   "execution_count": 693,
   "metadata": {
    "collapsed": false
   },
   "outputs": [
    {
     "data": {
      "text/html": [
       "<div style=\"max-height:1000px;max-width:1500px;overflow:auto;\">\n",
       "<table border=\"1\" class=\"dataframe\">\n",
       "  <thead>\n",
       "    <tr style=\"text-align: right;\">\n",
       "      <th></th>\n",
       "      <th>Population</th>\n",
       "      <th>Percent Over 18</th>\n",
       "    </tr>\n",
       "    <tr>\n",
       "      <th>State</th>\n",
       "      <th></th>\n",
       "      <th></th>\n",
       "    </tr>\n",
       "  </thead>\n",
       "  <tbody>\n",
       "    <tr>\n",
       "      <th>US</th>\n",
       "      <td>245273438</td>\n",
       "      <td>76.9</td>\n",
       "    </tr>\n",
       "    <tr>\n",
       "      <th>AL</th>\n",
       "      <td>3741806</td>\n",
       "      <td>77.2</td>\n",
       "    </tr>\n",
       "    <tr>\n",
       "      <th>AK</th>\n",
       "      <td>550189</td>\n",
       "      <td>74.7</td>\n",
       "    </tr>\n",
       "    <tr>\n",
       "      <th>AZ</th>\n",
       "      <td>5109792</td>\n",
       "      <td>75.9</td>\n",
       "    </tr>\n",
       "    <tr>\n",
       "      <th>AR</th>\n",
       "      <td>2259350</td>\n",
       "      <td>76.2</td>\n",
       "    </tr>\n",
       "  </tbody>\n",
       "</table>\n",
       "</div>"
      ],
      "text/plain": [
       "       Population  Percent Over 18\n",
       "State                             \n",
       "US      245273438             76.9\n",
       "AL        3741806             77.2\n",
       "AK         550189             74.7\n",
       "AZ        5109792             75.9\n",
       "AR        2259350             76.2"
      ]
     },
     "execution_count": 693,
     "metadata": {},
     "output_type": "execute_result"
    }
   ],
   "source": [
    "state_pop.index = state_pop.pop('State')\n",
    "state_pop.head()"
   ]
  },
  {
   "cell_type": "code",
   "execution_count": 694,
   "metadata": {
    "collapsed": false,
    "scrolled": true
   },
   "outputs": [],
   "source": [
    "comps_by_state = complaints.groupby(complaints['State']).count()"
   ]
  },
  {
   "cell_type": "code",
   "execution_count": 695,
   "metadata": {
    "collapsed": false,
    "scrolled": true
   },
   "outputs": [
    {
     "data": {
      "text/html": [
       "<div style=\"max-height:1000px;max-width:1500px;overflow:auto;\">\n",
       "<table border=\"1\" class=\"dataframe\">\n",
       "  <thead>\n",
       "    <tr style=\"text-align: right;\">\n",
       "      <th></th>\n",
       "      <th>Complaints</th>\n",
       "      <th>ZIP</th>\n",
       "    </tr>\n",
       "    <tr>\n",
       "      <th>State</th>\n",
       "      <th></th>\n",
       "      <th></th>\n",
       "    </tr>\n",
       "  </thead>\n",
       "  <tbody>\n",
       "    <tr>\n",
       "      <th>VT</th>\n",
       "      <td>705</td>\n",
       "      <td>703</td>\n",
       "    </tr>\n",
       "    <tr>\n",
       "      <th>WA</th>\n",
       "      <td>8064</td>\n",
       "      <td>8055</td>\n",
       "    </tr>\n",
       "    <tr>\n",
       "      <th>WI</th>\n",
       "      <td>4473</td>\n",
       "      <td>4468</td>\n",
       "    </tr>\n",
       "    <tr>\n",
       "      <th>WV</th>\n",
       "      <td>997</td>\n",
       "      <td>996</td>\n",
       "    </tr>\n",
       "    <tr>\n",
       "      <th>WY</th>\n",
       "      <td>403</td>\n",
       "      <td>347</td>\n",
       "    </tr>\n",
       "  </tbody>\n",
       "</table>\n",
       "</div>"
      ],
      "text/plain": [
       "       Complaints   ZIP\n",
       "State                  \n",
       "VT            705   703\n",
       "WA           8064  8055\n",
       "WI           4473  4468\n",
       "WV            997   996\n",
       "WY            403   347"
      ]
     },
     "execution_count": 695,
     "metadata": {},
     "output_type": "execute_result"
    }
   ],
   "source": [
    "comps_by_state = comps_by_state[['Complaint ID', 'ZIP code']]\n",
    "comps_by_state.columns = ['Complaints', 'ZIP']\n",
    "comps_by_state.tail()"
   ]
  },
  {
   "cell_type": "code",
   "execution_count": 696,
   "metadata": {
    "collapsed": false,
    "scrolled": true
   },
   "outputs": [
    {
     "data": {
      "text/html": [
       "<div style=\"max-height:1000px;max-width:1500px;overflow:auto;\">\n",
       "<table border=\"1\" class=\"dataframe\">\n",
       "  <thead>\n",
       "    <tr style=\"text-align: right;\">\n",
       "      <th></th>\n",
       "      <th>Population</th>\n",
       "      <th>Complaints</th>\n",
       "    </tr>\n",
       "  </thead>\n",
       "  <tbody>\n",
       "    <tr>\n",
       "      <th>AA</th>\n",
       "      <td>NaN</td>\n",
       "      <td>10</td>\n",
       "    </tr>\n",
       "    <tr>\n",
       "      <th>AE</th>\n",
       "      <td>NaN</td>\n",
       "      <td>147</td>\n",
       "    </tr>\n",
       "    <tr>\n",
       "      <th>AK</th>\n",
       "      <td>550189</td>\n",
       "      <td>478</td>\n",
       "    </tr>\n",
       "    <tr>\n",
       "      <th>AL</th>\n",
       "      <td>3741806</td>\n",
       "      <td>3842</td>\n",
       "    </tr>\n",
       "    <tr>\n",
       "      <th>AP</th>\n",
       "      <td>NaN</td>\n",
       "      <td>113</td>\n",
       "    </tr>\n",
       "  </tbody>\n",
       "</table>\n",
       "</div>"
      ],
      "text/plain": [
       "    Population  Complaints\n",
       "AA         NaN          10\n",
       "AE         NaN         147\n",
       "AK      550189         478\n",
       "AL     3741806        3842\n",
       "AP         NaN         113"
      ]
     },
     "execution_count": 696,
     "metadata": {},
     "output_type": "execute_result"
    }
   ],
   "source": [
    "new_data = pd.concat([state_pop, comps_by_state], axis='index')\n",
    "new_data.pop(\"ZIP\")\n",
    "new_data.pop(\"Percent Over 18\")\n",
    "new_data.head()"
   ]
  },
  {
   "cell_type": "code",
   "execution_count": 697,
   "metadata": {
    "collapsed": false
   },
   "outputs": [
    {
     "data": {
      "text/html": [
       "<div style=\"max-height:1000px;max-width:1500px;overflow:auto;\">\n",
       "<table border=\"1\" class=\"dataframe\">\n",
       "  <thead>\n",
       "    <tr style=\"text-align: right;\">\n",
       "      <th></th>\n",
       "      <th>Population</th>\n",
       "      <th>Complaints</th>\n",
       "    </tr>\n",
       "  </thead>\n",
       "  <tbody>\n",
       "    <tr>\n",
       "      <th>VT</th>\n",
       "      <td>504976</td>\n",
       "      <td>705</td>\n",
       "    </tr>\n",
       "    <tr>\n",
       "      <th>WA</th>\n",
       "      <td>5458809</td>\n",
       "      <td>8064</td>\n",
       "    </tr>\n",
       "    <tr>\n",
       "      <th>WI</th>\n",
       "      <td>4457375</td>\n",
       "      <td>4473</td>\n",
       "    </tr>\n",
       "    <tr>\n",
       "      <th>WV</th>\n",
       "      <td>1470179</td>\n",
       "      <td>997</td>\n",
       "    </tr>\n",
       "    <tr>\n",
       "      <th>WY</th>\n",
       "      <td>445830</td>\n",
       "      <td>403</td>\n",
       "    </tr>\n",
       "  </tbody>\n",
       "</table>\n",
       "</div>"
      ],
      "text/plain": [
       "    Population  Complaints\n",
       "VT      504976         705\n",
       "WA     5458809        8064\n",
       "WI     4457375        4473\n",
       "WV     1470179         997\n",
       "WY      445830         403"
      ]
     },
     "execution_count": 697,
     "metadata": {},
     "output_type": "execute_result"
    }
   ],
   "source": [
    "new_data.tail()"
   ]
  },
  {
   "cell_type": "code",
   "execution_count": 698,
   "metadata": {
    "collapsed": false
   },
   "outputs": [],
   "source": [
    "def find_per_capita(pop, comp):\n",
    "    return ((comp / pop) * 100).round(5)"
   ]
  },
  {
   "cell_type": "code",
   "execution_count": 699,
   "metadata": {
    "collapsed": false
   },
   "outputs": [
    {
     "data": {
      "text/html": [
       "<div style=\"max-height:1000px;max-width:1500px;overflow:auto;\">\n",
       "<table border=\"1\" class=\"dataframe\">\n",
       "  <thead>\n",
       "    <tr style=\"text-align: right;\">\n",
       "      <th></th>\n",
       "      <th>Per_capita_complaints</th>\n",
       "    </tr>\n",
       "  </thead>\n",
       "  <tbody>\n",
       "    <tr>\n",
       "      <th>AA</th>\n",
       "      <td>NaN</td>\n",
       "    </tr>\n",
       "    <tr>\n",
       "      <th>AE</th>\n",
       "      <td>NaN</td>\n",
       "    </tr>\n",
       "    <tr>\n",
       "      <th>AK</th>\n",
       "      <td>0.08688</td>\n",
       "    </tr>\n",
       "    <tr>\n",
       "      <th>AL</th>\n",
       "      <td>0.10268</td>\n",
       "    </tr>\n",
       "    <tr>\n",
       "      <th>AP</th>\n",
       "      <td>NaN</td>\n",
       "    </tr>\n",
       "    <tr>\n",
       "      <th>AR</th>\n",
       "      <td>0.07392</td>\n",
       "    </tr>\n",
       "    <tr>\n",
       "      <th>AS</th>\n",
       "      <td>NaN</td>\n",
       "    </tr>\n",
       "    <tr>\n",
       "      <th>AZ</th>\n",
       "      <td>0.16983</td>\n",
       "    </tr>\n",
       "    <tr>\n",
       "      <th>CA</th>\n",
       "      <td>0.19765</td>\n",
       "    </tr>\n",
       "    <tr>\n",
       "      <th>CO</th>\n",
       "      <td>0.16528</td>\n",
       "    </tr>\n",
       "  </tbody>\n",
       "</table>\n",
       "</div>"
      ],
      "text/plain": [
       "    Per_capita_complaints\n",
       "AA                    NaN\n",
       "AE                    NaN\n",
       "AK                0.08688\n",
       "AL                0.10268\n",
       "AP                    NaN\n",
       "AR                0.07392\n",
       "AS                    NaN\n",
       "AZ                0.16983\n",
       "CA                0.19765\n",
       "CO                0.16528"
      ]
     },
     "execution_count": 699,
     "metadata": {},
     "output_type": "execute_result"
    }
   ],
   "source": [
    "new_data[\"Per_capita_complaints\"] = find_per_capita(new_data.pop('Population'), new_data.pop('Complaints'))\n",
    "new_data.head(10)"
   ]
  },
  {
   "cell_type": "markdown",
   "metadata": {},
   "source": [
    "##Outliers"
   ]
  },
  {
   "cell_type": "code",
   "execution_count": 700,
   "metadata": {
    "collapsed": false
   },
   "outputs": [],
   "source": [
    "comps_by_ZIP = complaints.groupby(complaints['ZIP code']).count()"
   ]
  },
  {
   "cell_type": "code",
   "execution_count": 701,
   "metadata": {
    "collapsed": false,
    "scrolled": true
   },
   "outputs": [],
   "source": [
    "comps_by_ZIP = comps_by_ZIP[['Complaint ID', 'Company']]\n",
    "comps_by_ZIP.columns=['Complaints', 'Comp']\n",
    "new_comps_by_ZIP = comps_by_ZIP[comps_by_ZIP['Complaints'] > 2].sort(\"Complaints\")"
   ]
  },
  {
   "cell_type": "code",
   "execution_count": 702,
   "metadata": {
    "collapsed": false
   },
   "outputs": [
    {
     "data": {
      "text/plain": [
       "(Complaints    23.855653\n",
       " Comp          23.855653\n",
       " dtype: float64, Complaints    13\n",
       " Comp          13\n",
       " dtype: float64, Complaints    29.351626\n",
       " Comp          29.351626\n",
       " dtype: float64)"
      ]
     },
     "execution_count": 702,
     "metadata": {},
     "output_type": "execute_result"
    }
   ],
   "source": [
    "mean = new_comps_by_ZIP.mean()\n",
    "median = new_comps_by_ZIP.median()\n",
    "st_dev = new_comps_by_ZIP.std()\n",
    "mean, median, st_dev"
   ]
  },
  {
   "cell_type": "code",
   "execution_count": 703,
   "metadata": {
    "collapsed": false
   },
   "outputs": [
    {
     "data": {
      "text/plain": [
       "(Complaints    53.207278\n",
       " Comp          53.207278\n",
       " dtype: float64, Complaints    82.558904\n",
       " Comp          82.558904\n",
       " dtype: float64)"
      ]
     },
     "execution_count": 703,
     "metadata": {},
     "output_type": "execute_result"
    }
   ],
   "source": [
    "one_stdv = mean + st_dev\n",
    "two_stdv = mean + (2*st_dev)\n",
    "one_stdv, two_stdv"
   ]
  },
  {
   "cell_type": "code",
   "execution_count": 704,
   "metadata": {
    "collapsed": false,
    "scrolled": true
   },
   "outputs": [
    {
     "data": {
      "text/html": [
       "<div style=\"max-height:1000px;max-width:1500px;overflow:auto;\">\n",
       "<table border=\"1\" class=\"dataframe\">\n",
       "  <thead>\n",
       "    <tr style=\"text-align: right;\">\n",
       "      <th></th>\n",
       "      <th>Complaints</th>\n",
       "      <th>Comp</th>\n",
       "    </tr>\n",
       "    <tr>\n",
       "      <th>ZIP code</th>\n",
       "      <th></th>\n",
       "      <th></th>\n",
       "    </tr>\n",
       "  </thead>\n",
       "  <tbody>\n",
       "    <tr>\n",
       "      <th>48382</th>\n",
       "      <td>916</td>\n",
       "      <td>916</td>\n",
       "    </tr>\n",
       "    <tr>\n",
       "      <th>33071</th>\n",
       "      <td>617</td>\n",
       "      <td>617</td>\n",
       "    </tr>\n",
       "    <tr>\n",
       "      <th>76116</th>\n",
       "      <td>368</td>\n",
       "      <td>368</td>\n",
       "    </tr>\n",
       "    <tr>\n",
       "      <th>33173</th>\n",
       "      <td>364</td>\n",
       "      <td>364</td>\n",
       "    </tr>\n",
       "    <tr>\n",
       "      <th>20744</th>\n",
       "      <td>296</td>\n",
       "      <td>296</td>\n",
       "    </tr>\n",
       "  </tbody>\n",
       "</table>\n",
       "</div>"
      ],
      "text/plain": [
       "          Complaints  Comp\n",
       "ZIP code                  \n",
       "48382            916   916\n",
       "33071            617   617\n",
       "76116            368   368\n",
       "33173            364   364\n",
       "20744            296   296"
      ]
     },
     "execution_count": 704,
     "metadata": {},
     "output_type": "execute_result"
    }
   ],
   "source": [
    "comps_by_ZIP[comps_by_ZIP['Complaints'] > 41].sort(\"Complaints\")[::-1].head()"
   ]
  },
  {
   "cell_type": "markdown",
   "metadata": {},
   "source": [
    "48382 and 33071 are way above the other ZIP codes, those areas are Commerce Township, Michigan and Coral Springs, FL. Coral Springs is really close to Fort Lauderdale, so that makes sense. But Commerce Township is a suburb of Detroit...not sure why that one has so many complaints."
   ]
  },
  {
   "cell_type": "markdown",
   "metadata": {},
   "source": [
    "##Nightmare Mode"
   ]
  },
  {
   "cell_type": "code",
   "execution_count": 705,
   "metadata": {
    "collapsed": false
   },
   "outputs": [
    {
     "data": {
      "text/html": [
       "\n",
       "           <script>\n",
       "               \n",
       "                function vct_load_lib(url, callback){\n",
       "                      if(typeof d3 !== 'undefined' &&\n",
       "                         url === 'http://d3js.org/d3.v3.min.js'){\n",
       "                        callback()\n",
       "                      }\n",
       "                      var s = document.createElement('script');\n",
       "                      s.src = url;\n",
       "                      s.async = true;\n",
       "                      s.onreadystatechange = s.onload = callback;\n",
       "                      s.onerror = function(){\n",
       "                        console.warn(\"failed to load library \" + url);\n",
       "                        };\n",
       "                      document.getElementsByTagName(\"head\")[0].appendChild(s);\n",
       "                };\n",
       "                var vincent_event = new CustomEvent(\n",
       "                  \"vincent_libs_loaded\",\n",
       "                  {bubbles: true, cancelable: true}\n",
       "                );\n",
       "                \n",
       "               function load_all_libs(){\n",
       "                  console.log('Loading Vincent libs...')\n",
       "                  vct_load_lib('http://d3js.org/d3.v3.min.js', function(){\n",
       "                  vct_load_lib('http://d3js.org/d3.geo.projection.v0.min.js', function(){\n",
       "                  vct_load_lib('http://wrobstory.github.io/d3-cloud/d3.layout.cloud.js', function(){\n",
       "                  vct_load_lib('http://wrobstory.github.io/vega/vega.v1.3.3.js', function(){\n",
       "                  window.dispatchEvent(vincent_event);\n",
       "                  });\n",
       "                  });\n",
       "                  });\n",
       "                  });\n",
       "               };\n",
       "               if(typeof define === \"function\" && define.amd){\n",
       "                    if (window['d3'] === undefined ||\n",
       "                        window['topojson'] === undefined){\n",
       "                        require.config(\n",
       "                            {paths: {\n",
       "                              d3: 'http://d3js.org/d3.v3.min',\n",
       "                              topojson: 'http://d3js.org/topojson.v1.min'\n",
       "                              }\n",
       "                            }\n",
       "                          );\n",
       "                        require([\"d3\"], function(d3){\n",
       "                            console.log('Loading Vincent from require.js...')\n",
       "                            window.d3 = d3;\n",
       "                            require([\"topojson\"], function(topojson){\n",
       "                                window.topojson = topojson;\n",
       "                                load_all_libs();\n",
       "                            });\n",
       "                        });\n",
       "                    } else {\n",
       "                        load_all_libs();\n",
       "                    };\n",
       "               }else{\n",
       "                    console.log('Require.js not found, loading manually...')\n",
       "                    load_all_libs();\n",
       "               };\n",
       "\n",
       "           </script>"
      ],
      "text/plain": [
       "<IPython.core.display.HTML object>"
      ]
     },
     "metadata": {},
     "output_type": "display_data"
    }
   ],
   "source": [
    "import vincent\n",
    "vincent.core.initialize_notebook()"
   ]
  },
  {
   "cell_type": "code",
   "execution_count": 706,
   "metadata": {
    "collapsed": false
   },
   "outputs": [
    {
     "data": {
      "text/html": [
       "<div style=\"max-height:1000px;max-width:1500px;overflow:auto;\">\n",
       "<table border=\"1\" class=\"dataframe\">\n",
       "  <thead>\n",
       "    <tr style=\"text-align: right;\">\n",
       "      <th></th>\n",
       "      <th>NAME</th>\n",
       "    </tr>\n",
       "  </thead>\n",
       "  <tbody>\n",
       "    <tr>\n",
       "      <th>0</th>\n",
       "      <td>AZ</td>\n",
       "    </tr>\n",
       "    <tr>\n",
       "      <th>1</th>\n",
       "      <td>AR</td>\n",
       "    </tr>\n",
       "    <tr>\n",
       "      <th>2</th>\n",
       "      <td>CA</td>\n",
       "    </tr>\n",
       "    <tr>\n",
       "      <th>3</th>\n",
       "      <td>CO</td>\n",
       "    </tr>\n",
       "    <tr>\n",
       "      <th>4</th>\n",
       "      <td>CT</td>\n",
       "    </tr>\n",
       "  </tbody>\n",
       "</table>\n",
       "</div>"
      ],
      "text/plain": [
       "  NAME\n",
       "0   AZ\n",
       "1   AR\n",
       "2   CA\n",
       "3   CO\n",
       "4   CT"
      ]
     },
     "execution_count": 706,
     "metadata": {},
     "output_type": "execute_result"
    }
   ],
   "source": [
    "import json\n",
    "#Map the state names we have in our geometry to those in the\n",
    "#per_capita dataframe, which has additional rows that aren't needed\n",
    "with open('us_states.topo2.json', 'r') as f:\n",
    "    get_id = json.load(f)\n",
    "\n",
    "new_geoms = []\n",
    "for geom in get_id['objects']['us_states.geo']['geometries']:\n",
    "    geom['properties']['NAME']\n",
    "    new_geoms.append(geom)\n",
    "\n",
    "get_id['objects']['us_states.geo']['geometries'] = new_geoms\n",
    "\n",
    "with open('us_states.topo2.json', 'w') as f:\n",
    "    json.dump(get_id, f)\n",
    "\n",
    "#get the state names and load them into a dataframe\n",
    "geometries = get_id['objects']['us_states.geo']['geometries']\n",
    "state_codes = [x['properties']['NAME'] for x in geometries]\n",
    "state_df = pd.DataFrame({'NAME': state_codes}, dtype=str)\n",
    "state_df = state_df.astype(str)\n",
    "\n",
    "#Read into Dataframe, cast to string for consistency\n",
    "df = new_data\n",
    "new_data.index = new_data.index.astype(str)\n",
    "\n",
    "state_df.head()"
   ]
  },
  {
   "cell_type": "code",
   "execution_count": 707,
   "metadata": {
    "collapsed": false,
    "scrolled": true
   },
   "outputs": [
    {
     "data": {
      "text/html": [
       "<div style=\"max-height:1000px;max-width:1500px;overflow:auto;\">\n",
       "<table border=\"1\" class=\"dataframe\">\n",
       "  <thead>\n",
       "    <tr style=\"text-align: right;\">\n",
       "      <th></th>\n",
       "      <th>Per_capita_complaints</th>\n",
       "    </tr>\n",
       "  </thead>\n",
       "  <tbody>\n",
       "    <tr>\n",
       "      <th>AA</th>\n",
       "      <td>NaN</td>\n",
       "    </tr>\n",
       "    <tr>\n",
       "      <th>AE</th>\n",
       "      <td>NaN</td>\n",
       "    </tr>\n",
       "    <tr>\n",
       "      <th>AK</th>\n",
       "      <td>0.08688</td>\n",
       "    </tr>\n",
       "    <tr>\n",
       "      <th>AL</th>\n",
       "      <td>0.10268</td>\n",
       "    </tr>\n",
       "    <tr>\n",
       "      <th>AP</th>\n",
       "      <td>NaN</td>\n",
       "    </tr>\n",
       "  </tbody>\n",
       "</table>\n",
       "</div>"
      ],
      "text/plain": [
       "    Per_capita_complaints\n",
       "AA                    NaN\n",
       "AE                    NaN\n",
       "AK                0.08688\n",
       "AL                0.10268\n",
       "AP                    NaN"
      ]
     },
     "execution_count": 707,
     "metadata": {},
     "output_type": "execute_result"
    }
   ],
   "source": [
    "new_data.head()"
   ]
  },
  {
   "cell_type": "code",
   "execution_count": 708,
   "metadata": {
    "collapsed": false
   },
   "outputs": [],
   "source": [
    "new_data.insert(1, 'idx', range(63))"
   ]
  },
  {
   "cell_type": "code",
   "execution_count": 709,
   "metadata": {
    "collapsed": false
   },
   "outputs": [],
   "source": [
    "new_data[\"NAME\"] = new_data.index\n",
    "new_data.index = new_data.pop('idx')"
   ]
  },
  {
   "cell_type": "code",
   "execution_count": 710,
   "metadata": {
    "collapsed": false
   },
   "outputs": [
    {
     "data": {
      "text/html": [
       "<div style=\"max-height:1000px;max-width:1500px;overflow:auto;\">\n",
       "<table border=\"1\" class=\"dataframe\">\n",
       "  <thead>\n",
       "    <tr style=\"text-align: right;\">\n",
       "      <th></th>\n",
       "      <th>Per_capita_complaints</th>\n",
       "      <th>NAME</th>\n",
       "    </tr>\n",
       "    <tr>\n",
       "      <th>idx</th>\n",
       "      <th></th>\n",
       "      <th></th>\n",
       "    </tr>\n",
       "  </thead>\n",
       "  <tbody>\n",
       "    <tr>\n",
       "      <th>0</th>\n",
       "      <td>NaN</td>\n",
       "      <td>AA</td>\n",
       "    </tr>\n",
       "    <tr>\n",
       "      <th>1</th>\n",
       "      <td>NaN</td>\n",
       "      <td>AE</td>\n",
       "    </tr>\n",
       "    <tr>\n",
       "      <th>2</th>\n",
       "      <td>0.08688</td>\n",
       "      <td>AK</td>\n",
       "    </tr>\n",
       "    <tr>\n",
       "      <th>3</th>\n",
       "      <td>0.10268</td>\n",
       "      <td>AL</td>\n",
       "    </tr>\n",
       "    <tr>\n",
       "      <th>4</th>\n",
       "      <td>NaN</td>\n",
       "      <td>AP</td>\n",
       "    </tr>\n",
       "  </tbody>\n",
       "</table>\n",
       "</div>"
      ],
      "text/plain": [
       "     Per_capita_complaints NAME\n",
       "idx                            \n",
       "0                      NaN   AA\n",
       "1                      NaN   AE\n",
       "2                  0.08688   AK\n",
       "3                  0.10268   AL\n",
       "4                      NaN   AP"
      ]
     },
     "execution_count": 710,
     "metadata": {},
     "output_type": "execute_result"
    }
   ],
   "source": [
    "new_data.reindex_axis(sorted(new_data.columns), axis=1)\n",
    "new_data.head()"
   ]
  },
  {
   "cell_type": "code",
   "execution_count": 711,
   "metadata": {
    "collapsed": false
   },
   "outputs": [],
   "source": [
    "#Perform an inner join, pad NA's with data from nearest state\n",
    "merged = pd.merge(df, state_df, on=\"NAME\", how='inner')\n",
    "merged = merged.fillna(method='pad')"
   ]
  },
  {
   "cell_type": "code",
   "execution_count": 712,
   "metadata": {
    "collapsed": false
   },
   "outputs": [
    {
     "data": {
      "text/html": [
       "<div style=\"max-height:1000px;max-width:1500px;overflow:auto;\">\n",
       "<table border=\"1\" class=\"dataframe\">\n",
       "  <thead>\n",
       "    <tr style=\"text-align: right;\">\n",
       "      <th></th>\n",
       "      <th>Per_capita_complaints</th>\n",
       "      <th>NAME</th>\n",
       "    </tr>\n",
       "  </thead>\n",
       "  <tbody>\n",
       "    <tr>\n",
       "      <th>0</th>\n",
       "      <td>0.08688</td>\n",
       "      <td>AK</td>\n",
       "    </tr>\n",
       "    <tr>\n",
       "      <th>1</th>\n",
       "      <td>0.10268</td>\n",
       "      <td>AL</td>\n",
       "    </tr>\n",
       "    <tr>\n",
       "      <th>2</th>\n",
       "      <td>0.07392</td>\n",
       "      <td>AR</td>\n",
       "    </tr>\n",
       "    <tr>\n",
       "      <th>3</th>\n",
       "      <td>0.16983</td>\n",
       "      <td>AZ</td>\n",
       "    </tr>\n",
       "    <tr>\n",
       "      <th>4</th>\n",
       "      <td>0.19765</td>\n",
       "      <td>CA</td>\n",
       "    </tr>\n",
       "  </tbody>\n",
       "</table>\n",
       "</div>"
      ],
      "text/plain": [
       "   Per_capita_complaints NAME\n",
       "0                0.08688   AK\n",
       "1                0.10268   AL\n",
       "2                0.07392   AR\n",
       "3                0.16983   AZ\n",
       "4                0.19765   CA"
      ]
     },
     "execution_count": 712,
     "metadata": {},
     "output_type": "execute_result"
    }
   ],
   "source": [
    "merged.head()"
   ]
  },
  {
   "cell_type": "code",
   "execution_count": 713,
   "metadata": {
    "collapsed": false
   },
   "outputs": [
    {
     "data": {
      "text/html": [
       "<div style=\"max-height:1000px;max-width:1500px;overflow:auto;\">\n",
       "<table border=\"1\" class=\"dataframe\">\n",
       "  <thead>\n",
       "    <tr style=\"text-align: right;\">\n",
       "      <th></th>\n",
       "      <th>NAME</th>\n",
       "      <th>Per_capita_complaints</th>\n",
       "    </tr>\n",
       "  </thead>\n",
       "  <tbody>\n",
       "    <tr>\n",
       "      <th>0</th>\n",
       "      <td>AK</td>\n",
       "      <td>0.08688</td>\n",
       "    </tr>\n",
       "    <tr>\n",
       "      <th>1</th>\n",
       "      <td>AL</td>\n",
       "      <td>0.10268</td>\n",
       "    </tr>\n",
       "    <tr>\n",
       "      <th>2</th>\n",
       "      <td>AR</td>\n",
       "      <td>0.07392</td>\n",
       "    </tr>\n",
       "    <tr>\n",
       "      <th>3</th>\n",
       "      <td>AZ</td>\n",
       "      <td>0.16983</td>\n",
       "    </tr>\n",
       "    <tr>\n",
       "      <th>4</th>\n",
       "      <td>CA</td>\n",
       "      <td>0.19765</td>\n",
       "    </tr>\n",
       "  </tbody>\n",
       "</table>\n",
       "</div>"
      ],
      "text/plain": [
       "  NAME  Per_capita_complaints\n",
       "0   AK                0.08688\n",
       "1   AL                0.10268\n",
       "2   AR                0.07392\n",
       "3   AZ                0.16983\n",
       "4   CA                0.19765"
      ]
     },
     "execution_count": 713,
     "metadata": {},
     "output_type": "execute_result"
    }
   ],
   "source": [
    "cols = list(merged)\n",
    "cols.insert(0, cols.pop(cols.index('NAME')))\n",
    "merged = merged.ix[:, cols]\n",
    "merged.head()"
   ]
  },
  {
   "cell_type": "code",
   "execution_count": 720,
   "metadata": {
    "collapsed": false
   },
   "outputs": [
    {
     "data": {
      "text/html": [
       "<div id=\"vis7bac81b40a66472990a934530c2980d0\"></div>\n",
       "<script>\n",
       "   ( function() {\n",
       "     var _do_plot = function() {\n",
       "       if (typeof vg === 'undefined') {\n",
       "         window.addEventListener('vincent_libs_loaded', _do_plot)\n",
       "         return;\n",
       "       }\n",
       "       vg.parse.spec({\"axes\": [], \"data\": [{\"name\": \"table\", \"values\": [{\"x\": \"AK\", \"y\": 0.08688}, {\"x\": \"AL\", \"y\": 0.10268}, {\"x\": \"AR\", \"y\": 0.07392}, {\"x\": \"AZ\", \"y\": 0.16983}, {\"x\": \"CA\", \"y\": 0.19765}, {\"x\": \"CO\", \"y\": 0.16528}, {\"x\": \"CT\", \"y\": 0.16865}, {\"x\": \"DC\", \"y\": 0.42311}, {\"x\": \"DE\", \"y\": 0.28782}, {\"x\": \"FL\", \"y\": 0.24014}, {\"x\": \"GA\", \"y\": 0.22468}, {\"x\": \"HI\", \"y\": 0.12906}, {\"x\": \"IA\", \"y\": 0.06761}, {\"x\": \"ID\", \"y\": 0.10869}, {\"x\": \"IL\", \"y\": 0.13959}, {\"x\": \"IN\", \"y\": 0.08556}, {\"x\": \"KS\", \"y\": 0.08742}, {\"x\": \"KY\", \"y\": 0.08154}, {\"x\": \"LA\", \"y\": 0.10426}, {\"x\": \"MA\", \"y\": 0.1507}, {\"x\": \"MD\", \"y\": 0.27498}, {\"x\": \"ME\", \"y\": 0.13089}, {\"x\": \"MI\", \"y\": 0.14024}, {\"x\": \"MN\", \"y\": 0.10938}, {\"x\": \"MO\", \"y\": 0.11139}, {\"x\": \"MS\", \"y\": 0.07756}, {\"x\": \"MT\", \"y\": 0.08202}, {\"x\": \"NC\", \"y\": 0.14199}, {\"x\": \"ND\", \"y\": 0.05675}, {\"x\": \"NE\", \"y\": 0.0887}, {\"x\": \"NH\", \"y\": 0.20761}, {\"x\": \"NJ\", \"y\": 0.23264}, {\"x\": \"NM\", \"y\": 0.12042}, {\"x\": \"NV\", \"y\": 0.20948}, {\"x\": \"NY\", \"y\": 0.17422}, {\"x\": \"OH\", \"y\": 0.1376}, {\"x\": \"OK\", \"y\": 0.08765}, {\"x\": \"OR\", \"y\": 0.1498}, {\"x\": \"PA\", \"y\": 0.14067}, {\"x\": \"PR\", \"y\": 0.02994}, {\"x\": \"RI\", \"y\": 0.16941}, {\"x\": \"SC\", \"y\": 0.12688}, {\"x\": \"SD\", \"y\": 0.08448}, {\"x\": \"TN\", \"y\": 0.11454}, {\"x\": \"TX\", \"y\": 0.14497}, {\"x\": \"UT\", \"y\": 0.10232}, {\"x\": \"VA\", \"y\": 0.19724}, {\"x\": \"VT\", \"y\": 0.13961}, {\"x\": \"WA\", \"y\": 0.14772}, {\"x\": \"WI\", \"y\": 0.10035}, {\"x\": \"WV\", \"y\": 0.06781}, {\"x\": \"WY\", \"y\": 0.09039}]}, {\"format\": {\"feature\": \"us_states.geo\", \"type\": \"topojson\"}, \"name\": \"states\", \"transform\": [{\"as\": \"value\", \"default\": \"noval\", \"key\": \"data.properties.NAME\", \"type\": \"zip\", \"with\": \"table\", \"withKey\": \"data.x\"}, {\"test\": \"d.path!='noval' && d.value!='noval'\", \"type\": \"filter\"}, {\"projection\": \"albersUsa\", \"scale\": 900, \"translate\": [480.0, 250.0], \"type\": \"geopath\", \"value\": \"data\"}], \"url\": \"us_states.topo2.json\"}], \"height\": 500, \"legends\": [{\"fill\": \"color\", \"offset\": 0, \"properties\": {}, \"title\": \"Complaints Per Capita\"}], \"marks\": [{\"from\": {\"data\": \"states\"}, \"properties\": {\"enter\": {\"path\": {\"field\": \"path\"}, \"stroke\": {\"value\": \"#000000\"}}, \"update\": {\"fill\": {\"field\": \"value.data.y\", \"scale\": \"color\"}}}, \"type\": \"path\"}], \"padding\": \"auto\", \"scales\": [{\"domain\": [0.0, 0.04, 0.08, 0.12, 0.16, 0.2, 0.24, 0.28], \"name\": \"color\", \"range\": [\"#ffffd9\", \"#edf8b1\", \"#c7e9b4\", \"#7fcdbb\", \"#41b6c4\", \"#1d91c0\", \"#225ea8\", \"#253494\", \"#081d58\"], \"type\": \"threshold\"}], \"width\": 960}, function(chart) {\n",
       "         chart({el: \"#vis7bac81b40a66472990a934530c2980d0\"}).update();\n",
       "       });\n",
       "     };\n",
       "     _do_plot();\n",
       "   })();\n",
       "</script>\n",
       "<style>.vega canvas {width: 100%;}</style>\n",
       "        "
      ],
      "text/plain": [
       "<vincent.charts.Map at 0x1329b5668>"
      ]
     },
     "execution_count": 720,
     "metadata": {},
     "output_type": "execute_result"
    }
   ],
   "source": [
    "geo_data2 = [{'name': 'states',\n",
    "             'url': state_topo,\n",
    "             'feature': 'us_states.geo'}]\n",
    "vis2 = vincent.Map(data=merged, geo_data=geo_data2, scale=900,\n",
    "                  projection='albersUsa', data_bind='Per_capita_complaints', data_key='NAME',\n",
    "                  map_key={'states': 'properties.NAME'}, brew='YlGnBu')\n",
    "#Custom threshold scale\n",
    "vis2.scales[0].type='threshold'\n",
    "vis2.scales[0].domain = [0.0, 0.04, 0.08, 0.12, 0.16, 0.2, 0.24, 0.28]\n",
    "vis2.legend(title='Complaints Per Capita')\n",
    "vis2"
   ]
  },
  {
   "cell_type": "code",
   "execution_count": 721,
   "metadata": {
    "collapsed": false
   },
   "outputs": [
    {
     "data": {
      "text/html": [
       "<div id=\"vis8c5e9b1b1f69462d97e2305fc684337b\"></div>\n",
       "<script>\n",
       "   ( function() {\n",
       "     var _do_plot = function() {\n",
       "       if (typeof vg === 'undefined') {\n",
       "         window.addEventListener('vincent_libs_loaded', _do_plot)\n",
       "         return;\n",
       "       }\n",
       "       vg.parse.spec({\"axes\": [], \"data\": [{\"name\": \"table\", \"values\": [{\"x\": \"AK\", \"y\": 0.08688}, {\"x\": \"AL\", \"y\": 0.10268}, {\"x\": \"AR\", \"y\": 0.07392}, {\"x\": \"AZ\", \"y\": 0.16983}, {\"x\": \"CA\", \"y\": 0.19765}, {\"x\": \"CO\", \"y\": 0.16528}, {\"x\": \"CT\", \"y\": 0.16865}, {\"x\": \"DC\", \"y\": 0.42311}, {\"x\": \"DE\", \"y\": 0.28782}, {\"x\": \"FL\", \"y\": 0.24014}, {\"x\": \"GA\", \"y\": 0.22468}, {\"x\": \"HI\", \"y\": 0.12906}, {\"x\": \"IA\", \"y\": 0.06761}, {\"x\": \"ID\", \"y\": 0.10869}, {\"x\": \"IL\", \"y\": 0.13959}, {\"x\": \"IN\", \"y\": 0.08556}, {\"x\": \"KS\", \"y\": 0.08742}, {\"x\": \"KY\", \"y\": 0.08154}, {\"x\": \"LA\", \"y\": 0.10426}, {\"x\": \"MA\", \"y\": 0.1507}, {\"x\": \"MD\", \"y\": 0.27498}, {\"x\": \"ME\", \"y\": 0.13089}, {\"x\": \"MI\", \"y\": 0.14024}, {\"x\": \"MN\", \"y\": 0.10938}, {\"x\": \"MO\", \"y\": 0.11139}, {\"x\": \"MS\", \"y\": 0.07756}, {\"x\": \"MT\", \"y\": 0.08202}, {\"x\": \"NC\", \"y\": 0.14199}, {\"x\": \"ND\", \"y\": 0.05675}, {\"x\": \"NE\", \"y\": 0.0887}, {\"x\": \"NH\", \"y\": 0.20761}, {\"x\": \"NJ\", \"y\": 0.23264}, {\"x\": \"NM\", \"y\": 0.12042}, {\"x\": \"NV\", \"y\": 0.20948}, {\"x\": \"NY\", \"y\": 0.17422}, {\"x\": \"OH\", \"y\": 0.1376}, {\"x\": \"OK\", \"y\": 0.08765}, {\"x\": \"OR\", \"y\": 0.1498}, {\"x\": \"PA\", \"y\": 0.14067}, {\"x\": \"PR\", \"y\": 0.02994}, {\"x\": \"RI\", \"y\": 0.16941}, {\"x\": \"SC\", \"y\": 0.12688}, {\"x\": \"SD\", \"y\": 0.08448}, {\"x\": \"TN\", \"y\": 0.11454}, {\"x\": \"TX\", \"y\": 0.14497}, {\"x\": \"UT\", \"y\": 0.10232}, {\"x\": \"VA\", \"y\": 0.19724}, {\"x\": \"VT\", \"y\": 0.13961}, {\"x\": \"WA\", \"y\": 0.14772}, {\"x\": \"WI\", \"y\": 0.10035}, {\"x\": \"WV\", \"y\": 0.06781}, {\"x\": \"WY\", \"y\": 0.09039}]}, {\"format\": {\"feature\": \"us_states.geo\", \"type\": \"topojson\"}, \"name\": \"states\", \"transform\": [{\"as\": \"value\", \"default\": \"noval\", \"key\": \"data.properties.NAME\", \"type\": \"zip\", \"with\": \"table\", \"withKey\": \"data.x\"}, {\"test\": \"d.path!='noval' && d.value!='noval'\", \"type\": \"filter\"}, {\"projection\": \"albersUsa\", \"scale\": 900, \"translate\": [480.0, 250.0], \"type\": \"geopath\", \"value\": \"data\"}], \"url\": \"us_states.topo2.json\"}], \"height\": 500, \"legends\": [{\"fill\": \"color\", \"offset\": 0, \"properties\": {}, \"title\": \"Complaints Per Capita\"}, {\"fill\": \"color\", \"offset\": 0, \"properties\": {}, \"title\": \"Complaints Per Capita\"}], \"marks\": [{\"from\": {\"data\": \"states\"}, \"properties\": {\"enter\": {\"path\": {\"field\": \"path\"}, \"stroke\": {\"value\": \"#000000\"}}, \"update\": {\"fill\": {\"field\": \"value.data.y\", \"scale\": \"color\"}}}, \"type\": \"path\"}], \"padding\": \"auto\", \"scales\": [{\"domain\": [0.0, 0.04, 0.08, 0.12, 0.16, 0.2, 0.24, 0.28], \"name\": \"color\", \"range\": [\"#fff7f3\", \"#fde0dd\", \"#fcc5c0\", \"#fa9fb5\", \"#f768a1\", \"#dd3497\", \"#ae017e\", \"#7a0177\", \"#49006a\"], \"type\": \"threshold\"}], \"width\": 960}, function(chart) {\n",
       "         chart({el: \"#vis8c5e9b1b1f69462d97e2305fc684337b\"}).update();\n",
       "       });\n",
       "     };\n",
       "     _do_plot();\n",
       "   })();\n",
       "</script>\n",
       "<style>.vega canvas {width: 100%;}</style>\n",
       "        "
      ],
      "text/plain": [
       "<vincent.charts.Map at 0x1329b5668>"
      ]
     },
     "execution_count": 721,
     "metadata": {},
     "output_type": "execute_result"
    }
   ],
   "source": [
    "vis2.rebind(column='Per_capita_complaints', brew='RdPu')\n",
    "vis2.scales[0].type='threshold'\n",
    "vis2.scales[0].domain = [0.0, 0.04, 0.08, 0.12, 0.16, 0.2, 0.24, 0.28]\n",
    "vis2.legend(title='Complaints Per Capita')\n",
    "vis2"
   ]
  }
 ],
 "metadata": {
  "kernelspec": {
   "display_name": "Python 3",
   "language": "python",
   "name": "python3"
  },
  "language_info": {
   "codemirror_mode": {
    "name": "ipython",
    "version": 3
   },
   "file_extension": ".py",
   "mimetype": "text/x-python",
   "name": "python",
   "nbconvert_exporter": "python",
   "pygments_lexer": "ipython3",
   "version": "3.4.3"
  }
 },
 "nbformat": 4,
 "nbformat_minor": 0
}
